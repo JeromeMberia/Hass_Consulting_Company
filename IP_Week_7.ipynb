{
  "nbformat": 4,
  "nbformat_minor": 0,
  "metadata": {
    "colab": {
      "name": "IP_Week_7.ipynb",
      "provenance": [],
      "toc_visible": true,
      "authorship_tag": "ABX9TyN2V83kpRw80ExVw73DWsXW",
      "include_colab_link": true
    },
    "kernelspec": {
      "name": "python3",
      "display_name": "Python 3"
    }
  },
  "cells": [
    {
      "cell_type": "markdown",
      "metadata": {
        "id": "view-in-github",
        "colab_type": "text"
      },
      "source": [
        "<a href=\"https://colab.research.google.com/github/JeromeMberia/Hass_Consulting_Company/blob/main/IP_Week_7.ipynb\" target=\"_parent\"><img src=\"https://colab.research.google.com/assets/colab-badge.svg\" alt=\"Open In Colab\"/></a>"
      ]
    },
    {
      "cell_type": "markdown",
      "metadata": {
        "id": "8u3mlFroviWM"
      },
      "source": [
        "# IP Week 7"
      ]
    },
    {
      "cell_type": "markdown",
      "metadata": {
        "id": "1sb9_CEqxlj7"
      },
      "source": [
        "## Define the Question"
      ]
    },
    {
      "cell_type": "markdown",
      "metadata": {
        "id": "XecOwPNorl2W"
      },
      "source": [
        "### Specifying the Question"
      ]
    },
    {
      "cell_type": "markdown",
      "metadata": {
        "id": "8l3-hBO6bODP"
      },
      "source": [
        "> Here\n"
      ]
    },
    {
      "cell_type": "markdown",
      "metadata": {
        "id": "J4wfHZwQrs-t"
      },
      "source": [
        "### Defining the Metric for Success"
      ]
    },
    {
      "cell_type": "markdown",
      "metadata": {
        "id": "wlT_SuqT0MNg"
      },
      "source": [
        "> Here"
      ]
    },
    {
      "cell_type": "markdown",
      "metadata": {
        "id": "a9BPYqunry97"
      },
      "source": [
        "### Understanding the context "
      ]
    },
    {
      "cell_type": "markdown",
      "metadata": {
        "id": "AFIZ1vbp0OXo"
      },
      "source": [
        "> Here"
      ]
    },
    {
      "cell_type": "markdown",
      "metadata": {
        "id": "7KMRBJ7zr9HD"
      },
      "source": [
        "### Recording the Experimental Design"
      ]
    },
    {
      "cell_type": "markdown",
      "metadata": {
        "id": "wiiEXFO40QkJ"
      },
      "source": [
        "> Here"
      ]
    },
    {
      "cell_type": "markdown",
      "metadata": {
        "id": "zSGyg6kWsBUl"
      },
      "source": [
        "### Data Relevance"
      ]
    },
    {
      "cell_type": "markdown",
      "metadata": {
        "id": "76Dp-zC30TFg"
      },
      "source": [
        "> The dataset's give relevenat to this prediction "
      ]
    },
    {
      "cell_type": "code",
      "metadata": {
        "id": "Onfv-rPqxsbN"
      },
      "source": [
        ""
      ],
      "execution_count": null,
      "outputs": []
    },
    {
      "cell_type": "markdown",
      "metadata": {
        "id": "nBIrMYfvvoQD"
      },
      "source": [
        "## Dataset"
      ]
    },
    {
      "cell_type": "markdown",
      "metadata": {
        "id": "MlHFGoZFxt_o"
      },
      "source": [
        "### Importing the Libraries"
      ]
    },
    {
      "cell_type": "code",
      "metadata": {
        "id": "9Ja78wQOy0Pk"
      },
      "source": [
        "import pandas as pd\n",
        "import numpy as np\n",
        "import matplotlib.pyplot as plt\n",
        "import seaborn as sns"
      ],
      "execution_count": null,
      "outputs": []
    },
    {
      "cell_type": "markdown",
      "metadata": {
        "id": "_3hu0PeiyPaq"
      },
      "source": [
        "### Reading the Dataseet"
      ]
    },
    {
      "cell_type": "code",
      "metadata": {
        "id": "7ZktjoVCzdvK"
      },
      "source": [
        "df = pd.read_csv('house_data.csv')"
      ],
      "execution_count": null,
      "outputs": []
    },
    {
      "cell_type": "markdown",
      "metadata": {
        "id": "Fc3wh_uHyRde"
      },
      "source": [
        "### Checking the Dataset"
      ]
    },
    {
      "cell_type": "code",
      "metadata": {
        "colab": {
          "base_uri": "https://localhost:8080/"
        },
        "id": "TFL2D57ezyCk",
        "outputId": "f2f16732-7104-4604-e3a5-1267905a5b95"
      },
      "source": [
        "df.head()"
      ],
      "execution_count": null,
      "outputs": [
        {
          "output_type": "execute_result",
          "data": {
            "text/html": [
              "<div>\n",
              "<style scoped>\n",
              "    .dataframe tbody tr th:only-of-type {\n",
              "        vertical-align: middle;\n",
              "    }\n",
              "\n",
              "    .dataframe tbody tr th {\n",
              "        vertical-align: top;\n",
              "    }\n",
              "\n",
              "    .dataframe thead th {\n",
              "        text-align: right;\n",
              "    }\n",
              "</style>\n",
              "<table border=\"1\" class=\"dataframe\">\n",
              "  <thead>\n",
              "    <tr style=\"text-align: right;\">\n",
              "      <th></th>\n",
              "      <th>id</th>\n",
              "      <th>price</th>\n",
              "      <th>bedrooms</th>\n",
              "      <th>bathrooms</th>\n",
              "      <th>sqft_living</th>\n",
              "      <th>sqft_lot</th>\n",
              "      <th>floors</th>\n",
              "      <th>waterfront</th>\n",
              "      <th>view</th>\n",
              "      <th>condition</th>\n",
              "      <th>grade</th>\n",
              "      <th>sqft_above</th>\n",
              "      <th>sqft_basement</th>\n",
              "      <th>yr_built</th>\n",
              "      <th>yr_renovated</th>\n",
              "      <th>zipcode</th>\n",
              "      <th>lat</th>\n",
              "      <th>long</th>\n",
              "      <th>sqft_living15</th>\n",
              "      <th>sqft_lot15</th>\n",
              "    </tr>\n",
              "  </thead>\n",
              "  <tbody>\n",
              "    <tr>\n",
              "      <th>0</th>\n",
              "      <td>7129300520</td>\n",
              "      <td>221900.0</td>\n",
              "      <td>3</td>\n",
              "      <td>1.00</td>\n",
              "      <td>1180</td>\n",
              "      <td>5650</td>\n",
              "      <td>1.0</td>\n",
              "      <td>0</td>\n",
              "      <td>0</td>\n",
              "      <td>3</td>\n",
              "      <td>7</td>\n",
              "      <td>1180</td>\n",
              "      <td>0</td>\n",
              "      <td>1955</td>\n",
              "      <td>0</td>\n",
              "      <td>98178</td>\n",
              "      <td>47.5112</td>\n",
              "      <td>-122.257</td>\n",
              "      <td>1340</td>\n",
              "      <td>5650</td>\n",
              "    </tr>\n",
              "    <tr>\n",
              "      <th>1</th>\n",
              "      <td>6414100192</td>\n",
              "      <td>538000.0</td>\n",
              "      <td>3</td>\n",
              "      <td>2.25</td>\n",
              "      <td>2570</td>\n",
              "      <td>7242</td>\n",
              "      <td>2.0</td>\n",
              "      <td>0</td>\n",
              "      <td>0</td>\n",
              "      <td>3</td>\n",
              "      <td>7</td>\n",
              "      <td>2170</td>\n",
              "      <td>400</td>\n",
              "      <td>1951</td>\n",
              "      <td>1991</td>\n",
              "      <td>98125</td>\n",
              "      <td>47.7210</td>\n",
              "      <td>-122.319</td>\n",
              "      <td>1690</td>\n",
              "      <td>7639</td>\n",
              "    </tr>\n",
              "    <tr>\n",
              "      <th>2</th>\n",
              "      <td>5631500400</td>\n",
              "      <td>180000.0</td>\n",
              "      <td>2</td>\n",
              "      <td>1.00</td>\n",
              "      <td>770</td>\n",
              "      <td>10000</td>\n",
              "      <td>1.0</td>\n",
              "      <td>0</td>\n",
              "      <td>0</td>\n",
              "      <td>3</td>\n",
              "      <td>6</td>\n",
              "      <td>770</td>\n",
              "      <td>0</td>\n",
              "      <td>1933</td>\n",
              "      <td>0</td>\n",
              "      <td>98028</td>\n",
              "      <td>47.7379</td>\n",
              "      <td>-122.233</td>\n",
              "      <td>2720</td>\n",
              "      <td>8062</td>\n",
              "    </tr>\n",
              "    <tr>\n",
              "      <th>3</th>\n",
              "      <td>2487200875</td>\n",
              "      <td>604000.0</td>\n",
              "      <td>4</td>\n",
              "      <td>3.00</td>\n",
              "      <td>1960</td>\n",
              "      <td>5000</td>\n",
              "      <td>1.0</td>\n",
              "      <td>0</td>\n",
              "      <td>0</td>\n",
              "      <td>5</td>\n",
              "      <td>7</td>\n",
              "      <td>1050</td>\n",
              "      <td>910</td>\n",
              "      <td>1965</td>\n",
              "      <td>0</td>\n",
              "      <td>98136</td>\n",
              "      <td>47.5208</td>\n",
              "      <td>-122.393</td>\n",
              "      <td>1360</td>\n",
              "      <td>5000</td>\n",
              "    </tr>\n",
              "    <tr>\n",
              "      <th>4</th>\n",
              "      <td>1954400510</td>\n",
              "      <td>510000.0</td>\n",
              "      <td>3</td>\n",
              "      <td>2.00</td>\n",
              "      <td>1680</td>\n",
              "      <td>8080</td>\n",
              "      <td>1.0</td>\n",
              "      <td>0</td>\n",
              "      <td>0</td>\n",
              "      <td>3</td>\n",
              "      <td>8</td>\n",
              "      <td>1680</td>\n",
              "      <td>0</td>\n",
              "      <td>1987</td>\n",
              "      <td>0</td>\n",
              "      <td>98074</td>\n",
              "      <td>47.6168</td>\n",
              "      <td>-122.045</td>\n",
              "      <td>1800</td>\n",
              "      <td>7503</td>\n",
              "    </tr>\n",
              "  </tbody>\n",
              "</table>\n",
              "</div>"
            ],
            "text/plain": [
              "           id     price  bedrooms  ...     long  sqft_living15  sqft_lot15\n",
              "0  7129300520  221900.0         3  ... -122.257           1340        5650\n",
              "1  6414100192  538000.0         3  ... -122.319           1690        7639\n",
              "2  5631500400  180000.0         2  ... -122.233           2720        8062\n",
              "3  2487200875  604000.0         4  ... -122.393           1360        5000\n",
              "4  1954400510  510000.0         3  ... -122.045           1800        7503\n",
              "\n",
              "[5 rows x 20 columns]"
            ]
          },
          "metadata": {
            "tags": []
          },
          "execution_count": 235
        }
      ]
    },
    {
      "cell_type": "code",
      "metadata": {
        "colab": {
          "base_uri": "https://localhost:8080/"
        },
        "id": "31QtXfre0F7d",
        "outputId": "0c2a4320-427f-4bbe-b45f-3b0c776b78b6"
      },
      "source": [
        "df.tail()"
      ],
      "execution_count": null,
      "outputs": [
        {
          "output_type": "execute_result",
          "data": {
            "text/html": [
              "<div>\n",
              "<style scoped>\n",
              "    .dataframe tbody tr th:only-of-type {\n",
              "        vertical-align: middle;\n",
              "    }\n",
              "\n",
              "    .dataframe tbody tr th {\n",
              "        vertical-align: top;\n",
              "    }\n",
              "\n",
              "    .dataframe thead th {\n",
              "        text-align: right;\n",
              "    }\n",
              "</style>\n",
              "<table border=\"1\" class=\"dataframe\">\n",
              "  <thead>\n",
              "    <tr style=\"text-align: right;\">\n",
              "      <th></th>\n",
              "      <th>id</th>\n",
              "      <th>price</th>\n",
              "      <th>bedrooms</th>\n",
              "      <th>bathrooms</th>\n",
              "      <th>sqft_living</th>\n",
              "      <th>sqft_lot</th>\n",
              "      <th>floors</th>\n",
              "      <th>waterfront</th>\n",
              "      <th>view</th>\n",
              "      <th>condition</th>\n",
              "      <th>grade</th>\n",
              "      <th>sqft_above</th>\n",
              "      <th>sqft_basement</th>\n",
              "      <th>yr_built</th>\n",
              "      <th>yr_renovated</th>\n",
              "      <th>zipcode</th>\n",
              "      <th>lat</th>\n",
              "      <th>long</th>\n",
              "      <th>sqft_living15</th>\n",
              "      <th>sqft_lot15</th>\n",
              "    </tr>\n",
              "  </thead>\n",
              "  <tbody>\n",
              "    <tr>\n",
              "      <th>21608</th>\n",
              "      <td>263000018</td>\n",
              "      <td>360000.0</td>\n",
              "      <td>3</td>\n",
              "      <td>2.50</td>\n",
              "      <td>1530</td>\n",
              "      <td>1131</td>\n",
              "      <td>3.0</td>\n",
              "      <td>0</td>\n",
              "      <td>0</td>\n",
              "      <td>3</td>\n",
              "      <td>8</td>\n",
              "      <td>1530</td>\n",
              "      <td>0</td>\n",
              "      <td>2009</td>\n",
              "      <td>0</td>\n",
              "      <td>98103</td>\n",
              "      <td>47.6993</td>\n",
              "      <td>-122.346</td>\n",
              "      <td>1530</td>\n",
              "      <td>1509</td>\n",
              "    </tr>\n",
              "    <tr>\n",
              "      <th>21609</th>\n",
              "      <td>6600060120</td>\n",
              "      <td>400000.0</td>\n",
              "      <td>4</td>\n",
              "      <td>2.50</td>\n",
              "      <td>2310</td>\n",
              "      <td>5813</td>\n",
              "      <td>2.0</td>\n",
              "      <td>0</td>\n",
              "      <td>0</td>\n",
              "      <td>3</td>\n",
              "      <td>8</td>\n",
              "      <td>2310</td>\n",
              "      <td>0</td>\n",
              "      <td>2014</td>\n",
              "      <td>0</td>\n",
              "      <td>98146</td>\n",
              "      <td>47.5107</td>\n",
              "      <td>-122.362</td>\n",
              "      <td>1830</td>\n",
              "      <td>7200</td>\n",
              "    </tr>\n",
              "    <tr>\n",
              "      <th>21610</th>\n",
              "      <td>1523300141</td>\n",
              "      <td>402101.0</td>\n",
              "      <td>2</td>\n",
              "      <td>0.75</td>\n",
              "      <td>1020</td>\n",
              "      <td>1350</td>\n",
              "      <td>2.0</td>\n",
              "      <td>0</td>\n",
              "      <td>0</td>\n",
              "      <td>3</td>\n",
              "      <td>7</td>\n",
              "      <td>1020</td>\n",
              "      <td>0</td>\n",
              "      <td>2009</td>\n",
              "      <td>0</td>\n",
              "      <td>98144</td>\n",
              "      <td>47.5944</td>\n",
              "      <td>-122.299</td>\n",
              "      <td>1020</td>\n",
              "      <td>2007</td>\n",
              "    </tr>\n",
              "    <tr>\n",
              "      <th>21611</th>\n",
              "      <td>291310100</td>\n",
              "      <td>400000.0</td>\n",
              "      <td>3</td>\n",
              "      <td>2.50</td>\n",
              "      <td>1600</td>\n",
              "      <td>2388</td>\n",
              "      <td>2.0</td>\n",
              "      <td>0</td>\n",
              "      <td>0</td>\n",
              "      <td>3</td>\n",
              "      <td>8</td>\n",
              "      <td>1600</td>\n",
              "      <td>0</td>\n",
              "      <td>2004</td>\n",
              "      <td>0</td>\n",
              "      <td>98027</td>\n",
              "      <td>47.5345</td>\n",
              "      <td>-122.069</td>\n",
              "      <td>1410</td>\n",
              "      <td>1287</td>\n",
              "    </tr>\n",
              "    <tr>\n",
              "      <th>21612</th>\n",
              "      <td>1523300157</td>\n",
              "      <td>325000.0</td>\n",
              "      <td>2</td>\n",
              "      <td>0.75</td>\n",
              "      <td>1020</td>\n",
              "      <td>1076</td>\n",
              "      <td>2.0</td>\n",
              "      <td>0</td>\n",
              "      <td>0</td>\n",
              "      <td>3</td>\n",
              "      <td>7</td>\n",
              "      <td>1020</td>\n",
              "      <td>0</td>\n",
              "      <td>2008</td>\n",
              "      <td>0</td>\n",
              "      <td>98144</td>\n",
              "      <td>47.5941</td>\n",
              "      <td>-122.299</td>\n",
              "      <td>1020</td>\n",
              "      <td>1357</td>\n",
              "    </tr>\n",
              "  </tbody>\n",
              "</table>\n",
              "</div>"
            ],
            "text/plain": [
              "               id     price  bedrooms  ...     long  sqft_living15  sqft_lot15\n",
              "21608   263000018  360000.0         3  ... -122.346           1530        1509\n",
              "21609  6600060120  400000.0         4  ... -122.362           1830        7200\n",
              "21610  1523300141  402101.0         2  ... -122.299           1020        2007\n",
              "21611   291310100  400000.0         3  ... -122.069           1410        1287\n",
              "21612  1523300157  325000.0         2  ... -122.299           1020        1357\n",
              "\n",
              "[5 rows x 20 columns]"
            ]
          },
          "metadata": {
            "tags": []
          },
          "execution_count": 236
        }
      ]
    },
    {
      "cell_type": "code",
      "metadata": {
        "colab": {
          "base_uri": "https://localhost:8080/"
        },
        "id": "IAs5fXU60IqK",
        "outputId": "4e7a05f2-79b6-4937-b4dc-c63259b2e5e6"
      },
      "source": [
        "df.nunique()"
      ],
      "execution_count": null,
      "outputs": [
        {
          "output_type": "execute_result",
          "data": {
            "text/plain": [
              "id               21436\n",
              "price             3625\n",
              "bedrooms            13\n",
              "bathrooms           30\n",
              "sqft_living       1038\n",
              "sqft_lot          9782\n",
              "floors               6\n",
              "waterfront           2\n",
              "view                 5\n",
              "condition            5\n",
              "grade               12\n",
              "sqft_above         946\n",
              "sqft_basement      306\n",
              "yr_built           116\n",
              "yr_renovated        70\n",
              "zipcode             70\n",
              "lat               5034\n",
              "long               752\n",
              "sqft_living15      777\n",
              "sqft_lot15        8689\n",
              "dtype: int64"
            ]
          },
          "metadata": {
            "tags": []
          },
          "execution_count": 237
        }
      ]
    },
    {
      "cell_type": "code",
      "metadata": {
        "colab": {
          "base_uri": "https://localhost:8080/"
        },
        "id": "WS4Ghc3C0QuC",
        "outputId": "bc6d5005-6075-4124-d580-a3ad748f180a"
      },
      "source": [
        "df.columns"
      ],
      "execution_count": null,
      "outputs": [
        {
          "output_type": "execute_result",
          "data": {
            "text/plain": [
              "Index(['id', 'price', 'bedrooms', 'bathrooms', 'sqft_living', 'sqft_lot',\n",
              "       'floors', 'waterfront', 'view', 'condition', 'grade', 'sqft_above',\n",
              "       'sqft_basement', 'yr_built', 'yr_renovated', 'zipcode', 'lat', 'long',\n",
              "       'sqft_living15', 'sqft_lot15'],\n",
              "      dtype='object')"
            ]
          },
          "metadata": {
            "tags": []
          },
          "execution_count": 238
        }
      ]
    },
    {
      "cell_type": "code",
      "metadata": {
        "colab": {
          "base_uri": "https://localhost:8080/"
        },
        "id": "9w-z3LD1158_",
        "outputId": "b7cb5062-d975-489d-a273-9a674a37a2f7"
      },
      "source": [
        "rows = df.shape[0]\n",
        "columns = df.shape[1]\n",
        "print(f'{columns} columns and {rows} rows')"
      ],
      "execution_count": null,
      "outputs": [
        {
          "output_type": "stream",
          "text": [
            "20 columns and 21613 rows\n"
          ],
          "name": "stdout"
        }
      ]
    },
    {
      "cell_type": "code",
      "metadata": {
        "colab": {
          "base_uri": "https://localhost:8080/"
        },
        "id": "BXTTN0dX1-nF",
        "outputId": "c5c706c9-73f7-4503-a9de-3d5500dd6250"
      },
      "source": [
        "df.describe()"
      ],
      "execution_count": null,
      "outputs": [
        {
          "output_type": "execute_result",
          "data": {
            "text/html": [
              "<div>\n",
              "<style scoped>\n",
              "    .dataframe tbody tr th:only-of-type {\n",
              "        vertical-align: middle;\n",
              "    }\n",
              "\n",
              "    .dataframe tbody tr th {\n",
              "        vertical-align: top;\n",
              "    }\n",
              "\n",
              "    .dataframe thead th {\n",
              "        text-align: right;\n",
              "    }\n",
              "</style>\n",
              "<table border=\"1\" class=\"dataframe\">\n",
              "  <thead>\n",
              "    <tr style=\"text-align: right;\">\n",
              "      <th></th>\n",
              "      <th>id</th>\n",
              "      <th>price</th>\n",
              "      <th>bedrooms</th>\n",
              "      <th>bathrooms</th>\n",
              "      <th>sqft_living</th>\n",
              "      <th>sqft_lot</th>\n",
              "      <th>floors</th>\n",
              "      <th>waterfront</th>\n",
              "      <th>view</th>\n",
              "      <th>condition</th>\n",
              "      <th>grade</th>\n",
              "      <th>sqft_above</th>\n",
              "      <th>sqft_basement</th>\n",
              "      <th>yr_built</th>\n",
              "      <th>yr_renovated</th>\n",
              "      <th>zipcode</th>\n",
              "      <th>lat</th>\n",
              "      <th>long</th>\n",
              "      <th>sqft_living15</th>\n",
              "      <th>sqft_lot15</th>\n",
              "    </tr>\n",
              "  </thead>\n",
              "  <tbody>\n",
              "    <tr>\n",
              "      <th>count</th>\n",
              "      <td>2.161300e+04</td>\n",
              "      <td>2.161300e+04</td>\n",
              "      <td>21613.000000</td>\n",
              "      <td>21613.000000</td>\n",
              "      <td>21613.000000</td>\n",
              "      <td>2.161300e+04</td>\n",
              "      <td>21613.000000</td>\n",
              "      <td>21613.000000</td>\n",
              "      <td>21613.000000</td>\n",
              "      <td>21613.000000</td>\n",
              "      <td>21613.000000</td>\n",
              "      <td>21613.000000</td>\n",
              "      <td>21613.000000</td>\n",
              "      <td>21613.000000</td>\n",
              "      <td>21613.000000</td>\n",
              "      <td>21613.000000</td>\n",
              "      <td>21613.000000</td>\n",
              "      <td>21613.000000</td>\n",
              "      <td>21613.000000</td>\n",
              "      <td>21613.000000</td>\n",
              "    </tr>\n",
              "    <tr>\n",
              "      <th>mean</th>\n",
              "      <td>4.580302e+09</td>\n",
              "      <td>5.401822e+05</td>\n",
              "      <td>3.370842</td>\n",
              "      <td>2.114757</td>\n",
              "      <td>2079.899736</td>\n",
              "      <td>1.510697e+04</td>\n",
              "      <td>1.494309</td>\n",
              "      <td>0.007542</td>\n",
              "      <td>0.234303</td>\n",
              "      <td>3.409430</td>\n",
              "      <td>7.656873</td>\n",
              "      <td>1788.390691</td>\n",
              "      <td>291.509045</td>\n",
              "      <td>1971.005136</td>\n",
              "      <td>84.402258</td>\n",
              "      <td>98077.939805</td>\n",
              "      <td>47.560053</td>\n",
              "      <td>-122.213896</td>\n",
              "      <td>1986.552492</td>\n",
              "      <td>12768.455652</td>\n",
              "    </tr>\n",
              "    <tr>\n",
              "      <th>std</th>\n",
              "      <td>2.876566e+09</td>\n",
              "      <td>3.673622e+05</td>\n",
              "      <td>0.930062</td>\n",
              "      <td>0.770163</td>\n",
              "      <td>918.440897</td>\n",
              "      <td>4.142051e+04</td>\n",
              "      <td>0.539989</td>\n",
              "      <td>0.086517</td>\n",
              "      <td>0.766318</td>\n",
              "      <td>0.650743</td>\n",
              "      <td>1.175459</td>\n",
              "      <td>828.090978</td>\n",
              "      <td>442.575043</td>\n",
              "      <td>29.373411</td>\n",
              "      <td>401.679240</td>\n",
              "      <td>53.505026</td>\n",
              "      <td>0.138564</td>\n",
              "      <td>0.140828</td>\n",
              "      <td>685.391304</td>\n",
              "      <td>27304.179631</td>\n",
              "    </tr>\n",
              "    <tr>\n",
              "      <th>min</th>\n",
              "      <td>1.000102e+06</td>\n",
              "      <td>7.500000e+04</td>\n",
              "      <td>0.000000</td>\n",
              "      <td>0.000000</td>\n",
              "      <td>290.000000</td>\n",
              "      <td>5.200000e+02</td>\n",
              "      <td>1.000000</td>\n",
              "      <td>0.000000</td>\n",
              "      <td>0.000000</td>\n",
              "      <td>1.000000</td>\n",
              "      <td>1.000000</td>\n",
              "      <td>290.000000</td>\n",
              "      <td>0.000000</td>\n",
              "      <td>1900.000000</td>\n",
              "      <td>0.000000</td>\n",
              "      <td>98001.000000</td>\n",
              "      <td>47.155900</td>\n",
              "      <td>-122.519000</td>\n",
              "      <td>399.000000</td>\n",
              "      <td>651.000000</td>\n",
              "    </tr>\n",
              "    <tr>\n",
              "      <th>25%</th>\n",
              "      <td>2.123049e+09</td>\n",
              "      <td>3.219500e+05</td>\n",
              "      <td>3.000000</td>\n",
              "      <td>1.750000</td>\n",
              "      <td>1427.000000</td>\n",
              "      <td>5.040000e+03</td>\n",
              "      <td>1.000000</td>\n",
              "      <td>0.000000</td>\n",
              "      <td>0.000000</td>\n",
              "      <td>3.000000</td>\n",
              "      <td>7.000000</td>\n",
              "      <td>1190.000000</td>\n",
              "      <td>0.000000</td>\n",
              "      <td>1951.000000</td>\n",
              "      <td>0.000000</td>\n",
              "      <td>98033.000000</td>\n",
              "      <td>47.471000</td>\n",
              "      <td>-122.328000</td>\n",
              "      <td>1490.000000</td>\n",
              "      <td>5100.000000</td>\n",
              "    </tr>\n",
              "    <tr>\n",
              "      <th>50%</th>\n",
              "      <td>3.904930e+09</td>\n",
              "      <td>4.500000e+05</td>\n",
              "      <td>3.000000</td>\n",
              "      <td>2.250000</td>\n",
              "      <td>1910.000000</td>\n",
              "      <td>7.618000e+03</td>\n",
              "      <td>1.500000</td>\n",
              "      <td>0.000000</td>\n",
              "      <td>0.000000</td>\n",
              "      <td>3.000000</td>\n",
              "      <td>7.000000</td>\n",
              "      <td>1560.000000</td>\n",
              "      <td>0.000000</td>\n",
              "      <td>1975.000000</td>\n",
              "      <td>0.000000</td>\n",
              "      <td>98065.000000</td>\n",
              "      <td>47.571800</td>\n",
              "      <td>-122.230000</td>\n",
              "      <td>1840.000000</td>\n",
              "      <td>7620.000000</td>\n",
              "    </tr>\n",
              "    <tr>\n",
              "      <th>75%</th>\n",
              "      <td>7.308900e+09</td>\n",
              "      <td>6.450000e+05</td>\n",
              "      <td>4.000000</td>\n",
              "      <td>2.500000</td>\n",
              "      <td>2550.000000</td>\n",
              "      <td>1.068800e+04</td>\n",
              "      <td>2.000000</td>\n",
              "      <td>0.000000</td>\n",
              "      <td>0.000000</td>\n",
              "      <td>4.000000</td>\n",
              "      <td>8.000000</td>\n",
              "      <td>2210.000000</td>\n",
              "      <td>560.000000</td>\n",
              "      <td>1997.000000</td>\n",
              "      <td>0.000000</td>\n",
              "      <td>98118.000000</td>\n",
              "      <td>47.678000</td>\n",
              "      <td>-122.125000</td>\n",
              "      <td>2360.000000</td>\n",
              "      <td>10083.000000</td>\n",
              "    </tr>\n",
              "    <tr>\n",
              "      <th>max</th>\n",
              "      <td>9.900000e+09</td>\n",
              "      <td>7.700000e+06</td>\n",
              "      <td>33.000000</td>\n",
              "      <td>8.000000</td>\n",
              "      <td>13540.000000</td>\n",
              "      <td>1.651359e+06</td>\n",
              "      <td>3.500000</td>\n",
              "      <td>1.000000</td>\n",
              "      <td>4.000000</td>\n",
              "      <td>5.000000</td>\n",
              "      <td>13.000000</td>\n",
              "      <td>9410.000000</td>\n",
              "      <td>4820.000000</td>\n",
              "      <td>2015.000000</td>\n",
              "      <td>2015.000000</td>\n",
              "      <td>98199.000000</td>\n",
              "      <td>47.777600</td>\n",
              "      <td>-121.315000</td>\n",
              "      <td>6210.000000</td>\n",
              "      <td>871200.000000</td>\n",
              "    </tr>\n",
              "  </tbody>\n",
              "</table>\n",
              "</div>"
            ],
            "text/plain": [
              "                 id         price  ...  sqft_living15     sqft_lot15\n",
              "count  2.161300e+04  2.161300e+04  ...   21613.000000   21613.000000\n",
              "mean   4.580302e+09  5.401822e+05  ...    1986.552492   12768.455652\n",
              "std    2.876566e+09  3.673622e+05  ...     685.391304   27304.179631\n",
              "min    1.000102e+06  7.500000e+04  ...     399.000000     651.000000\n",
              "25%    2.123049e+09  3.219500e+05  ...    1490.000000    5100.000000\n",
              "50%    3.904930e+09  4.500000e+05  ...    1840.000000    7620.000000\n",
              "75%    7.308900e+09  6.450000e+05  ...    2360.000000   10083.000000\n",
              "max    9.900000e+09  7.700000e+06  ...    6210.000000  871200.000000\n",
              "\n",
              "[8 rows x 20 columns]"
            ]
          },
          "metadata": {
            "tags": []
          },
          "execution_count": 240
        }
      ]
    },
    {
      "cell_type": "code",
      "metadata": {
        "colab": {
          "base_uri": "https://localhost:8080/"
        },
        "id": "x3Ih6KYU2H0b",
        "outputId": "45ecbf48-944c-4d57-f838-cc3330ddfe05"
      },
      "source": [
        "df.info()"
      ],
      "execution_count": null,
      "outputs": [
        {
          "output_type": "stream",
          "text": [
            "<class 'pandas.core.frame.DataFrame'>\n",
            "RangeIndex: 21613 entries, 0 to 21612\n",
            "Data columns (total 20 columns):\n",
            " #   Column         Non-Null Count  Dtype  \n",
            "---  ------         --------------  -----  \n",
            " 0   id             21613 non-null  int64  \n",
            " 1   price          21613 non-null  float64\n",
            " 2   bedrooms       21613 non-null  int64  \n",
            " 3   bathrooms      21613 non-null  float64\n",
            " 4   sqft_living    21613 non-null  int64  \n",
            " 5   sqft_lot       21613 non-null  int64  \n",
            " 6   floors         21613 non-null  float64\n",
            " 7   waterfront     21613 non-null  int64  \n",
            " 8   view           21613 non-null  int64  \n",
            " 9   condition      21613 non-null  int64  \n",
            " 10  grade          21613 non-null  int64  \n",
            " 11  sqft_above     21613 non-null  int64  \n",
            " 12  sqft_basement  21613 non-null  int64  \n",
            " 13  yr_built       21613 non-null  int64  \n",
            " 14  yr_renovated   21613 non-null  int64  \n",
            " 15  zipcode        21613 non-null  int64  \n",
            " 16  lat            21613 non-null  float64\n",
            " 17  long           21613 non-null  float64\n",
            " 18  sqft_living15  21613 non-null  int64  \n",
            " 19  sqft_lot15     21613 non-null  int64  \n",
            "dtypes: float64(5), int64(15)\n",
            "memory usage: 3.3 MB\n"
          ],
          "name": "stdout"
        }
      ]
    },
    {
      "cell_type": "code",
      "metadata": {
        "colab": {
          "base_uri": "https://localhost:8080/"
        },
        "id": "fAJzwJaD2K0e",
        "outputId": "a0ae6e33-4d61-46ec-aed0-e86a8e85da87"
      },
      "source": [
        "df.dtypes"
      ],
      "execution_count": null,
      "outputs": [
        {
          "output_type": "execute_result",
          "data": {
            "text/plain": [
              "id                 int64\n",
              "price            float64\n",
              "bedrooms           int64\n",
              "bathrooms        float64\n",
              "sqft_living        int64\n",
              "sqft_lot           int64\n",
              "floors           float64\n",
              "waterfront         int64\n",
              "view               int64\n",
              "condition          int64\n",
              "grade              int64\n",
              "sqft_above         int64\n",
              "sqft_basement      int64\n",
              "yr_built           int64\n",
              "yr_renovated       int64\n",
              "zipcode            int64\n",
              "lat              float64\n",
              "long             float64\n",
              "sqft_living15      int64\n",
              "sqft_lot15         int64\n",
              "dtype: object"
            ]
          },
          "metadata": {
            "tags": []
          },
          "execution_count": 242
        }
      ]
    },
    {
      "cell_type": "code",
      "metadata": {
        "colab": {
          "base_uri": "https://localhost:8080/"
        },
        "id": "tKQUlvCK1Gm5",
        "outputId": "e25ede1a-4f5c-4a06-c178-4e4a0137dcfd"
      },
      "source": [
        "col = list(df.columns)\n",
        "for i in col:\n",
        "  print(f'{i}')\n",
        "  print('')\n",
        "  print(df[i].unique())\n",
        "  print('****************************************************************************')\n",
        "  print('')"
      ],
      "execution_count": null,
      "outputs": [
        {
          "output_type": "stream",
          "text": [
            "id\n",
            "\n",
            "[7129300520 6414100192 5631500400 ... 1523300141  291310100 1523300157]\n",
            "****************************************************************************\n",
            "\n",
            "price\n",
            "\n",
            "[221900. 538000. 180000. ... 541800. 610685. 402101.]\n",
            "****************************************************************************\n",
            "\n",
            "bedrooms\n",
            "\n",
            "[ 3  2  4  5  1  6  7  0  8  9 11 10 33]\n",
            "****************************************************************************\n",
            "\n",
            "bathrooms\n",
            "\n",
            "[1.   2.25 3.   2.   4.5  1.5  2.5  1.75 2.75 3.25 4.   3.5  0.75 4.75\n",
            " 5.   4.25 3.75 0.   1.25 5.25 6.   0.5  5.5  6.75 5.75 8.   7.5  7.75\n",
            " 6.25 6.5 ]\n",
            "****************************************************************************\n",
            "\n",
            "sqft_living\n",
            "\n",
            "[1180 2570  770 ... 3087 3118 1425]\n",
            "****************************************************************************\n",
            "\n",
            "sqft_lot\n",
            "\n",
            "[ 5650  7242 10000 ...  5813  2388  1076]\n",
            "****************************************************************************\n",
            "\n",
            "floors\n",
            "\n",
            "[1.  2.  1.5 3.  2.5 3.5]\n",
            "****************************************************************************\n",
            "\n",
            "waterfront\n",
            "\n",
            "[0 1]\n",
            "****************************************************************************\n",
            "\n",
            "view\n",
            "\n",
            "[0 3 4 2 1]\n",
            "****************************************************************************\n",
            "\n",
            "condition\n",
            "\n",
            "[3 5 4 1 2]\n",
            "****************************************************************************\n",
            "\n",
            "grade\n",
            "\n",
            "[ 7  6  8 11  9  5 10 12  4  3 13  1]\n",
            "****************************************************************************\n",
            "\n",
            "sqft_above\n",
            "\n",
            "[1180 2170  770 1050 1680 3890 1715 1060 1890 1860  860 1430 1370 1810\n",
            " 1980 1600 1200 1250 2330 2270 1070 2450 1710 1750 1400  790 2570 2320\n",
            " 1190 1510 1090 1280  930 2360  890 2620 2600 3595 1570  920 3160  990\n",
            " 2290 2165 1640 1000 2130 2830 2250 2420 3250 1850 1590 1260 2519 1540\n",
            " 1110 1770 2720 2240 3070 2380 2390  880 1040  910 3450 2350 1900 1010\n",
            "  960 2660 1610  765 3520 1290 1960 1160 1210 1270 1440 2190 2920 1460\n",
            " 1170 1240 3140 2030 2310  700 1080 2520 2780 1560 1450 1720 2910 1620\n",
            " 1360 2070 2460 1390 2140 1320 1340 1550  940 1380 3670 2370 1130  980\n",
            " 3540 2500 1760 1030 1780 3400 2680 1670 2590  820 1220 2440 2090 1100\n",
            " 1330 1420 1690 2150 1910 1350 1940  900 1630 2714  850 1870 1950 2760\n",
            " 2020 1120 1480 1230 2280 3760 3530  830 1300 2740 1830  720 2010 3360\n",
            "  800 1730  760 1700 4750 5310  580 2653 2850 2210 2630 3500 1740 1140\n",
            " 2160 2650  970 2040 2180 2220 1660 3370 2690 1930 3150 3030 2050 2490\n",
            " 2560 1275 2580  560 1820 1840 2990 3230 1580 3480 2510 1410 2120 3300\n",
            " 3840 1500 1530 2840  833 2000 6070  950 2200 4040 1920 1490 3470 3130\n",
            " 2610 3260 2260  430 3390  630 4860 3860 2810  870 3180 2770 4030 4410\n",
            " 2400 1520 3040 6050 4740 1970 5403 3350 3580 1790  750 2860 2750 2340\n",
            " 2870 4120 3200 2550 1805 4150 1384 2060 2110 3590 2100 2540 1880 1150\n",
            " 1470 1255 1800 4370 3190 2730 4570 2470  670 2900 4670 4230 2156 1020\n",
            " 2940 2640 2710 3100 3610 4270  840 3090 2300  380 2480 3460 3060 3064\n",
            " 3000 1654 2790 1310 2230 2430 3680 2670 2208  810  740 1422  490 2080\n",
            " 3440 5670 4475  730 3410 3010  600 2960 3570 4300 3990  780 3020 5990\n",
            "  440 4460 4190 2800 2530 1650 3690 2932 3720 4250 3110 2963 4930 2950\n",
            " 5000 2452 2820 1981  640 2495 2403 5320 6720  660 2341 4210 3830 3280\n",
            " 2980 5153 1990 1646  610  710 5450 3504 3210 1782 2930  590 4280  680\n",
            " 3880 3430 3750 4130 5710 3380 3330 4700 3220 3362 3510 3810  620 4490\n",
            " 2410 3050 1008 3488 4070 3420 5770 1605  520 1088 3555 4360 3960 2700\n",
            " 4340 1552 3850 2303 3270 4350 3640 2174 4160 2496 5180 5130 6350 3770\n",
            " 2153 3780 2890 1714 2201 2970  992 3950 3527 2835 3915 1427 4870 3340\n",
            " 3620 4310 3930 4080 5400  570 3310 6110 3320 3490 3859 3710 1798 4600\n",
            " 3560 3940 3600 3800 1105 2305 3290 5050 1556 1553 4000 1657 3001 4220\n",
            "  480 3120 3740  530 3700 5230 5370 3080 4140 4430 3550 1159 1288 2880\n",
            " 4610 1122 3052 1479 7680 3820 1934 5080 2675 2506 5760 2154 4390 3240\n",
            " 1995 1689 2782 2395 4400 6200 3526 4320 2483 4380 4580 4180 2064 3650\n",
            " 1726 2019 4240 1256  500 1355 1747 1678 1833 1414 4115 3597 3170  390\n",
            " 1976 5830 2601 3920 2641 5070 2518 3910 3660 3695 4020 2803 2074 2038\n",
            " 4060 4890 2329 1264 1095  690 4090 1392 2844  902 4560 2811 4720 2168\n",
            " 5610 2683 4900 2095 4290 4050 4260 4440 6220 1175  998 2356 4500 3900\n",
            " 3831 1315 4470 4810 2286 2927 4760 8570 5140 1679 1811 2849 1676 1757\n",
            " 3730 2441 2163 5250 2795 2415 3970 4200 1068 5240 1509 1954 4820 1651\n",
            " 4100 1752 3630 2885 3154 1129 2632 1996 4010  550  410 6430 3790 2031\n",
            " 1652 2434 3316 1899 2331 2497 2216 4170 1341 1961 5584 8860 2507 5220\n",
            " 4850 5844 5530 2145  650 1982 4910 3605 1778 1463 2783 1946 1358 3870\n",
            " 1864 1845 6290 3980 2382 2979 3674 2726 5440 1295 2115 6085 3265 3136\n",
            " 6640 4620 3361 2245 2242 1078 2577 1329  420 4330 1975 7420 1788 2299\n",
            " 1092 4225 1087 1904  470 2966 2192 2253 5550 4133 4285 1216  540 9410\n",
            " 2075 5330 2166 1628 1808 1352 2557 6380 7880 2734 1363 1769 2093 1677\n",
            " 2588 5190 2298 1491 2961 5020 5980 4540  844 6120 2233 4480 4110 4770\n",
            " 2473  995 5160 1494 2007 1048 3002 4780 2155 2014 4980 2665 4830 4790\n",
            " 5010  370 2105 3006 3004 2689 4660 1746 2678 2755 2414  901 4630 2068\n",
            " 2807 2643 2181 4510 4420 1604 1435 3045 2717 2905 4940 5110 2533 6660\n",
            " 3485 2659 5090 2375 1964  866 1595  944 5480  809 5040 1764 1656 1802\n",
            "  460 2692 1544 2044 1212 4083 8020 3905 1502 4590  384 2092 6090 1615\n",
            " 7320 1396 1484 1765 5490 1453 1643 5300 1381 4065  290 1313 5430 1397\n",
            " 2793 2475 1936 3028  798 2575 3276 1584 2393 2029 3222 1072 1785 1984\n",
            "  962 2423 2052 2538 2437 2789 2906 4800 7850 2196 1847 2658 2655 3855\n",
            " 1728  963 2223 1611 2015 2448 1489 1116 3745 1002 3202 1347 1481 2311\n",
            " 2544 2584 2217 3569 3181 1921 2612 2671 2598 3284 3266 1076 2594 2718\n",
            " 1794 2481 3845 1413 1876 3148 2413 1767 5060  806 2547 1834 2024 1165\n",
            " 2134 1741 2798 1852 2099 3216 1094 2891 2432 2283 2701 1658  893 2009\n",
            " 1444 2744 3078 3065 1578 2815 4960 1571 6530 4640 1536 3172 6370 3223\n",
            " 1608 2229 3135 1408 1763 4840 1232 2502 2424 1296 1914  988 3828 3056\n",
            " 2267 1131 2796 1812 1084 2025 1564 1239 2568 1528 2628 2185 2478 2669\n",
            " 1912 2828 2425 1446 3206 2406 1419 2056 1144 2456 4950 3192  828 2529\n",
            " 2732 1987 3906 4073 2578 2738 3691 1061 2846 2542 1889 3336 3236 1451\n",
            " 1983 2313 1824 1322 1766 2301 3274 1108 2864 2716 1572 3281 2656 2398\n",
            " 1867 1613 2587 2623  894 1606 2244 2026 2238 2517 2708 2555 1405 4450\n",
            " 1248 6420 2531 1333 2198 3087 3118 1425]\n",
            "****************************************************************************\n",
            "\n",
            "sqft_basement\n",
            "\n",
            "[   0  400  910 1530  730 1700  300  970  760  720  700  820  780  790\n",
            "  330 1620  360  588 1510  410  990  600  560  550 1000 1600  500 1040\n",
            "  880 1010  240  265  290  800  540  380  710  840  770  480  570 1490\n",
            "  620 1250 1270  120  650  180 1130  450 1640 1460 1020 1030  750  640\n",
            " 1070  490 1310  630 2000  390  430  850  210 1430 1950  440  220 1160\n",
            "  860  580 2060 1820 1180  200 1150 1200  680  530 1450 1170 1080  960\n",
            " 1100  280  870  460 1400 1320  660 1220  900  420 1580 1380  475  690\n",
            "  270  350  935 1370  980 1470  160  950   50  740 1780 1900  340  470\n",
            "  370  140 1760  130  610  520  890 1110  150 1720  810  190 1290  670\n",
            " 1800 1120 1810   60 1050  940  310  930 1390 1830 1300  510 1330 1590\n",
            "  920 1420 1240 1960 1560 2020 1190 2110 1280  250 2390 1230  170  830\n",
            " 1260 1410 1340  590 1500 1140  260  100  320 1480 1060 1284 1670 1350\n",
            " 2570 2590 1090  110 2500   90 1940 1550 2350 2490 1481 1360 1135 1520\n",
            " 1850 1660 2130 2600 1690  243 1210 2620 1024 1798 1610 1440 1570 1650\n",
            "  704 1910 1630 2360 1852 2090 2400 1790 2150  230   70 1680 2100 3000\n",
            " 1870 1710 2030  875 1540 2850 2170  506  906  145 2040  784 1750  374\n",
            "  518 2720 2730 1840 3480 2160 1920 2330 1860 2050 4820 1913   80 2010\n",
            " 3260 2200  415 1730  652 2196 1930  515   40 2080 2580 1548 1740  235\n",
            "  861 1890 2220  792 2070 4130 2250 2240  894 1990  768 2550  435 1008\n",
            " 2300 2610  666 3500  172 1816 2190 1245 1525 1880  862  946 1281  414\n",
            " 2180  276 1248  602  516  176  225 1275  266  283   65 2310   10 1770\n",
            " 2120  295  207  915  556  417  143  508 2810   20  274  248]\n",
            "****************************************************************************\n",
            "\n",
            "yr_built\n",
            "\n",
            "[1955 1951 1933 1965 1987 2001 1995 1963 1960 2003 1942 1927 1977 1900\n",
            " 1979 1994 1916 1921 1969 1947 1968 1985 1941 1915 1909 1948 2005 1929\n",
            " 1981 1930 1904 1996 2000 1984 2014 1922 1959 1966 1953 1950 2008 1991\n",
            " 1954 1973 1925 1989 1972 1986 1956 2002 1992 1964 1952 1961 2006 1988\n",
            " 1962 1939 1946 1967 1975 1980 1910 1983 1978 1905 1971 2010 1945 1924\n",
            " 1990 1914 1926 2004 1923 2007 1976 1949 1999 1901 1993 1920 1997 1943\n",
            " 1957 1940 1918 1928 1974 1911 1936 1937 1982 1908 1931 1998 1913 2013\n",
            " 1907 1958 2012 1912 2011 1917 1932 1944 1902 2009 1903 1970 2015 1934\n",
            " 1938 1919 1906 1935]\n",
            "****************************************************************************\n",
            "\n",
            "yr_renovated\n",
            "\n",
            "[   0 1991 2002 2010 1999 1992 2013 1994 1978 2005 2008 2003 1984 1954\n",
            " 2014 2011 1974 1983 1945 1990 1988 1957 1977 1981 1995 2000 1998 1970\n",
            " 1989 2004 1986 2009 2007 1987 1973 2006 1985 2001 1980 1971 1979 1997\n",
            " 1950 1969 1948 2015 1968 2012 1963 1951 1993 1962 1996 1972 1953 1955\n",
            " 1982 1956 1940 1976 1946 1975 1958 1964 1959 1960 1967 1965 1934 1944]\n",
            "****************************************************************************\n",
            "\n",
            "zipcode\n",
            "\n",
            "[98178 98125 98028 98136 98074 98053 98003 98198 98146 98038 98007 98115\n",
            " 98107 98126 98019 98103 98002 98133 98040 98092 98030 98119 98112 98052\n",
            " 98027 98117 98058 98001 98056 98166 98023 98070 98148 98105 98042 98008\n",
            " 98059 98122 98144 98004 98005 98034 98075 98116 98010 98118 98199 98032\n",
            " 98045 98102 98077 98108 98168 98177 98065 98029 98006 98109 98022 98033\n",
            " 98155 98024 98011 98031 98106 98072 98188 98014 98055 98039]\n",
            "****************************************************************************\n",
            "\n",
            "lat\n",
            "\n",
            "[47.5112 47.721  47.7379 ... 47.3906 47.3339 47.6502]\n",
            "****************************************************************************\n",
            "\n",
            "long\n",
            "\n",
            "[-122.257 -122.319 -122.233 -122.393 -122.045 -122.005 -122.327 -122.315\n",
            " -122.337 -122.031 -122.145 -122.292 -122.229 -122.394 -122.375 -121.962\n",
            " -122.343 -122.21  -122.306 -122.341 -122.169 -122.166 -122.172 -122.218\n",
            " -122.36  -122.314 -122.304 -122.11  -122.07  -122.357 -122.368 -122.157\n",
            " -122.31  -122.132 -122.362 -122.282 -122.18  -122.027 -122.347 -122.016\n",
            " -122.364 -122.175 -121.977 -122.371 -122.151 -122.301 -122.451 -122.322\n",
            " -122.189 -122.384 -122.369 -122.281 -122.29  -122.114 -122.122 -122.116\n",
            " -122.149 -122.339 -122.335 -122.344 -122.32  -122.297 -122.192 -122.215\n",
            " -122.16  -122.179 -122.287 -122.036 -122.073 -121.987 -122.125 -122.34\n",
            " -122.025 -122.008 -122.291 -122.365 -122.199 -122.194 -122.387 -122.372\n",
            " -122.391 -122.351 -122.386 -122.249 -122.277 -122.378 -121.958 -121.714\n",
            " -122.08  -122.196 -122.184 -122.133 -122.38  -122.082 -122.109 -122.053\n",
            " -122.349 -122.295 -122.253 -122.248 -122.303 -122.294 -122.226 -122.266\n",
            " -122.098 -122.212 -122.244 -122.39  -122.352 -121.85  -122.152 -122.054\n",
            " -122.072 -121.998 -122.296 -122.299 -122.381 -122.358 -122.128 -122.171\n",
            " -122.174 -122.026 -122.353 -121.943 -122.286 -122.336 -122.359 -122.162\n",
            " -122.3   -122.176 -121.996 -122.118 -122.193 -122.023 -122.224 -122.168\n",
            " -122.231 -122.331 -122.374 -122.182 -122.308 -122.307 -121.999 -122.376\n",
            " -122.2   -122.039 -122.102 -122.188 -122.379 -122.043 -122.153 -122.191\n",
            " -122.219 -122.312 -121.911 -121.994 -122.165 -122.37  -122.158 -122.047\n",
            " -122.284 -122.017 -122.275 -122.268 -122.367 -122.217 -122.373 -122.013\n",
            " -122.214 -122.034 -122.164 -121.899 -122.183 -121.95  -122.324 -122.216\n",
            " -122.395 -122.213 -122.345 -122.278 -122.111 -121.711 -122.27  -122.178\n",
            " -122.147 -121.772 -122.302 -122.438 -122.223 -122.042 -122.323 -122.255\n",
            " -122.4   -122.261 -122.071 -122.206 -122.272 -122.23  -122.144 -122.143\n",
            " -122.181 -122.154 -122.311 -122.274 -122.077 -122.    -122.298 -122.058\n",
            " -121.837 -122.333 -122.057 -122.252 -122.093 -122.012 -122.052 -122.354\n",
            " -122.22  -122.49  -121.875 -122.24  -122.078 -122.173 -121.854 -122.222\n",
            " -122.28  -122.137 -122.159 -121.974 -122.141 -122.029 -121.709 -122.19\n",
            " -121.97  -122.329 -122.195 -122.06  -121.959 -122.095 -122.148 -122.146\n",
            " -122.35  -121.901 -122.241 -122.129 -122.289 -122.305 -122.022 -122.385\n",
            " -121.779 -122.032 -122.402 -122.482 -122.227 -121.982 -122.161 -122.046\n",
            " -122.156 -122.127 -122.33  -122.197 -122.041 -122.103 -122.318 -122.382\n",
            " -122.271 -121.955 -122.211 -122.262 -122.258 -122.121 -122.221 -122.234\n",
            " -122.089 -122.123 -122.167 -121.909 -122.107 -122.064 -122.066 -122.062\n",
            " -122.264 -122.186 -122.087 -121.88  -121.864 -122.205 -122.363 -122.139\n",
            " -122.018 -122.225 -122.285 -122.084 -122.177 -122.056 -122.316 -122.021\n",
            " -122.348 -122.009 -122.131 -122.411 -122.198 -122.256 -122.117 -122.097\n",
            " -122.075 -121.845 -122.083 -122.259 -121.87  -122.015 -122.007 -121.86\n",
            " -122.409 -121.755 -121.972 -122.251 -122.317 -121.776 -122.115 -122.283\n",
            " -122.242 -122.001 -122.024 -122.309 -122.113 -121.771 -122.239 -122.273\n",
            " -122.396 -122.094 -122.267 -122.326 -122.13  -122.269 -121.853 -122.05\n",
            " -122.346 -122.076 -121.826 -122.124 -121.758 -122.202 -121.785 -121.872\n",
            " -122.006 -122.004 -122.321 -121.882 -122.101 -122.03  -122.185 -122.1\n",
            " -121.759 -121.965 -122.201 -122.366 -122.313 -122.405 -122.02  -122.279\n",
            " -122.355 -121.934 -122.15  -122.356 -121.993 -122.044 -122.134 -121.867\n",
            " -122.01  -121.991 -122.011 -121.983 -122.228 -122.033 -122.276 -122.119\n",
            " -121.937 -122.361 -122.325 -122.203 -122.136 -122.237 -122.209 -122.049\n",
            " -122.288 -122.106 -122.037 -122.207 -122.263 -121.915 -122.204 -122.09\n",
            " -122.069 -121.852 -121.787 -121.976 -122.377 -122.059 -122.383 -121.989\n",
            " -122.019 -122.208 -121.878 -122.328 -122.25  -122.338 -122.388 -122.265\n",
            " -122.332 -122.399 -122.397 -122.014 -121.956 -122.092 -122.028 -122.293\n",
            " -122.12  -122.035 -122.14  -122.04  -122.112 -121.906 -122.17  -122.238\n",
            " -122.512 -121.997 -121.89  -122.463 -121.908 -122.086 -122.389 -121.913\n",
            " -122.163 -121.918 -122.108 -122.502 -122.392 -122.236 -121.859 -121.981\n",
            " -122.342 -121.96  -121.978 -122.47  -121.91  -121.966 -122.065 -122.246\n",
            " -122.41  -121.879 -122.079 -122.099 -122.187 -121.98  -122.002 -122.138\n",
            " -121.898 -122.235 -122.126 -121.782 -121.995 -122.401 -121.858 -121.888\n",
            " -121.752 -122.063 -122.26  -121.78  -121.708 -121.721 -122.403 -121.945\n",
            " -122.243 -122.45  -121.927 -122.085 -122.088 -121.973 -122.055 -122.398\n",
            " -121.984 -121.912 -121.903 -121.946 -122.232 -122.412 -122.104 -122.048\n",
            " -122.479 -122.155 -121.833 -121.778 -122.003 -121.99  -121.926 -122.051\n",
            " -121.986 -122.245 -121.861 -122.431 -121.964 -122.142 -122.074 -122.247\n",
            " -122.497 -121.769 -121.827 -121.979 -121.871 -122.091 -121.754 -121.746\n",
            " -121.92  -121.992 -122.406 -121.359 -121.789 -121.707 -122.068 -122.404\n",
            " -122.334 -121.799 -121.774 -121.985 -121.865 -121.724 -122.415 -121.756\n",
            " -121.809 -122.135 -121.691 -122.038 -121.877 -121.94  -121.968 -121.988\n",
            " -121.315 -121.902 -122.514 -122.414 -121.883 -121.866 -121.744 -122.096\n",
            " -122.061 -121.881 -121.745 -122.461 -122.067 -121.868 -121.646 -121.93\n",
            " -122.105 -121.763 -121.718 -121.967 -121.777 -121.957 -121.823 -121.887\n",
            " -122.408 -122.462 -122.43  -122.456 -121.897 -121.932 -121.969 -121.916\n",
            " -122.081 -121.975 -121.735 -121.801 -121.761 -121.723 -121.924 -122.475\n",
            " -121.935 -122.407 -122.448 -122.453 -121.894 -121.936 -121.764 -122.416\n",
            " -121.905 -122.464 -121.768 -122.484 -121.738 -121.9   -121.82  -122.455\n",
            " -121.889 -122.496 -121.829 -122.505 -121.951 -121.847 -122.509 -121.961\n",
            " -121.417 -121.904 -122.503 -121.949 -121.874 -122.432 -121.971 -121.77\n",
            " -122.473 -121.896 -121.952 -122.254 -121.743 -121.933 -121.892 -121.749\n",
            " -121.473 -121.857 -122.465 -121.838 -121.954 -122.422 -121.931 -121.963\n",
            " -122.441 -121.925 -121.352 -122.511 -122.413 -121.876 -121.748 -121.818\n",
            " -121.8   -121.929 -121.698 -121.886 -121.802 -121.81  -121.762 -121.781\n",
            " -121.775 -122.44  -121.773 -121.819 -121.726 -122.459 -122.446 -121.855\n",
            " -121.736 -122.499 -122.46  -121.786 -122.421 -121.947 -122.439 -121.834\n",
            " -121.804 -122.443 -121.716 -121.848 -122.458 -122.515 -121.922 -121.953\n",
            " -121.783 -122.472 -121.944 -121.869 -121.828 -122.452 -121.831 -121.737\n",
            " -121.739 -121.863 -121.73  -121.856 -121.747 -121.893 -121.733 -121.846\n",
            " -121.821 -121.319 -121.765 -121.75  -122.506 -121.948 -121.921 -122.507\n",
            " -122.457 -121.914 -122.469 -121.792 -121.907 -121.841 -121.757 -121.788\n",
            " -121.731 -122.449 -121.316 -121.321 -122.504 -121.884 -121.803 -121.842\n",
            " -121.719 -121.766 -122.433 -122.519 -121.851 -121.402 -122.454 -122.467\n",
            " -121.325 -121.815 -121.676 -121.941 -122.445 -121.76  -121.885 -121.742\n",
            " -121.822 -121.895 -121.784 -121.701 -121.713 -121.727 -121.849 -121.835\n",
            " -122.435 -122.474 -122.444 -121.939 -121.48  -121.364 -121.767 -122.42\n",
            " -121.84  -122.425 -122.447 -121.797 -122.491 -121.917 -121.891 -121.942\n",
            " -121.862 -121.725 -121.873 -121.405 -122.486 -121.795 -121.734 -121.403]\n",
            "****************************************************************************\n",
            "\n",
            "sqft_living15\n",
            "\n",
            "[1340 1690 2720 1360 1800 4760 2238 1650 1780 2390 2210 1330 1370 2140\n",
            " 1890 1610 1060 1280 1400 4110 2240 1220 2200 1030 1760 1860 1520 2630\n",
            " 2580 1390 1460 1570 2020 1590 2160 1730 1290 2620 2470 2410 3625 1580\n",
            " 3050 1228 2680  970 1190 1990 1410 1480 2730 1950 2250 2690 2960 2270\n",
            " 2570 2500 1440 2750 2221 1010 3390 3530 1640 1510 2420 1940 3240 1680\n",
            "  890 1130 3350 2350 1870 1720 1850 1900 1980 2520 1350 1750 1160 2550\n",
            " 2370 1240 1270 2990 1380 1540 2090 2640 1830 1620 1880 2340 1710 2700\n",
            " 3060 2660 1700 1970 1420 2060 2480 1550 1170 2820 1560 2230 2840 1450\n",
            " 1500 3160 1200 3400 2110 2920 1770 1070 1930 3740 2260 1670 2290 1050\n",
            " 2540 2190 2030 1230 2330 1300 1430 2770 1250 1630 2590 2130 1100 3836\n",
            " 1320 2120 3070 1910 2080 1960 2280 1150 3430 2070 2600  830 1260 3120\n",
            " 2010 1660 1600 2380 3890 4180 2653 2670 3920 2300 2310 2320 3150 1740\n",
            " 2400 4550 2510 2440 2880 3860 2150 1310 1820 3080  880 2560 3470 1020\n",
            " 2040 2610 1810 2860 3480 3130 3360 4050 2450 1790 3180 3600 2000 2430\n",
            " 2850 4680 2360 3930 1490 2460 2077 1920 3630 3220 2100 3230 4300 3850\n",
            " 2424 2530 3030 2830 2900 2950 1470  940 2740 4210 3340 3980 2180 3715\n",
            " 2050 1080 2095 1000 3330 2170 1408 1530 2760 3110  950 3000 1307 2220\n",
            " 4190 3440 3250 1110 2870 1210 2910 1120 4230 1708 3090 3270 2970 1180\n",
            " 3100 4100 2930 3510 2688 1840 2490 4090 2810 3260 3680 3420 1654 1365\n",
            "  980 1677 1140 3640 3460 3140 1502 3720 2790 2940  990 2890  860 4750\n",
            " 1525 3950 5790  760 2234  960 3210 2780 2800 2305 2665 3620 2710 4320\n",
            " 2650 3370 1509 1277 1981 2434 4640 2242 3040 3970 3200 4600  840 3290\n",
            " 2214 1162 3010 5600 3820 3540 1975 4800  740 3990 3170 1576 1768 3310\n",
            " 2980 1429 3900 3380  820 1090 4060 3910 3190 3450 3730  620 3020 3760\n",
            " 3320 1132 3300 3770 3960  870 3560 4620 3520 1572 3490 1088 3159 4470\n",
            " 3570 4890 3690 3280 2083 3780  920 1941 1566  850 2496 1040 3410 4240\n",
            " 4670 4350 1714 5380 4330 3830 5000 2144 1494 1357  930 3580 4250 4080\n",
            " 3660 1458 3736 1894 2037 1295 4170 3750 3550 4630 1439 3500 2091  900\n",
            " 3880 3710 1616  720  800 2315 1564 2767 3721 4650 4020  780 1728 2027\n",
            " 1264 1404 1459 2028 3639 1943 3425 2641 2114 1309 2412 2517 1802 2011\n",
            " 1466 1414 3193 1845 1156 3670 1696 5340 4440 1745 1884 4690 4920 2406\n",
            " 4160 3810 4480 2848 1746 2634 2049 5330 1536 2273 3056 4010 4700  910\n",
            " 2125 1665 2683 3790  700 1855  750 1078 4150 4340 2344 1098 1175 1188\n",
            " 3700 3840 4042 2518 3800 2488 3590 2052  810 1528 5030 4740 5070 2967\n",
            " 4280 2724 3610 3940 4940 4770 1811 4830 2876 1805 1216 5170 1304 2474\n",
            " 4590 4130 1492 1364 2168 4140 3543 1303 2005 3650 2583 4310 2451 1448\n",
            " 2955 2142  790 1638 2554 2441 2216 4220 1961 4540  770 4200 3413 1664\n",
            " 2136 3568 4510 1484 1358 2106 1834 2014 4390 4570 2175 6110 4260  710\n",
            " 2112 1934 1518 1302 2622 2619 2382 4290 4560 4000 1336 3112 4070 1468\n",
            " 1571 2605 1138 5110 4850 2165 4410 1678 5610 1984 4660 3870 4370  460\n",
            " 4610 1914 3515 2246 1786 2109 2326 2728 4400 4950 1767 2054 5500 2555\n",
            " 3674 2765 1862 1352 4030  399 2415 2901 1815 2236 2253 2004 1356 2403\n",
            " 1137 1256 4930 4040 2376 4520 4490 2189 2566 2396 1282 2155 1056 2389\n",
            " 2256 3618 1326 1168 4913  806 1369 2405 2875 1425 5220 1442 2333 3335\n",
            " 1321 3045 1546 4730 2697 2822 2076 1757 4780  952 4270 2075 2667 1092\n",
            " 1217 1716 1792 2961 1125 1463 1886  670 4460 2336 3557 5200 2258 1377\n",
            " 2019 2092 4900 2615 1639 1765 1554 1381 4120 5080 1445 2793 2475  998\n",
            " 2384 2575 1398 1584 2439 2197 2029 4362 1443 4420 1691 2495 2437 2547\n",
            " 6210 2009 1847 1346 2578 2879 2255 2815 1608  690 2425 1481 2458 2358\n",
            " 2056 1921 2419 2996 2502 1798 3087 1076 2981 2363 3191 1763 1876 1949\n",
            " 2598 1979 1415 2002 2574 2166 3726 2099 2154 1522 1544 2912 2648 1658\n",
            " 2755 2798 1405 2704 2738 3008 2586 2873 1232 2597 2516 1537 1128 2849\n",
            " 1399 1131 1569 2381 1084 2304 4530 2297 2279 2303 2669 4225 2513 2725\n",
            " 1955 2527 4443 2478 1919 1813 2533  828 2015 3078 4495 2673 2316 2647\n",
            " 3402 3494 2156 3236 2612 2323 2409 2354 1285 2616 1427 1516 2456 2844\n",
            " 1495 2594 2604 1268 2198 3038 2927]\n",
            "****************************************************************************\n",
            "\n",
            "sqft_lot15\n",
            "\n",
            "[5650 7639 8062 ... 5731 1509 2007]\n",
            "****************************************************************************\n",
            "\n"
          ],
          "name": "stdout"
        }
      ]
    },
    {
      "cell_type": "code",
      "metadata": {
        "id": "HBhCFkIx10wW"
      },
      "source": [
        ""
      ],
      "execution_count": null,
      "outputs": []
    },
    {
      "cell_type": "markdown",
      "metadata": {
        "id": "71tzk2FevsfX"
      },
      "source": [
        "## Data Wrangling */* Data Cleaning"
      ]
    },
    {
      "cell_type": "markdown",
      "metadata": {
        "id": "Ztb2Q-cNOEAt"
      },
      "source": [
        "### Duplicates"
      ]
    },
    {
      "cell_type": "code",
      "metadata": {
        "colab": {
          "base_uri": "https://localhost:8080/"
        },
        "id": "pv289TkM0SA9",
        "outputId": "7bfd83b7-0624-434a-cb9a-0194e7bc97ac"
      },
      "source": [
        "df.duplicated().sum()"
      ],
      "execution_count": null,
      "outputs": [
        {
          "output_type": "execute_result",
          "data": {
            "text/plain": [
              "3"
            ]
          },
          "metadata": {
            "tags": []
          },
          "execution_count": 244
        }
      ]
    },
    {
      "cell_type": "code",
      "metadata": {
        "id": "0u_-CGET0eMT"
      },
      "source": [
        "df = df.drop_duplicates()"
      ],
      "execution_count": null,
      "outputs": []
    },
    {
      "cell_type": "markdown",
      "metadata": {
        "id": "YRGlsczxN_DL"
      },
      "source": [
        "### Missing Value"
      ]
    },
    {
      "cell_type": "code",
      "metadata": {
        "colab": {
          "base_uri": "https://localhost:8080/"
        },
        "id": "ipt7yqze2vcP",
        "outputId": "acacd7be-4b3c-40f7-acd1-5232914402de"
      },
      "source": [
        "df.isnull().sum()"
      ],
      "execution_count": null,
      "outputs": [
        {
          "output_type": "execute_result",
          "data": {
            "text/plain": [
              "id               0\n",
              "price            0\n",
              "bedrooms         0\n",
              "bathrooms        0\n",
              "sqft_living      0\n",
              "sqft_lot         0\n",
              "floors           0\n",
              "waterfront       0\n",
              "view             0\n",
              "condition        0\n",
              "grade            0\n",
              "sqft_above       0\n",
              "sqft_basement    0\n",
              "yr_built         0\n",
              "yr_renovated     0\n",
              "zipcode          0\n",
              "lat              0\n",
              "long             0\n",
              "sqft_living15    0\n",
              "sqft_lot15       0\n",
              "dtype: int64"
            ]
          },
          "metadata": {
            "tags": []
          },
          "execution_count": 246
        }
      ]
    },
    {
      "cell_type": "markdown",
      "metadata": {
        "id": "AkSUtOv8OQkN"
      },
      "source": [
        "### Outliers"
      ]
    },
    {
      "cell_type": "code",
      "metadata": {
        "colab": {
          "base_uri": "https://localhost:8080/"
        },
        "id": "yRkbbl313Qnu",
        "outputId": "a694d03e-48d6-4fee-9157-bf7d4b0e5cc8"
      },
      "source": [
        "df.columns"
      ],
      "execution_count": null,
      "outputs": [
        {
          "output_type": "execute_result",
          "data": {
            "text/plain": [
              "Index(['id', 'price', 'bedrooms', 'bathrooms', 'sqft_living', 'sqft_lot',\n",
              "       'floors', 'waterfront', 'view', 'condition', 'grade', 'sqft_above',\n",
              "       'sqft_basement', 'yr_built', 'yr_renovated', 'zipcode', 'lat', 'long',\n",
              "       'sqft_living15', 'sqft_lot15'],\n",
              "      dtype='object')"
            ]
          },
          "metadata": {
            "tags": []
          },
          "execution_count": 247
        }
      ]
    },
    {
      "cell_type": "code",
      "metadata": {
        "colab": {
          "base_uri": "https://localhost:8080/",
          "height": 1000
        },
        "id": "H-Xrs3YU21dG",
        "outputId": "06be2d7f-c515-4d9e-8202-bd1167edd266"
      },
      "source": [
        "numeric = df.drop(['lat', 'long', 'zipcode', 'waterfront'],axis=1)\n",
        "\n",
        "columns = None\n",
        "columns = list(numeric.columns)\n",
        "nrows = len(numeric.columns)\n",
        "fig, ax = plt.subplots(nrows=nrows, ncols=1, figsize=(8,40))  \n",
        "\n",
        "i = 0\n",
        "for column in columns:\n",
        "\n",
        "  sns.boxplot(x=df[column], ax=ax[i])\n",
        "  ax[i].set_title(f'Box plot of {column}', fontsize=20, pad=10 )\n",
        "  ax[i].set_xlabel(column, fontsize=15)\n",
        "  i+=1\n",
        "\n",
        "plt.tight_layout()\n",
        "plt.show()"
      ],
      "execution_count": null,
      "outputs": [
        {
          "output_type": "display_data",
          "data": {
            "image/png": "[encoded data removed]",
            "text/plain": [
              "<Figure size 576x2880 with 16 Axes>"
            ]
          },
          "metadata": {
            "tags": []
          }
        }
      ]
    },
    {
      "cell_type": "code",
      "metadata": {
        "colab": {
          "base_uri": "https://localhost:8080/"
        },
        "id": "b8XXqV8O6gcZ",
        "outputId": "254961bf-3893-4dce-eb36-437f50a76702"
      },
      "source": [
        "columns = list(numeric.columns)\n",
        "\n",
        "for column in columns:\n",
        "\n",
        "  max_threshold_df = df[column].quantile(0.95)\n",
        "  min_threshold_df = df[column].quantile(0.05)\n",
        "  df_1 = df[(df[column] < max_threshold_df) & (df[column]>min_threshold_df)]\n",
        "  num = df.shape[0] - df_1.shape[0]\n",
        "  print(f'{num} rows that are outliers in {column} \\n This is {\"{:.2f}\".format((num/(df.shape[0]))*100)}% percent approximately of {column} column')\n",
        "  print(' ')"
      ],
      "execution_count": null,
      "outputs": [
        {
          "output_type": "stream",
          "text": [
            "2162 rows that are outliers in id \n",
            " This is 10.00% percent approximately of id column\n",
            " \n",
            "2175 rows that are outliers in price \n",
            " This is 10.06% percent approximately of price column\n",
            " \n",
            "4907 rows that are outliers in bedrooms \n",
            " This is 22.71% percent approximately of bedrooms column\n",
            " \n",
            "5226 rows that are outliers in bathrooms \n",
            " This is 24.18% percent approximately of bathrooms column\n",
            " \n",
            "2231 rows that are outliers in sqft_living \n",
            " This is 10.32% percent approximately of sqft_living column\n",
            " \n",
            "2163 rows that are outliers in sqft_lot \n",
            " This is 10.01% percent approximately of sqft_lot column\n",
            " \n",
            "19700 rows that are outliers in floors \n",
            " This is 91.16% percent approximately of floors column\n",
            " \n",
            "21278 rows that are outliers in view \n",
            " This is 98.46% percent approximately of view column\n",
            " \n",
            "15932 rows that are outliers in condition \n",
            " This is 73.73% percent approximately of condition column\n",
            " \n",
            "3949 rows that are outliers in grade \n",
            " This is 18.27% percent approximately of grade column\n",
            " \n",
            "2202 rows that are outliers in sqft_above \n",
            " This is 10.19% percent approximately of sqft_above column\n",
            " \n",
            "14217 rows that are outliers in sqft_basement \n",
            " This is 65.79% percent approximately of sqft_basement column\n",
            " \n",
            "2206 rows that are outliers in yr_built \n",
            " This is 10.21% percent approximately of yr_built column\n",
            " \n",
            "21610 rows that are outliers in yr_renovated \n",
            " This is 100.00% percent approximately of yr_renovated column\n",
            " \n",
            "2201 rows that are outliers in sqft_living15 \n",
            " This is 10.19% percent approximately of sqft_living15 column\n",
            " \n",
            "2162 rows that are outliers in sqft_lot15 \n",
            " This is 10.00% percent approximately of sqft_lot15 column\n",
            " \n"
          ],
          "name": "stdout"
        }
      ]
    },
    {
      "cell_type": "code",
      "metadata": {
        "id": "HH4jgYy7VPIi"
      },
      "source": [
        "#Dealing with outliers in year renovated\n",
        "df.loc[df['yr_renovated'] > 0, 'yr_renovated'] = 1"
      ],
      "execution_count": null,
      "outputs": []
    },
    {
      "cell_type": "code",
      "metadata": {
        "colab": {
          "base_uri": "https://localhost:8080/"
        },
        "id": "6IzNCQpXXTg5",
        "outputId": "1acc2348-9b10-4fe7-a32e-97a300a1e07d"
      },
      "source": [
        "df['yr_renovated'].unique()\n",
        "# this is to make it true and false column \n",
        "# this because majority of the house haven't been renoveted"
      ],
      "execution_count": null,
      "outputs": [
        {
          "output_type": "execute_result",
          "data": {
            "text/plain": [
              "array([0, 1])"
            ]
          },
          "metadata": {
            "tags": []
          },
          "execution_count": 257
        }
      ]
    },
    {
      "cell_type": "markdown",
      "metadata": {
        "id": "LL_Kjd_ZOdzP"
      },
      "source": [
        "### Drop column id"
      ]
    },
    {
      "cell_type": "code",
      "metadata": {
        "id": "P5M9FZZD92rT"
      },
      "source": [
        "df = df.drop(['id'],axis=1)"
      ],
      "execution_count": null,
      "outputs": []
    },
    {
      "cell_type": "markdown",
      "metadata": {
        "id": "dC3bzGWjumss"
      },
      "source": [
        "### Adding a new column "
      ]
    },
    {
      "cell_type": "code",
      "metadata": {
        "id": "xiccJmm9mOsp",
        "colab": {
          "base_uri": "https://localhost:8080/"
        },
        "outputId": "d12b6fc3-1202-4d1d-ad12-4efef6253fce"
      },
      "source": [
        "pip install zipcodes"
      ],
      "execution_count": null,
      "outputs": [
        {
          "output_type": "stream",
          "text": [
            "Requirement already satisfied: zipcodes in /usr/local/lib/python3.6/dist-packages (1.1.2)\n"
          ],
          "name": "stdout"
        }
      ]
    },
    {
      "cell_type": "code",
      "metadata": {
        "id": "wrb7BmermJsJ"
      },
      "source": [
        "import zipcodes"
      ],
      "execution_count": null,
      "outputs": []
    },
    {
      "cell_type": "code",
      "metadata": {
        "id": "eQAcqZtrhiQL",
        "colab": {
          "base_uri": "https://localhost:8080/",
          "height": 224
        },
        "outputId": "a4f38d98-4014-430a-9ad6-a7ca5ff759a9"
      },
      "source": [
        "for i, row in df.iterrows():\n",
        "  zip_code = df.loc[i,'zipcode']\n",
        "  zip_code=zip_code.astype(int)\n",
        "  zip_code=zip_code.astype(str)\n",
        "  df.loc[i,'city'] = zipcodes.matching(zip_code)[0][\"city\"] \n",
        "        \n",
        "df.tail()"
      ],
      "execution_count": null,
      "outputs": [
        {
          "output_type": "execute_result",
          "data": {
            "text/html": [
              "<div>\n",
              "<style scoped>\n",
              "    .dataframe tbody tr th:only-of-type {\n",
              "        vertical-align: middle;\n",
              "    }\n",
              "\n",
              "    .dataframe tbody tr th {\n",
              "        vertical-align: top;\n",
              "    }\n",
              "\n",
              "    .dataframe thead th {\n",
              "        text-align: right;\n",
              "    }\n",
              "</style>\n",
              "<table border=\"1\" class=\"dataframe\">\n",
              "  <thead>\n",
              "    <tr style=\"text-align: right;\">\n",
              "      <th></th>\n",
              "      <th>price</th>\n",
              "      <th>bedrooms</th>\n",
              "      <th>bathrooms</th>\n",
              "      <th>sqft_living</th>\n",
              "      <th>sqft_lot</th>\n",
              "      <th>floors</th>\n",
              "      <th>waterfront</th>\n",
              "      <th>view</th>\n",
              "      <th>condition</th>\n",
              "      <th>grade</th>\n",
              "      <th>sqft_above</th>\n",
              "      <th>sqft_basement</th>\n",
              "      <th>yr_built</th>\n",
              "      <th>yr_renovated</th>\n",
              "      <th>zipcode</th>\n",
              "      <th>lat</th>\n",
              "      <th>long</th>\n",
              "      <th>sqft_living15</th>\n",
              "      <th>sqft_lot15</th>\n",
              "      <th>city</th>\n",
              "    </tr>\n",
              "  </thead>\n",
              "  <tbody>\n",
              "    <tr>\n",
              "      <th>21608</th>\n",
              "      <td>360000.0</td>\n",
              "      <td>3</td>\n",
              "      <td>2.50</td>\n",
              "      <td>1530</td>\n",
              "      <td>1131</td>\n",
              "      <td>3.0</td>\n",
              "      <td>0</td>\n",
              "      <td>0</td>\n",
              "      <td>3</td>\n",
              "      <td>8</td>\n",
              "      <td>1530</td>\n",
              "      <td>0</td>\n",
              "      <td>2009</td>\n",
              "      <td>0</td>\n",
              "      <td>98103</td>\n",
              "      <td>47.6993</td>\n",
              "      <td>-122.346</td>\n",
              "      <td>1530</td>\n",
              "      <td>1509</td>\n",
              "      <td>Seattle</td>\n",
              "    </tr>\n",
              "    <tr>\n",
              "      <th>21609</th>\n",
              "      <td>400000.0</td>\n",
              "      <td>4</td>\n",
              "      <td>2.50</td>\n",
              "      <td>2310</td>\n",
              "      <td>5813</td>\n",
              "      <td>2.0</td>\n",
              "      <td>0</td>\n",
              "      <td>0</td>\n",
              "      <td>3</td>\n",
              "      <td>8</td>\n",
              "      <td>2310</td>\n",
              "      <td>0</td>\n",
              "      <td>2014</td>\n",
              "      <td>0</td>\n",
              "      <td>98146</td>\n",
              "      <td>47.5107</td>\n",
              "      <td>-122.362</td>\n",
              "      <td>1830</td>\n",
              "      <td>7200</td>\n",
              "      <td>Seattle</td>\n",
              "    </tr>\n",
              "    <tr>\n",
              "      <th>21610</th>\n",
              "      <td>402101.0</td>\n",
              "      <td>2</td>\n",
              "      <td>0.75</td>\n",
              "      <td>1020</td>\n",
              "      <td>1350</td>\n",
              "      <td>2.0</td>\n",
              "      <td>0</td>\n",
              "      <td>0</td>\n",
              "      <td>3</td>\n",
              "      <td>7</td>\n",
              "      <td>1020</td>\n",
              "      <td>0</td>\n",
              "      <td>2009</td>\n",
              "      <td>0</td>\n",
              "      <td>98144</td>\n",
              "      <td>47.5944</td>\n",
              "      <td>-122.299</td>\n",
              "      <td>1020</td>\n",
              "      <td>2007</td>\n",
              "      <td>Seattle</td>\n",
              "    </tr>\n",
              "    <tr>\n",
              "      <th>21611</th>\n",
              "      <td>400000.0</td>\n",
              "      <td>3</td>\n",
              "      <td>2.50</td>\n",
              "      <td>1600</td>\n",
              "      <td>2388</td>\n",
              "      <td>2.0</td>\n",
              "      <td>0</td>\n",
              "      <td>0</td>\n",
              "      <td>3</td>\n",
              "      <td>8</td>\n",
              "      <td>1600</td>\n",
              "      <td>0</td>\n",
              "      <td>2004</td>\n",
              "      <td>0</td>\n",
              "      <td>98027</td>\n",
              "      <td>47.5345</td>\n",
              "      <td>-122.069</td>\n",
              "      <td>1410</td>\n",
              "      <td>1287</td>\n",
              "      <td>Issaquah</td>\n",
              "    </tr>\n",
              "    <tr>\n",
              "      <th>21612</th>\n",
              "      <td>325000.0</td>\n",
              "      <td>2</td>\n",
              "      <td>0.75</td>\n",
              "      <td>1020</td>\n",
              "      <td>1076</td>\n",
              "      <td>2.0</td>\n",
              "      <td>0</td>\n",
              "      <td>0</td>\n",
              "      <td>3</td>\n",
              "      <td>7</td>\n",
              "      <td>1020</td>\n",
              "      <td>0</td>\n",
              "      <td>2008</td>\n",
              "      <td>0</td>\n",
              "      <td>98144</td>\n",
              "      <td>47.5941</td>\n",
              "      <td>-122.299</td>\n",
              "      <td>1020</td>\n",
              "      <td>1357</td>\n",
              "      <td>Seattle</td>\n",
              "    </tr>\n",
              "  </tbody>\n",
              "</table>\n",
              "</div>"
            ],
            "text/plain": [
              "          price  bedrooms  bathrooms  ...  sqft_living15  sqft_lot15      city\n",
              "21608  360000.0         3       2.50  ...           1530        1509   Seattle\n",
              "21609  400000.0         4       2.50  ...           1830        7200   Seattle\n",
              "21610  402101.0         2       0.75  ...           1020        2007   Seattle\n",
              "21611  400000.0         3       2.50  ...           1410        1287  Issaquah\n",
              "21612  325000.0         2       0.75  ...           1020        1357   Seattle\n",
              "\n",
              "[5 rows x 20 columns]"
            ]
          },
          "metadata": {
            "tags": []
          },
          "execution_count": 254
        }
      ]
    },
    {
      "cell_type": "code",
      "metadata": {
        "id": "sFEyzEl0QbL4"
      },
      "source": [
        "df.to_csv('update.csv',)"
      ],
      "execution_count": null,
      "outputs": []
    },
    {
      "cell_type": "markdown",
      "metadata": {
        "id": "XZ4V6vNqwacO"
      },
      "source": [
        "## Exploratory Data Analysis (EDA)"
      ]
    },
    {
      "cell_type": "markdown",
      "metadata": {
        "id": "fPPCReA9ywMU"
      },
      "source": [
        "### Univariate Analysis"
      ]
    },
    {
      "cell_type": "code",
      "metadata": {
        "colab": {
          "base_uri": "https://localhost:8080/",
          "height": 565
        },
        "id": "jHTYCifTQLS3",
        "outputId": "0ec49396-4d12-48bf-e656-4a135286a3ac"
      },
      "source": [
        "sns.set(font_scale=1.4)\n",
        "df['city'].value_counts().plot(kind='bar', figsize=(15, 7))\n",
        "plt.xlabel(\"city\", labelpad=10)\n",
        "plt.show()"
      ],
      "execution_count": null,
      "outputs": [
        {
          "output_type": "display_data",
          "data": {
            "image/png": "[encoded data removed]",
            "text/plain": [
              "<Figure size 1080x504 with 1 Axes>"
            ]
          },
          "metadata": {
            "tags": []
          }
        }
      ]
    },
    {
      "cell_type": "code",
      "metadata": {
        "colab": {
          "base_uri": "https://localhost:8080/",
          "height": 290
        },
        "id": "rY1ju_0QKDEQ",
        "outputId": "dea8c78d-a882-44d9-82ce-8b568cb2514c"
      },
      "source": [
        "df['lat'].hist()"
      ],
      "execution_count": null,
      "outputs": [
        {
          "output_type": "execute_result",
          "data": {
            "text/plain": [
              "<matplotlib.axes._subplots.AxesSubplot at 0x7f045c88a588>"
            ]
          },
          "metadata": {
            "tags": []
          },
          "execution_count": 164
        },
        {
          "output_type": "display_data",
          "data": {
            "image/png": "[encoded data removed]",
            "text/plain": [
              "<Figure size 432x288 with 1 Axes>"
            ]
          },
          "metadata": {
            "tags": []
          }
        }
      ]
    },
    {
      "cell_type": "code",
      "metadata": {
        "colab": {
          "base_uri": "https://localhost:8080/",
          "height": 290
        },
        "id": "KSsXvtiQKbzg",
        "outputId": "d9479b79-5b04-4a4b-8184-5fc00067b30d"
      },
      "source": [
        "df['long'].hist()"
      ],
      "execution_count": null,
      "outputs": [
        {
          "output_type": "execute_result",
          "data": {
            "text/plain": [
              "<matplotlib.axes._subplots.AxesSubplot at 0x7f044c2f9f60>"
            ]
          },
          "metadata": {
            "tags": []
          },
          "execution_count": 165
        },
        {
          "output_type": "display_data",
          "data": {
            "image/png": "[encoded data removed]",
            "text/plain": [
              "<Figure size 432x288 with 1 Axes>"
            ]
          },
          "metadata": {
            "tags": []
          }
        }
      ]
    },
    {
      "cell_type": "code",
      "metadata": {
        "colab": {
          "base_uri": "https://localhost:8080/",
          "height": 294
        },
        "id": "sfB-CCZxMGQV",
        "outputId": "411ad4c4-614b-4698-8182-e5a7a7d1c249"
      },
      "source": [
        "df.bedrooms.value_counts().plot(kind='bar')"
      ],
      "execution_count": null,
      "outputs": [
        {
          "output_type": "execute_result",
          "data": {
            "text/plain": [
              "<matplotlib.axes._subplots.AxesSubplot at 0x7f045cc16c18>"
            ]
          },
          "metadata": {
            "tags": []
          },
          "execution_count": 166
        },
        {
          "output_type": "display_data",
          "data": {
            "image/png": "[encoded data removed]",
            "text/plain": [
              "<Figure size 432x288 with 1 Axes>"
            ]
          },
          "metadata": {
            "tags": []
          }
        }
      ]
    },
    {
      "cell_type": "code",
      "metadata": {
        "colab": {
          "base_uri": "https://localhost:8080/",
          "height": 299
        },
        "id": "Sttk1qkgNPLJ",
        "outputId": "7412a940-9fec-4303-dbf5-d05eb5cc2d60"
      },
      "source": [
        "df.floors.value_counts().plot(kind='bar')"
      ],
      "execution_count": null,
      "outputs": [
        {
          "output_type": "execute_result",
          "data": {
            "text/plain": [
              "<matplotlib.axes._subplots.AxesSubplot at 0x7f045ca7df98>"
            ]
          },
          "metadata": {
            "tags": []
          },
          "execution_count": 167
        },
        {
          "output_type": "display_data",
          "data": {
            "image/png": "[encoded data removed]",
            "text/plain": [
              "<Figure size 432x288 with 1 Axes>"
            ]
          },
          "metadata": {
            "tags": []
          }
        }
      ]
    },
    {
      "cell_type": "code",
      "metadata": {
        "colab": {
          "base_uri": "https://localhost:8080/",
          "height": 290
        },
        "id": "XA6XoAriNgbp",
        "outputId": "6c31b846-6b12-4a52-cb41-73708209b8c0"
      },
      "source": [
        "df.yr_built.hist()"
      ],
      "execution_count": null,
      "outputs": [
        {
          "output_type": "execute_result",
          "data": {
            "text/plain": [
              "<matplotlib.axes._subplots.AxesSubplot at 0x7f0449135668>"
            ]
          },
          "metadata": {
            "tags": []
          },
          "execution_count": 168
        },
        {
          "output_type": "display_data",
          "data": {
            "image/png": "[encoded data removed]",
            "text/plain": [
              "<Figure size 432x288 with 1 Axes>"
            ]
          },
          "metadata": {
            "tags": []
          }
        }
      ]
    },
    {
      "cell_type": "markdown",
      "metadata": {
        "id": "Fvlmri-u8xW-"
      },
      "source": [
        "#### Central Tendency"
      ]
    },
    {
      "cell_type": "markdown",
      "metadata": {
        "id": "BGOBdLr-97wX"
      },
      "source": [
        "##### mean"
      ]
    },
    {
      "cell_type": "code",
      "metadata": {
        "id": "wxEJHFVxwnHM",
        "colab": {
          "base_uri": "https://localhost:8080/"
        },
        "outputId": "0c4927ea-00fd-4477-da0c-6af788b2c154"
      },
      "source": [
        "numeric = df.drop(['lat', 'long','yr_renovated','zipcode', 'waterfront', 'yr_renovated', 'waterfront'],axis=1)\n",
        "\n",
        "columns = None\n",
        "columns = list(numeric.columns)\n",
        "\n",
        "for column in columns:\n",
        "  mean = df[column].mean()\n",
        "  print(f'This is the mean of the {column} column: ')\n",
        "  print(f'{mean}')\n",
        "  print('  ')"
      ],
      "execution_count": null,
      "outputs": [
        {
          "output_type": "stream",
          "text": [
            "This is the mean of the price column: \n",
            "540178.9448403517\n",
            "  \n",
            "This is the mean of the bedrooms column: \n",
            "3.370846830171217\n",
            "  \n",
            "This is the mean of the bathrooms column: \n",
            "2.114738546968996\n",
            "  \n",
            "This is the mean of the sqft_living column: \n",
            "2079.881212401666\n",
            "  \n",
            "This is the mean of the sqft_lot column: \n",
            "15108.289819527996\n",
            "  \n",
            "This is the mean of the floors column: \n",
            "1.4942387783433595\n",
            "  \n",
            "This is the mean of the waterfront column: \n",
            "0.007542804257288292\n",
            "  \n",
            "This is the mean of the view column: \n",
            "0.23419713095788985\n",
            "  \n",
            "This is the mean of the condition column: \n",
            "3.4094400740397965\n",
            "  \n",
            "This is the mean of the grade column: \n",
            "7.656779268857011\n",
            "  \n",
            "This is the mean of the sqft_above column: \n",
            "1788.3478944932901\n",
            "  \n",
            "This is the mean of the sqft_basement column: \n",
            "291.53331790837575\n",
            "  \n",
            "This is the mean of the sqft_living15 column: \n",
            "1986.5186950485886\n",
            "  \n",
            "This is the mean of the sqft_lot15 column: \n",
            "12769.031975937067\n",
            "  \n"
          ],
          "name": "stdout"
        }
      ]
    },
    {
      "cell_type": "markdown",
      "metadata": {
        "id": "DMQ9S8Ec9_wg"
      },
      "source": [
        "##### median"
      ]
    },
    {
      "cell_type": "code",
      "metadata": {
        "id": "FR5tm2hNwoFx",
        "colab": {
          "base_uri": "https://localhost:8080/"
        },
        "outputId": "133069ad-708e-4209-ec71-e6022af8b962"
      },
      "source": [
        "numeric = df.drop(['id', 'lat', 'long','yr_renovated','zipcode', 'waterfront'],axis=1)\n",
        "columns = list(numeric.columns)\n",
        "for column in columns:\n",
        "  median = df[column].median()\n",
        "  print(f'This is the median of the {column} column: ')\n",
        "  print(f'{median}')\n",
        "  print('  ')"
      ],
      "execution_count": null,
      "outputs": [
        {
          "output_type": "stream",
          "text": [
            "This is the median of the price column: \n",
            "450000.0\n",
            "  \n",
            "This is the median of the bedrooms column: \n",
            "3.0\n",
            "  \n",
            "This is the median of the bathrooms column: \n",
            "2.25\n",
            "  \n",
            "This is the median of the sqft_living column: \n",
            "1910.0\n",
            "  \n",
            "This is the median of the sqft_lot column: \n",
            "7619.0\n",
            "  \n",
            "This is the median of the floors column: \n",
            "1.5\n",
            "  \n",
            "This is the median of the waterfront column: \n",
            "0.0\n",
            "  \n",
            "This is the median of the view column: \n",
            "0.0\n",
            "  \n",
            "This is the median of the condition column: \n",
            "3.0\n",
            "  \n",
            "This is the median of the grade column: \n",
            "7.0\n",
            "  \n",
            "This is the median of the sqft_above column: \n",
            "1560.0\n",
            "  \n",
            "This is the median of the sqft_basement column: \n",
            "0.0\n",
            "  \n",
            "This is the median of the sqft_living15 column: \n",
            "1840.0\n",
            "  \n",
            "This is the median of the sqft_lot15 column: \n",
            "7620.0\n",
            "  \n"
          ],
          "name": "stdout"
        }
      ]
    },
    {
      "cell_type": "markdown",
      "metadata": {
        "id": "BmiChdbe-B9X"
      },
      "source": [
        "##### mode"
      ]
    },
    {
      "cell_type": "code",
      "metadata": {
        "id": "04rC8jlLwpA-",
        "colab": {
          "base_uri": "https://localhost:8080/"
        },
        "outputId": "4e8c27ba-7996-4906-acae-b53c8c65a90a"
      },
      "source": [
        "numeric = df.drop(['lat', 'long','zipcode', 'city','yr_built', 'yr_renovated'],axis=1)\n",
        "columns = list(numeric.columns)\n",
        "for column in columns:\n",
        "  mode = df[column].mode()[0]\n",
        "  print(f'This is the mode of the {column} column: ')\n",
        "  print(f'{mode}')\n",
        "  print('  ')"
      ],
      "execution_count": null,
      "outputs": [
        {
          "output_type": "stream",
          "text": [
            "This is the mode of the price column: \n",
            "350000.0\n",
            "  \n",
            "This is the mode of the bedrooms column: \n",
            "3\n",
            "  \n",
            "This is the mode of the bathrooms column: \n",
            "2.5\n",
            "  \n",
            "This is the mode of the sqft_living column: \n",
            "1300\n",
            "  \n",
            "This is the mode of the sqft_lot column: \n",
            "5000\n",
            "  \n",
            "This is the mode of the floors column: \n",
            "1.0\n",
            "  \n",
            "This is the mode of the waterfront column: \n",
            "0\n",
            "  \n",
            "This is the mode of the view column: \n",
            "0\n",
            "  \n",
            "This is the mode of the condition column: \n",
            "3\n",
            "  \n",
            "This is the mode of the grade column: \n",
            "7\n",
            "  \n",
            "This is the mode of the sqft_above column: \n",
            "1300\n",
            "  \n",
            "This is the mode of the sqft_basement column: \n",
            "0\n",
            "  \n",
            "This is the mode of the sqft_living15 column: \n",
            "1540\n",
            "  \n",
            "This is the mode of the sqft_lot15 column: \n",
            "5000\n",
            "  \n"
          ],
          "name": "stdout"
        }
      ]
    },
    {
      "cell_type": "markdown",
      "metadata": {
        "id": "fNjRHsl98xFI"
      },
      "source": [
        "#### Dispersion"
      ]
    },
    {
      "cell_type": "markdown",
      "metadata": {
        "id": "QllYvE1qFWMq"
      },
      "source": [
        "##### Standard Deviation"
      ]
    },
    {
      "cell_type": "code",
      "metadata": {
        "id": "qm2VQCECwp0h",
        "colab": {
          "base_uri": "https://localhost:8080/"
        },
        "outputId": "2775ac11-a25e-4af3-fcd3-b1c84efc4f17"
      },
      "source": [
        "numeric = df.drop(['lat', 'long','zipcode', 'city', 'yr_built', 'yr_renovated'],axis=1)\n",
        "columns = list(numeric.columns)\n",
        "for column in columns:\n",
        "  standard_deviation = df[column].std()\n",
        "  print(f'This is the Standard Deviation of the {column} column: ')\n",
        "  print(f'{standard_deviation}')\n",
        "  print('  ')"
      ],
      "execution_count": null,
      "outputs": [
        {
          "output_type": "stream",
          "text": [
            "This is the Standard Deviation of the price column: \n",
            "367387.58505388984\n",
            "  \n",
            "This is the Standard Deviation of the bedrooms column: \n",
            "0.9301096999846462\n",
            "  \n",
            "This is the Standard Deviation of the bathrooms column: \n",
            "0.770203702285374\n",
            "  \n",
            "This is the Standard Deviation of the sqft_living column: \n",
            "918.5002986169898\n",
            "  \n",
            "This is the Standard Deviation of the sqft_lot column: \n",
            "41423.2267370033\n",
            "  \n",
            "This is the Standard Deviation of the floors column: \n",
            "0.5399935009500416\n",
            "  \n",
            "This is the Standard Deviation of the waterfront column: \n",
            "0.08652315751754107\n",
            "  \n",
            "This is the Standard Deviation of the view column: \n",
            "0.7661364602166483\n",
            "  \n",
            "This is the Standard Deviation of the condition column: \n",
            "0.6507638952171331\n",
            "  \n",
            "This is the Standard Deviation of the grade column: \n",
            "1.1755002014627765\n",
            "  \n",
            "This is the Standard Deviation of the sqft_above column: \n",
            "828.1387234173122\n",
            "  \n",
            "This is the Standard Deviation of the sqft_basement column: \n",
            "442.5966986816738\n",
            "  \n",
            "This is the Standard Deviation of the sqft_living15 column: \n",
            "685.4257806364748\n",
            "  \n",
            "This is the Standard Deviation of the sqft_lot15 column: \n",
            "27305.972463593964\n",
            "  \n"
          ],
          "name": "stdout"
        }
      ]
    },
    {
      "cell_type": "markdown",
      "metadata": {
        "id": "6Se4D4T0FXnd"
      },
      "source": [
        "##### Variance"
      ]
    },
    {
      "cell_type": "code",
      "metadata": {
        "id": "hMJfpnyPwqUZ",
        "colab": {
          "base_uri": "https://localhost:8080/"
        },
        "outputId": "effa1eea-a062-43b4-f620-eede9364b2c8"
      },
      "source": [
        "numeric = df.drop(['lat', 'long','zipcode', 'city','yr_built', 'yr_renovated'],axis=1)\n",
        "columns = list(numeric.columns)\n",
        "for column in columns:\n",
        "  variance = df[column].var()\n",
        "  print(f'This is the variance of the {column} column: ')\n",
        "  print(f'{variance}')\n",
        "  print('  ')"
      ],
      "execution_count": null,
      "outputs": [
        {
          "output_type": "stream",
          "text": [
            "This is the variance of the price column: \n",
            "134973637651.72916\n",
            "  \n",
            "This is the variance of the bedrooms column: \n",
            "0.8651040540055286\n",
            "  \n",
            "This is the variance of the bathrooms column: \n",
            "0.593213743014097\n",
            "  \n",
            "This is the variance of the sqft_living column: \n",
            "843642.7985594993\n",
            "  \n",
            "This is the variance of the sqft_lot column: \n",
            "1715883713.305185\n",
            "  \n",
            "This is the variance of the floors column: \n",
            "0.2915929810682826\n",
            "  \n",
            "This is the variance of the waterfront column: \n",
            "0.007486256786805223\n",
            "  \n",
            "This is the variance of the view column: \n",
            "0.5869650756732958\n",
            "  \n",
            "This is the variance of the condition column: \n",
            "0.4234936473181757\n",
            "  \n",
            "This is the variance of the grade column: \n",
            "1.3818007236390282\n",
            "  \n",
            "This is the variance of the sqft_above column: \n",
            "685813.7452232556\n",
            "  \n",
            "This is the variance of the sqft_basement column: \n",
            "195891.83768391635\n",
            "  \n",
            "This is the variance of the sqft_living15 column: \n",
            "469808.5007611208\n",
            "  \n",
            "This is the variance of the sqft_lot15 column: \n",
            "745616132.1825517\n",
            "  \n"
          ],
          "name": "stdout"
        }
      ]
    },
    {
      "cell_type": "markdown",
      "metadata": {
        "id": "5sVD-HznxFkc"
      },
      "source": [
        "##### Maximum"
      ]
    },
    {
      "cell_type": "code",
      "metadata": {
        "id": "J9VSMXHRxYy0"
      },
      "source": [
        "numeric = df.drop(['lat', 'long','zipcode', 'city','yr_built', 'yr_renovated'],axis=1)\n",
        "columns = list(numeric.columns)\n",
        "for column in columns:\n",
        "  max = df[column].max()\n",
        "  print(f'This is the largest value in the {column} column: ')\n",
        "  print(f'{max}')\n",
        "  print('  ')"
      ],
      "execution_count": null,
      "outputs": []
    },
    {
      "cell_type": "markdown",
      "metadata": {
        "id": "1w7sw5l7xTiy"
      },
      "source": [
        "##### Minimum"
      ]
    },
    {
      "cell_type": "code",
      "metadata": {
        "id": "tnly8ptixML8"
      },
      "source": [
        "numeric = df.drop(['lat', 'long','zipcode', 'city','yr_built', 'yr_renovated'],axis=1)\n",
        "columns = list(numeric.columns)\n",
        "for column in columns:\n",
        "  min = df[column].min()\n",
        "  print(f'This is the small value in the {column} column: ')\n",
        "  print(f'{min}')\n",
        "  print('  ')"
      ],
      "execution_count": null,
      "outputs": []
    },
    {
      "cell_type": "markdown",
      "metadata": {
        "id": "slLGTp1MFfns"
      },
      "source": [
        "##### Range"
      ]
    },
    {
      "cell_type": "code",
      "metadata": {
        "id": "Bvtijd4MwrGZ"
      },
      "source": [
        "numeric = df.drop(['lat', 'long','zipcode', 'city','yr_built', 'yr_renovated'],axis=1)\n",
        "columns = list(numeric.columns)\n",
        "for column in columns:\n",
        "  max = df[column].max()\n",
        "  min = df[column].min()\n",
        "  range = max - min\n",
        "  print(f'This is the range of the {column} column: ')\n",
        "  print(f'{range}')\n",
        "  print('  ')"
      ],
      "execution_count": null,
      "outputs": []
    },
    {
      "cell_type": "markdown",
      "metadata": {
        "id": "wz0ahV6JFjTP"
      },
      "source": [
        "##### Quantiles"
      ]
    },
    {
      "cell_type": "markdown",
      "metadata": {
        "id": "viL6UCqcxj0h"
      },
      "source": [
        "###### First Quantile"
      ]
    },
    {
      "cell_type": "code",
      "metadata": {
        "id": "aaMRmV2jx2pL"
      },
      "source": [
        "numeric = df.drop(['lat', 'long','zipcode', 'city','yr_built', 'yr_renovated'],axis=1)\n",
        "columns = list(numeric.columns)\n",
        "for column in columns:\n",
        "  first_quantile = df[column].quantile(0.25)\n",
        "  print(f'This is the first quantile of the {column} column: ')\n",
        "  print(f'{first_quantile}')\n",
        "  print('  ')"
      ],
      "execution_count": null,
      "outputs": []
    },
    {
      "cell_type": "markdown",
      "metadata": {
        "id": "Mqg_C9t3xq2n"
      },
      "source": [
        "###### Second Quantile"
      ]
    },
    {
      "cell_type": "code",
      "metadata": {
        "id": "chmzgKarx3Jp"
      },
      "source": [
        "numeric = df.drop(['lat', 'long','zipcode', 'city','yr_built', 'yr_renovated'],axis=1)\n",
        "columns = list(numeric.columns)\n",
        "for column in columns:\n",
        "  second_quantile = df[column].quantile(0.5)\n",
        "  print(f'This is the second quantile of the {column} column: ')\n",
        "  print(f'{second_quantile}')\n",
        "  print('  ')"
      ],
      "execution_count": null,
      "outputs": []
    },
    {
      "cell_type": "markdown",
      "metadata": {
        "id": "jSapeXtUxwSp"
      },
      "source": [
        "###### Third Quantile"
      ]
    },
    {
      "cell_type": "code",
      "metadata": {
        "id": "LSAQ6JAEx31c"
      },
      "source": [
        "numeric = df.drop(['lat', 'long','zipcode', 'city','yr_built', 'yr_renovated'],axis=1)\n",
        "columns = list(numeric.columns)\n",
        "for column in columns:\n",
        "  third_quantile = df[column].quantile(0.75)\n",
        "  print(f'This is the third quantile of the {column} column: ')\n",
        "  print(f'{third_quantile}')\n",
        "  print('  ')"
      ],
      "execution_count": null,
      "outputs": []
    },
    {
      "cell_type": "markdown",
      "metadata": {
        "id": "VJ2iuAQsBGOs"
      },
      "source": [
        "#### Descriptions of the distribution curve"
      ]
    },
    {
      "cell_type": "markdown",
      "metadata": {
        "id": "KnWcMw9EFxoR"
      },
      "source": [
        "##### Skewness"
      ]
    },
    {
      "cell_type": "code",
      "metadata": {
        "id": "B8E_8R0IAOvb"
      },
      "source": [
        "numeric = df.drop(['lat', 'long','zipcode', 'city','yr_built', 'yr_renovated'],axis=1)\n",
        "columns = list(numeric.columns)\n",
        "for column in columns:\n",
        "  skewness = df[column].skew()\n",
        "  print(f'This is the skewness of the {column} column: ')\n",
        "  print(f'{skewness}')\n",
        "  print('  ')"
      ],
      "execution_count": null,
      "outputs": []
    },
    {
      "cell_type": "markdown",
      "metadata": {
        "id": "AoH27vsBF3hG"
      },
      "source": [
        "##### Kurtosis"
      ]
    },
    {
      "cell_type": "code",
      "metadata": {
        "id": "4Eh8xlSt_ncJ"
      },
      "source": [
        "numeric = df.drop(['lat', 'long','zipcode', 'city','yr_built', 'yr_renovated'],axis=1)\n",
        "columns = list(numeric.columns)\n",
        "for column in columns:\n",
        "  kurtosis = df[column].kurt()\n",
        "  print(f'This is the kurtosis of the {column} column: ')\n",
        "  print(f'{kurtosis}')\n",
        "  print('  ')"
      ],
      "execution_count": null,
      "outputs": []
    },
    {
      "cell_type": "markdown",
      "metadata": {
        "id": "6A_0wrQsywgs"
      },
      "source": [
        "### Bivariate Analysis"
      ]
    },
    {
      "cell_type": "code",
      "metadata": {
        "id": "03kyqYiTG51t"
      },
      "source": [
        "plt.subplots(figsize=(20,18))\n",
        "sns.heatmap(df.corr(),annot=True, linewidths=3, linecolor='white')\n",
        "sns.set(font_scale=2)\n",
        "plt.show()"
      ],
      "execution_count": null,
      "outputs": []
    },
    {
      "cell_type": "markdown",
      "metadata": {
        "id": "kx9o9QU2yvtL"
      },
      "source": [
        "### Multivariate Analysis"
      ]
    },
    {
      "cell_type": "markdown",
      "metadata": {
        "id": "XXkuMg6MJVsL"
      },
      "source": [
        "#### Reression Analysis"
      ]
    },
    {
      "cell_type": "markdown",
      "metadata": {
        "id": "XELuEAZJqFUN"
      },
      "source": [
        "##### Detecting multicollinearity"
      ]
    },
    {
      "cell_type": "code",
      "metadata": {
        "colab": {
          "base_uri": "https://localhost:8080/"
        },
        "id": "3_he4h2Grheq",
        "outputId": "da50467c-629d-4950-9b2e-6b8092dc1ee0"
      },
      "source": [
        "from sklearn.preprocessing import LabelEncoder\n",
        "\n",
        "le = LabelEncoder()\n",
        "\n",
        "df['city'] = le.fit_transform(df['city'])\n",
        "df.head()"
      ],
      "execution_count": null,
      "outputs": [
        {
          "output_type": "execute_result",
          "data": {
            "text/html": [
              "<div>\n",
              "<style scoped>\n",
              "    .dataframe tbody tr th:only-of-type {\n",
              "        vertical-align: middle;\n",
              "    }\n",
              "\n",
              "    .dataframe tbody tr th {\n",
              "        vertical-align: top;\n",
              "    }\n",
              "\n",
              "    .dataframe thead th {\n",
              "        text-align: right;\n",
              "    }\n",
              "</style>\n",
              "<table border=\"1\" class=\"dataframe\">\n",
              "  <thead>\n",
              "    <tr style=\"text-align: right;\">\n",
              "      <th></th>\n",
              "      <th>price</th>\n",
              "      <th>bedrooms</th>\n",
              "      <th>bathrooms</th>\n",
              "      <th>sqft_living</th>\n",
              "      <th>sqft_lot</th>\n",
              "      <th>floors</th>\n",
              "      <th>waterfront</th>\n",
              "      <th>view</th>\n",
              "      <th>condition</th>\n",
              "      <th>grade</th>\n",
              "      <th>sqft_above</th>\n",
              "      <th>sqft_basement</th>\n",
              "      <th>yr_built</th>\n",
              "      <th>yr_renovated</th>\n",
              "      <th>zipcode</th>\n",
              "      <th>lat</th>\n",
              "      <th>long</th>\n",
              "      <th>sqft_living15</th>\n",
              "      <th>sqft_lot15</th>\n",
              "      <th>city</th>\n",
              "    </tr>\n",
              "  </thead>\n",
              "  <tbody>\n",
              "    <tr>\n",
              "      <th>0</th>\n",
              "      <td>221900.0</td>\n",
              "      <td>3</td>\n",
              "      <td>1.00</td>\n",
              "      <td>1180</td>\n",
              "      <td>5650</td>\n",
              "      <td>1.0</td>\n",
              "      <td>0</td>\n",
              "      <td>0</td>\n",
              "      <td>3</td>\n",
              "      <td>7</td>\n",
              "      <td>1180</td>\n",
              "      <td>0</td>\n",
              "      <td>1955</td>\n",
              "      <td>0</td>\n",
              "      <td>98178</td>\n",
              "      <td>47.5112</td>\n",
              "      <td>-122.257</td>\n",
              "      <td>1340</td>\n",
              "      <td>5650</td>\n",
              "      <td>20</td>\n",
              "    </tr>\n",
              "    <tr>\n",
              "      <th>1</th>\n",
              "      <td>538000.0</td>\n",
              "      <td>3</td>\n",
              "      <td>2.25</td>\n",
              "      <td>2570</td>\n",
              "      <td>7242</td>\n",
              "      <td>2.0</td>\n",
              "      <td>0</td>\n",
              "      <td>0</td>\n",
              "      <td>3</td>\n",
              "      <td>7</td>\n",
              "      <td>2170</td>\n",
              "      <td>400</td>\n",
              "      <td>1951</td>\n",
              "      <td>1</td>\n",
              "      <td>98125</td>\n",
              "      <td>47.7210</td>\n",
              "      <td>-122.319</td>\n",
              "      <td>1690</td>\n",
              "      <td>7639</td>\n",
              "      <td>20</td>\n",
              "    </tr>\n",
              "    <tr>\n",
              "      <th>2</th>\n",
              "      <td>180000.0</td>\n",
              "      <td>2</td>\n",
              "      <td>1.00</td>\n",
              "      <td>770</td>\n",
              "      <td>10000</td>\n",
              "      <td>1.0</td>\n",
              "      <td>0</td>\n",
              "      <td>0</td>\n",
              "      <td>3</td>\n",
              "      <td>6</td>\n",
              "      <td>770</td>\n",
              "      <td>0</td>\n",
              "      <td>1933</td>\n",
              "      <td>0</td>\n",
              "      <td>98028</td>\n",
              "      <td>47.7379</td>\n",
              "      <td>-122.233</td>\n",
              "      <td>2720</td>\n",
              "      <td>8062</td>\n",
              "      <td>10</td>\n",
              "    </tr>\n",
              "    <tr>\n",
              "      <th>3</th>\n",
              "      <td>604000.0</td>\n",
              "      <td>4</td>\n",
              "      <td>3.00</td>\n",
              "      <td>1960</td>\n",
              "      <td>5000</td>\n",
              "      <td>1.0</td>\n",
              "      <td>0</td>\n",
              "      <td>0</td>\n",
              "      <td>5</td>\n",
              "      <td>7</td>\n",
              "      <td>1050</td>\n",
              "      <td>910</td>\n",
              "      <td>1965</td>\n",
              "      <td>0</td>\n",
              "      <td>98136</td>\n",
              "      <td>47.5208</td>\n",
              "      <td>-122.393</td>\n",
              "      <td>1360</td>\n",
              "      <td>5000</td>\n",
              "      <td>20</td>\n",
              "    </tr>\n",
              "    <tr>\n",
              "      <th>4</th>\n",
              "      <td>510000.0</td>\n",
              "      <td>3</td>\n",
              "      <td>2.00</td>\n",
              "      <td>1680</td>\n",
              "      <td>8080</td>\n",
              "      <td>1.0</td>\n",
              "      <td>0</td>\n",
              "      <td>0</td>\n",
              "      <td>3</td>\n",
              "      <td>8</td>\n",
              "      <td>1680</td>\n",
              "      <td>0</td>\n",
              "      <td>1987</td>\n",
              "      <td>0</td>\n",
              "      <td>98074</td>\n",
              "      <td>47.6168</td>\n",
              "      <td>-122.045</td>\n",
              "      <td>1800</td>\n",
              "      <td>7503</td>\n",
              "      <td>19</td>\n",
              "    </tr>\n",
              "  </tbody>\n",
              "</table>\n",
              "</div>"
            ],
            "text/plain": [
              "      price  bedrooms  bathrooms  ...  sqft_living15  sqft_lot15  city\n",
              "0  221900.0         3       1.00  ...           1340        5650    20\n",
              "1  538000.0         3       2.25  ...           1690        7639    20\n",
              "2  180000.0         2       1.00  ...           2720        8062    10\n",
              "3  604000.0         4       3.00  ...           1360        5000    20\n",
              "4  510000.0         3       2.00  ...           1800        7503    19\n",
              "\n",
              "[5 rows x 20 columns]"
            ]
          },
          "metadata": {
            "tags": []
          },
          "execution_count": 262
        }
      ]
    },
    {
      "cell_type": "code",
      "metadata": {
        "id": "kTr_4-niqOPW"
      },
      "source": [
        "independent_only = df.drop(['price'], axis=1)"
      ],
      "execution_count": null,
      "outputs": []
    },
    {
      "cell_type": "code",
      "metadata": {
        "colab": {
          "base_uri": "https://localhost:8080/"
        },
        "id": "pvxaTqYLqwkm",
        "outputId": "2214a3e0-790f-41ae-fb18-41ce167c9d62"
      },
      "source": [
        "correlations = independent_only.corr()\n",
        "correlations"
      ],
      "execution_count": null,
      "outputs": [
        {
          "output_type": "execute_result",
          "data": {
            "text/html": [
              "<div>\n",
              "<style scoped>\n",
              "    .dataframe tbody tr th:only-of-type {\n",
              "        vertical-align: middle;\n",
              "    }\n",
              "\n",
              "    .dataframe tbody tr th {\n",
              "        vertical-align: top;\n",
              "    }\n",
              "\n",
              "    .dataframe thead th {\n",
              "        text-align: right;\n",
              "    }\n",
              "</style>\n",
              "<table border=\"1\" class=\"dataframe\">\n",
              "  <thead>\n",
              "    <tr style=\"text-align: right;\">\n",
              "      <th></th>\n",
              "      <th>bedrooms</th>\n",
              "      <th>bathrooms</th>\n",
              "      <th>sqft_living</th>\n",
              "      <th>sqft_lot</th>\n",
              "      <th>floors</th>\n",
              "      <th>waterfront</th>\n",
              "      <th>view</th>\n",
              "      <th>condition</th>\n",
              "      <th>grade</th>\n",
              "      <th>sqft_above</th>\n",
              "      <th>sqft_basement</th>\n",
              "      <th>yr_built</th>\n",
              "      <th>yr_renovated</th>\n",
              "      <th>zipcode</th>\n",
              "      <th>lat</th>\n",
              "      <th>long</th>\n",
              "      <th>sqft_living15</th>\n",
              "      <th>sqft_lot15</th>\n",
              "      <th>city</th>\n",
              "    </tr>\n",
              "  </thead>\n",
              "  <tbody>\n",
              "    <tr>\n",
              "      <th>bedrooms</th>\n",
              "      <td>1.000000</td>\n",
              "      <td>0.515935</td>\n",
              "      <td>0.576674</td>\n",
              "      <td>0.031699</td>\n",
              "      <td>0.175448</td>\n",
              "      <td>-0.006583</td>\n",
              "      <td>0.079433</td>\n",
              "      <td>0.028422</td>\n",
              "      <td>0.357003</td>\n",
              "      <td>0.477619</td>\n",
              "      <td>0.303077</td>\n",
              "      <td>0.154276</td>\n",
              "      <td>0.018406</td>\n",
              "      <td>-0.152721</td>\n",
              "      <td>-0.008953</td>\n",
              "      <td>0.129474</td>\n",
              "      <td>0.391633</td>\n",
              "      <td>0.029233</td>\n",
              "      <td>-0.126882</td>\n",
              "    </tr>\n",
              "    <tr>\n",
              "      <th>bathrooms</th>\n",
              "      <td>0.515935</td>\n",
              "      <td>1.000000</td>\n",
              "      <td>0.754688</td>\n",
              "      <td>0.087750</td>\n",
              "      <td>0.500669</td>\n",
              "      <td>0.063747</td>\n",
              "      <td>0.187891</td>\n",
              "      <td>-0.124940</td>\n",
              "      <td>0.664990</td>\n",
              "      <td>0.685351</td>\n",
              "      <td>0.283814</td>\n",
              "      <td>0.505997</td>\n",
              "      <td>0.050401</td>\n",
              "      <td>-0.203831</td>\n",
              "      <td>0.024590</td>\n",
              "      <td>0.223047</td>\n",
              "      <td>0.568665</td>\n",
              "      <td>0.087191</td>\n",
              "      <td>-0.118600</td>\n",
              "    </tr>\n",
              "    <tr>\n",
              "      <th>sqft_living</th>\n",
              "      <td>0.576674</td>\n",
              "      <td>0.754688</td>\n",
              "      <td>1.000000</td>\n",
              "      <td>0.172830</td>\n",
              "      <td>0.353954</td>\n",
              "      <td>0.103820</td>\n",
              "      <td>0.284641</td>\n",
              "      <td>-0.058768</td>\n",
              "      <td>0.762719</td>\n",
              "      <td>0.876600</td>\n",
              "      <td>0.435054</td>\n",
              "      <td>0.318099</td>\n",
              "      <td>0.055045</td>\n",
              "      <td>-0.199435</td>\n",
              "      <td>0.052521</td>\n",
              "      <td>0.240221</td>\n",
              "      <td>0.756420</td>\n",
              "      <td>0.183285</td>\n",
              "      <td>-0.129034</td>\n",
              "    </tr>\n",
              "    <tr>\n",
              "      <th>sqft_lot</th>\n",
              "      <td>0.031699</td>\n",
              "      <td>0.087750</td>\n",
              "      <td>0.172830</td>\n",
              "      <td>1.000000</td>\n",
              "      <td>-0.005171</td>\n",
              "      <td>0.021601</td>\n",
              "      <td>0.074753</td>\n",
              "      <td>-0.008967</td>\n",
              "      <td>0.113644</td>\n",
              "      <td>0.183527</td>\n",
              "      <td>0.015271</td>\n",
              "      <td>0.053105</td>\n",
              "      <td>0.007780</td>\n",
              "      <td>-0.129611</td>\n",
              "      <td>-0.085680</td>\n",
              "      <td>0.229552</td>\n",
              "      <td>0.144620</td>\n",
              "      <td>0.718556</td>\n",
              "      <td>-0.101243</td>\n",
              "    </tr>\n",
              "    <tr>\n",
              "      <th>floors</th>\n",
              "      <td>0.175448</td>\n",
              "      <td>0.500669</td>\n",
              "      <td>0.353954</td>\n",
              "      <td>-0.005171</td>\n",
              "      <td>1.000000</td>\n",
              "      <td>0.023711</td>\n",
              "      <td>0.029325</td>\n",
              "      <td>-0.263779</td>\n",
              "      <td>0.458151</td>\n",
              "      <td>0.523874</td>\n",
              "      <td>-0.245673</td>\n",
              "      <td>0.489347</td>\n",
              "      <td>0.006075</td>\n",
              "      <td>-0.059025</td>\n",
              "      <td>0.049593</td>\n",
              "      <td>0.125343</td>\n",
              "      <td>0.279861</td>\n",
              "      <td>-0.011250</td>\n",
              "      <td>0.035938</td>\n",
              "    </tr>\n",
              "    <tr>\n",
              "      <th>waterfront</th>\n",
              "      <td>-0.006583</td>\n",
              "      <td>0.063747</td>\n",
              "      <td>0.103820</td>\n",
              "      <td>0.021601</td>\n",
              "      <td>0.023711</td>\n",
              "      <td>1.000000</td>\n",
              "      <td>0.401993</td>\n",
              "      <td>0.016652</td>\n",
              "      <td>0.082785</td>\n",
              "      <td>0.072080</td>\n",
              "      <td>0.080585</td>\n",
              "      <td>-0.026159</td>\n",
              "      <td>0.093360</td>\n",
              "      <td>0.030277</td>\n",
              "      <td>-0.014272</td>\n",
              "      <td>-0.041904</td>\n",
              "      <td>0.086469</td>\n",
              "      <td>0.030702</td>\n",
              "      <td>0.027929</td>\n",
              "    </tr>\n",
              "    <tr>\n",
              "      <th>view</th>\n",
              "      <td>0.079433</td>\n",
              "      <td>0.187891</td>\n",
              "      <td>0.284641</td>\n",
              "      <td>0.074753</td>\n",
              "      <td>0.029325</td>\n",
              "      <td>0.401993</td>\n",
              "      <td>1.000000</td>\n",
              "      <td>0.045836</td>\n",
              "      <td>0.251378</td>\n",
              "      <td>0.167659</td>\n",
              "      <td>0.276996</td>\n",
              "      <td>-0.053229</td>\n",
              "      <td>0.103347</td>\n",
              "      <td>0.084838</td>\n",
              "      <td>0.006049</td>\n",
              "      <td>-0.078560</td>\n",
              "      <td>0.280404</td>\n",
              "      <td>0.072577</td>\n",
              "      <td>0.027504</td>\n",
              "    </tr>\n",
              "    <tr>\n",
              "      <th>condition</th>\n",
              "      <td>0.028422</td>\n",
              "      <td>-0.124940</td>\n",
              "      <td>-0.058768</td>\n",
              "      <td>-0.008967</td>\n",
              "      <td>-0.263779</td>\n",
              "      <td>0.016652</td>\n",
              "      <td>0.045836</td>\n",
              "      <td>1.000000</td>\n",
              "      <td>-0.144655</td>\n",
              "      <td>-0.158212</td>\n",
              "      <td>0.174071</td>\n",
              "      <td>-0.361347</td>\n",
              "      <td>-0.060386</td>\n",
              "      <td>0.002962</td>\n",
              "      <td>-0.014971</td>\n",
              "      <td>-0.106512</td>\n",
              "      <td>-0.092854</td>\n",
              "      <td>-0.003424</td>\n",
              "      <td>-0.034226</td>\n",
              "    </tr>\n",
              "    <tr>\n",
              "      <th>grade</th>\n",
              "      <td>0.357003</td>\n",
              "      <td>0.664990</td>\n",
              "      <td>0.762719</td>\n",
              "      <td>0.113644</td>\n",
              "      <td>0.458151</td>\n",
              "      <td>0.082785</td>\n",
              "      <td>0.251378</td>\n",
              "      <td>-0.144655</td>\n",
              "      <td>1.000000</td>\n",
              "      <td>0.755919</td>\n",
              "      <td>0.168443</td>\n",
              "      <td>0.446966</td>\n",
              "      <td>0.013965</td>\n",
              "      <td>-0.184795</td>\n",
              "      <td>0.114086</td>\n",
              "      <td>0.198347</td>\n",
              "      <td>0.713208</td>\n",
              "      <td>0.119265</td>\n",
              "      <td>-0.103553</td>\n",
              "    </tr>\n",
              "    <tr>\n",
              "      <th>sqft_above</th>\n",
              "      <td>0.477619</td>\n",
              "      <td>0.685351</td>\n",
              "      <td>0.876600</td>\n",
              "      <td>0.183527</td>\n",
              "      <td>0.523874</td>\n",
              "      <td>0.072080</td>\n",
              "      <td>0.167659</td>\n",
              "      <td>-0.158212</td>\n",
              "      <td>0.755919</td>\n",
              "      <td>1.000000</td>\n",
              "      <td>-0.051923</td>\n",
              "      <td>0.423922</td>\n",
              "      <td>0.023126</td>\n",
              "      <td>-0.261163</td>\n",
              "      <td>-0.000823</td>\n",
              "      <td>0.343791</td>\n",
              "      <td>0.731870</td>\n",
              "      <td>0.194060</td>\n",
              "      <td>-0.152795</td>\n",
              "    </tr>\n",
              "    <tr>\n",
              "      <th>sqft_basement</th>\n",
              "      <td>0.303077</td>\n",
              "      <td>0.283814</td>\n",
              "      <td>0.435054</td>\n",
              "      <td>0.015271</td>\n",
              "      <td>-0.245673</td>\n",
              "      <td>0.080585</td>\n",
              "      <td>0.276996</td>\n",
              "      <td>0.174071</td>\n",
              "      <td>0.168443</td>\n",
              "      <td>-0.051923</td>\n",
              "      <td>1.000000</td>\n",
              "      <td>-0.133062</td>\n",
              "      <td>0.070960</td>\n",
              "      <td>0.074781</td>\n",
              "      <td>0.110535</td>\n",
              "      <td>-0.144743</td>\n",
              "      <td>0.200367</td>\n",
              "      <td>0.017260</td>\n",
              "      <td>0.018116</td>\n",
              "    </tr>\n",
              "    <tr>\n",
              "      <th>yr_built</th>\n",
              "      <td>0.154276</td>\n",
              "      <td>0.505997</td>\n",
              "      <td>0.318099</td>\n",
              "      <td>0.053105</td>\n",
              "      <td>0.489347</td>\n",
              "      <td>-0.026159</td>\n",
              "      <td>-0.053229</td>\n",
              "      <td>-0.361347</td>\n",
              "      <td>0.446966</td>\n",
              "      <td>0.423922</td>\n",
              "      <td>-0.133062</td>\n",
              "      <td>1.000000</td>\n",
              "      <td>-0.225050</td>\n",
              "      <td>-0.346808</td>\n",
              "      <td>-0.148099</td>\n",
              "      <td>0.409395</td>\n",
              "      <td>0.326298</td>\n",
              "      <td>0.070999</td>\n",
              "      <td>-0.230302</td>\n",
              "    </tr>\n",
              "    <tr>\n",
              "      <th>yr_renovated</th>\n",
              "      <td>0.018406</td>\n",
              "      <td>0.050401</td>\n",
              "      <td>0.055045</td>\n",
              "      <td>0.007780</td>\n",
              "      <td>0.006075</td>\n",
              "      <td>0.093360</td>\n",
              "      <td>0.103347</td>\n",
              "      <td>-0.060386</td>\n",
              "      <td>0.013965</td>\n",
              "      <td>0.023126</td>\n",
              "      <td>0.070960</td>\n",
              "      <td>-0.225050</td>\n",
              "      <td>1.000000</td>\n",
              "      <td>0.064367</td>\n",
              "      <td>0.029222</td>\n",
              "      <td>-0.068602</td>\n",
              "      <td>-0.002926</td>\n",
              "      <td>0.007903</td>\n",
              "      <td>0.040165</td>\n",
              "    </tr>\n",
              "    <tr>\n",
              "      <th>zipcode</th>\n",
              "      <td>-0.152721</td>\n",
              "      <td>-0.203831</td>\n",
              "      <td>-0.199435</td>\n",
              "      <td>-0.129611</td>\n",
              "      <td>-0.059025</td>\n",
              "      <td>0.030277</td>\n",
              "      <td>0.084838</td>\n",
              "      <td>0.002962</td>\n",
              "      <td>-0.184795</td>\n",
              "      <td>-0.261163</td>\n",
              "      <td>0.074781</td>\n",
              "      <td>-0.346808</td>\n",
              "      <td>0.064367</td>\n",
              "      <td>1.000000</td>\n",
              "      <td>0.267064</td>\n",
              "      <td>-0.564069</td>\n",
              "      <td>-0.279033</td>\n",
              "      <td>-0.147257</td>\n",
              "      <td>0.752247</td>\n",
              "    </tr>\n",
              "    <tr>\n",
              "      <th>lat</th>\n",
              "      <td>-0.008953</td>\n",
              "      <td>0.024590</td>\n",
              "      <td>0.052521</td>\n",
              "      <td>-0.085680</td>\n",
              "      <td>0.049593</td>\n",
              "      <td>-0.014272</td>\n",
              "      <td>0.006049</td>\n",
              "      <td>-0.014971</td>\n",
              "      <td>0.114086</td>\n",
              "      <td>-0.000823</td>\n",
              "      <td>0.110535</td>\n",
              "      <td>-0.148099</td>\n",
              "      <td>0.029222</td>\n",
              "      <td>0.267064</td>\n",
              "      <td>1.000000</td>\n",
              "      <td>-0.135545</td>\n",
              "      <td>0.048839</td>\n",
              "      <td>-0.086423</td>\n",
              "      <td>0.378595</td>\n",
              "    </tr>\n",
              "    <tr>\n",
              "      <th>long</th>\n",
              "      <td>0.129474</td>\n",
              "      <td>0.223047</td>\n",
              "      <td>0.240221</td>\n",
              "      <td>0.229552</td>\n",
              "      <td>0.125343</td>\n",
              "      <td>-0.041904</td>\n",
              "      <td>-0.078560</td>\n",
              "      <td>-0.106512</td>\n",
              "      <td>0.198347</td>\n",
              "      <td>0.343791</td>\n",
              "      <td>-0.144743</td>\n",
              "      <td>0.409395</td>\n",
              "      <td>-0.068602</td>\n",
              "      <td>-0.564069</td>\n",
              "      <td>-0.135545</td>\n",
              "      <td>1.000000</td>\n",
              "      <td>0.334592</td>\n",
              "      <td>0.254475</td>\n",
              "      <td>-0.333690</td>\n",
              "    </tr>\n",
              "    <tr>\n",
              "      <th>sqft_living15</th>\n",
              "      <td>0.391633</td>\n",
              "      <td>0.568665</td>\n",
              "      <td>0.756420</td>\n",
              "      <td>0.144620</td>\n",
              "      <td>0.279861</td>\n",
              "      <td>0.086469</td>\n",
              "      <td>0.280404</td>\n",
              "      <td>-0.092854</td>\n",
              "      <td>0.713208</td>\n",
              "      <td>0.731870</td>\n",
              "      <td>0.200367</td>\n",
              "      <td>0.326298</td>\n",
              "      <td>-0.002926</td>\n",
              "      <td>-0.279033</td>\n",
              "      <td>0.048839</td>\n",
              "      <td>0.334592</td>\n",
              "      <td>1.000000</td>\n",
              "      <td>0.183194</td>\n",
              "      <td>-0.177420</td>\n",
              "    </tr>\n",
              "    <tr>\n",
              "      <th>sqft_lot15</th>\n",
              "      <td>0.029233</td>\n",
              "      <td>0.087191</td>\n",
              "      <td>0.183285</td>\n",
              "      <td>0.718556</td>\n",
              "      <td>-0.011250</td>\n",
              "      <td>0.030702</td>\n",
              "      <td>0.072577</td>\n",
              "      <td>-0.003424</td>\n",
              "      <td>0.119265</td>\n",
              "      <td>0.194060</td>\n",
              "      <td>0.017260</td>\n",
              "      <td>0.070999</td>\n",
              "      <td>0.007903</td>\n",
              "      <td>-0.147257</td>\n",
              "      <td>-0.086423</td>\n",
              "      <td>0.254475</td>\n",
              "      <td>0.183194</td>\n",
              "      <td>1.000000</td>\n",
              "      <td>-0.127874</td>\n",
              "    </tr>\n",
              "    <tr>\n",
              "      <th>city</th>\n",
              "      <td>-0.126882</td>\n",
              "      <td>-0.118600</td>\n",
              "      <td>-0.129034</td>\n",
              "      <td>-0.101243</td>\n",
              "      <td>0.035938</td>\n",
              "      <td>0.027929</td>\n",
              "      <td>0.027504</td>\n",
              "      <td>-0.034226</td>\n",
              "      <td>-0.103553</td>\n",
              "      <td>-0.152795</td>\n",
              "      <td>0.018116</td>\n",
              "      <td>-0.230302</td>\n",
              "      <td>0.040165</td>\n",
              "      <td>0.752247</td>\n",
              "      <td>0.378595</td>\n",
              "      <td>-0.333690</td>\n",
              "      <td>-0.177420</td>\n",
              "      <td>-0.127874</td>\n",
              "      <td>1.000000</td>\n",
              "    </tr>\n",
              "  </tbody>\n",
              "</table>\n",
              "</div>"
            ],
            "text/plain": [
              "               bedrooms  bathrooms  ...  sqft_lot15      city\n",
              "bedrooms       1.000000   0.515935  ...    0.029233 -0.126882\n",
              "bathrooms      0.515935   1.000000  ...    0.087191 -0.118600\n",
              "sqft_living    0.576674   0.754688  ...    0.183285 -0.129034\n",
              "sqft_lot       0.031699   0.087750  ...    0.718556 -0.101243\n",
              "floors         0.175448   0.500669  ...   -0.011250  0.035938\n",
              "waterfront    -0.006583   0.063747  ...    0.030702  0.027929\n",
              "view           0.079433   0.187891  ...    0.072577  0.027504\n",
              "condition      0.028422  -0.124940  ...   -0.003424 -0.034226\n",
              "grade          0.357003   0.664990  ...    0.119265 -0.103553\n",
              "sqft_above     0.477619   0.685351  ...    0.194060 -0.152795\n",
              "sqft_basement  0.303077   0.283814  ...    0.017260  0.018116\n",
              "yr_built       0.154276   0.505997  ...    0.070999 -0.230302\n",
              "yr_renovated   0.018406   0.050401  ...    0.007903  0.040165\n",
              "zipcode       -0.152721  -0.203831  ...   -0.147257  0.752247\n",
              "lat           -0.008953   0.024590  ...   -0.086423  0.378595\n",
              "long           0.129474   0.223047  ...    0.254475 -0.333690\n",
              "sqft_living15  0.391633   0.568665  ...    0.183194 -0.177420\n",
              "sqft_lot15     0.029233   0.087191  ...    1.000000 -0.127874\n",
              "city          -0.126882  -0.118600  ...   -0.127874  1.000000\n",
              "\n",
              "[19 rows x 19 columns]"
            ]
          },
          "metadata": {
            "tags": []
          },
          "execution_count": 264
        }
      ]
    },
    {
      "cell_type": "code",
      "metadata": {
        "colab": {
          "base_uri": "https://localhost:8080/"
        },
        "id": "3IW9fEl7q5Md",
        "outputId": "2bc74963-b9a8-4311-b02e-1b8f16773c03"
      },
      "source": [
        "pd.DataFrame(np.linalg.inv(correlations.to_numpy()), \n",
        "             index = correlations.index, \n",
        "             columns = correlations.columns)"
      ],
      "execution_count": null,
      "outputs": [
        {
          "output_type": "execute_result",
          "data": {
            "text/html": [
              "<div>\n",
              "<style scoped>\n",
              "    .dataframe tbody tr th:only-of-type {\n",
              "        vertical-align: middle;\n",
              "    }\n",
              "\n",
              "    .dataframe tbody tr th {\n",
              "        vertical-align: top;\n",
              "    }\n",
              "\n",
              "    .dataframe thead th {\n",
              "        text-align: right;\n",
              "    }\n",
              "</style>\n",
              "<table border=\"1\" class=\"dataframe\">\n",
              "  <thead>\n",
              "    <tr style=\"text-align: right;\">\n",
              "      <th></th>\n",
              "      <th>bedrooms</th>\n",
              "      <th>bathrooms</th>\n",
              "      <th>sqft_living</th>\n",
              "      <th>sqft_lot</th>\n",
              "      <th>floors</th>\n",
              "      <th>waterfront</th>\n",
              "      <th>view</th>\n",
              "      <th>condition</th>\n",
              "      <th>grade</th>\n",
              "      <th>sqft_above</th>\n",
              "      <th>sqft_basement</th>\n",
              "      <th>yr_built</th>\n",
              "      <th>yr_renovated</th>\n",
              "      <th>zipcode</th>\n",
              "      <th>lat</th>\n",
              "      <th>long</th>\n",
              "      <th>sqft_living15</th>\n",
              "      <th>sqft_lot15</th>\n",
              "      <th>city</th>\n",
              "    </tr>\n",
              "  </thead>\n",
              "  <tbody>\n",
              "    <tr>\n",
              "      <th>bedrooms</th>\n",
              "      <td>1.654400</td>\n",
              "      <td>-0.463218</td>\n",
              "      <td>-6.315196e-01</td>\n",
              "      <td>0.048021</td>\n",
              "      <td>0.044653</td>\n",
              "      <td>0.061002</td>\n",
              "      <td>0.116917</td>\n",
              "      <td>-0.049973</td>\n",
              "      <td>0.308939</td>\n",
              "      <td>-3.030003e-01</td>\n",
              "      <td>-1.786394e-01</td>\n",
              "      <td>0.136583</td>\n",
              "      <td>0.046792</td>\n",
              "      <td>0.021527</td>\n",
              "      <td>0.036606</td>\n",
              "      <td>0.007591</td>\n",
              "      <td>0.025004</td>\n",
              "      <td>0.088351</td>\n",
              "      <td>0.076422</td>\n",
              "    </tr>\n",
              "    <tr>\n",
              "      <th>bathrooms</th>\n",
              "      <td>-0.463218</td>\n",
              "      <td>3.352384</td>\n",
              "      <td>-3.068845e+00</td>\n",
              "      <td>-0.022944</td>\n",
              "      <td>-0.671253</td>\n",
              "      <td>0.011800</td>\n",
              "      <td>-0.044376</td>\n",
              "      <td>-0.137540</td>\n",
              "      <td>-0.269733</td>\n",
              "      <td>1.495829e+00</td>\n",
              "      <td>3.992427e-01</td>\n",
              "      <td>-0.937037</td>\n",
              "      <td>-0.260457</td>\n",
              "      <td>0.088662</td>\n",
              "      <td>-0.029658</td>\n",
              "      <td>0.061654</td>\n",
              "      <td>0.092395</td>\n",
              "      <td>0.069070</td>\n",
              "      <td>-0.061074</td>\n",
              "    </tr>\n",
              "    <tr>\n",
              "      <th>sqft_living</th>\n",
              "      <td>-0.632622</td>\n",
              "      <td>-3.069177</td>\n",
              "      <td>1.814600e+13</td>\n",
              "      <td>-0.086687</td>\n",
              "      <td>2.761432</td>\n",
              "      <td>-0.051460</td>\n",
              "      <td>-0.005694</td>\n",
              "      <td>-0.235039</td>\n",
              "      <td>-1.926871</td>\n",
              "      <td>-1.636081e+13</td>\n",
              "      <td>-8.743992e+12</td>\n",
              "      <td>0.308786</td>\n",
              "      <td>-0.172109</td>\n",
              "      <td>-0.219123</td>\n",
              "      <td>-0.034019</td>\n",
              "      <td>0.265235</td>\n",
              "      <td>-1.096231</td>\n",
              "      <td>-0.051331</td>\n",
              "      <td>-0.186728</td>\n",
              "    </tr>\n",
              "    <tr>\n",
              "      <th>sqft_lot</th>\n",
              "      <td>0.048021</td>\n",
              "      <td>-0.022944</td>\n",
              "      <td>-8.749806e-02</td>\n",
              "      <td>2.103283</td>\n",
              "      <td>0.048212</td>\n",
              "      <td>0.028568</td>\n",
              "      <td>-0.060567</td>\n",
              "      <td>0.030099</td>\n",
              "      <td>-0.054994</td>\n",
              "      <td>-1.203988e-01</td>\n",
              "      <td>-9.600691e-04</td>\n",
              "      <td>0.097488</td>\n",
              "      <td>0.020646</td>\n",
              "      <td>0.031722</td>\n",
              "      <td>0.061656</td>\n",
              "      <td>-0.127373</td>\n",
              "      <td>0.164073</td>\n",
              "      <td>-1.461020</td>\n",
              "      <td>-0.044696</td>\n",
              "    </tr>\n",
              "    <tr>\n",
              "      <th>floors</th>\n",
              "      <td>0.044653</td>\n",
              "      <td>-0.671253</td>\n",
              "      <td>2.763861e+00</td>\n",
              "      <td>0.048212</td>\n",
              "      <td>2.024024</td>\n",
              "      <td>-0.000718</td>\n",
              "      <td>-0.045848</td>\n",
              "      <td>0.088298</td>\n",
              "      <td>-0.235452</td>\n",
              "      <td>-2.995904e+00</td>\n",
              "      <td>-7.188173e-01</td>\n",
              "      <td>-0.486104</td>\n",
              "      <td>-0.082211</td>\n",
              "      <td>-0.034647</td>\n",
              "      <td>-0.094475</td>\n",
              "      <td>0.187410</td>\n",
              "      <td>0.273280</td>\n",
              "      <td>0.065843</td>\n",
              "      <td>-0.177436</td>\n",
              "    </tr>\n",
              "    <tr>\n",
              "      <th>waterfront</th>\n",
              "      <td>0.061002</td>\n",
              "      <td>0.011800</td>\n",
              "      <td>-5.181368e-02</td>\n",
              "      <td>0.028568</td>\n",
              "      <td>-0.000718</td>\n",
              "      <td>1.205906</td>\n",
              "      <td>-0.495130</td>\n",
              "      <td>-0.013470</td>\n",
              "      <td>0.047435</td>\n",
              "      <td>-6.531369e-02</td>\n",
              "      <td>2.041207e-02</td>\n",
              "      <td>-0.023149</td>\n",
              "      <td>-0.067065</td>\n",
              "      <td>0.076493</td>\n",
              "      <td>0.022895</td>\n",
              "      <td>0.036418</td>\n",
              "      <td>0.054637</td>\n",
              "      <td>-0.021175</td>\n",
              "      <td>-0.070293</td>\n",
              "    </tr>\n",
              "    <tr>\n",
              "      <th>view</th>\n",
              "      <td>0.116917</td>\n",
              "      <td>-0.044376</td>\n",
              "      <td>-4.802182e-03</td>\n",
              "      <td>-0.060567</td>\n",
              "      <td>-0.045848</td>\n",
              "      <td>-0.495130</td>\n",
              "      <td>1.438130</td>\n",
              "      <td>-0.020393</td>\n",
              "      <td>-0.183076</td>\n",
              "      <td>4.369219e-02</td>\n",
              "      <td>-2.530601e-01</td>\n",
              "      <td>0.153872</td>\n",
              "      <td>-0.038310</td>\n",
              "      <td>-0.206418</td>\n",
              "      <td>0.102669</td>\n",
              "      <td>0.060771</td>\n",
              "      <td>-0.325695</td>\n",
              "      <td>-0.004177</td>\n",
              "      <td>0.085694</td>\n",
              "    </tr>\n",
              "    <tr>\n",
              "      <th>condition</th>\n",
              "      <td>-0.049973</td>\n",
              "      <td>-0.137540</td>\n",
              "      <td>-2.353840e-01</td>\n",
              "      <td>0.030099</td>\n",
              "      <td>0.088298</td>\n",
              "      <td>-0.013470</td>\n",
              "      <td>-0.020393</td>\n",
              "      <td>1.249478</td>\n",
              "      <td>-0.053740</td>\n",
              "      <td>2.676192e-01</td>\n",
              "      <td>1.622415e-02</td>\n",
              "      <td>0.561812</td>\n",
              "      <td>0.206554</td>\n",
              "      <td>0.144019</td>\n",
              "      <td>0.059498</td>\n",
              "      <td>-0.009766</td>\n",
              "      <td>0.075697</td>\n",
              "      <td>-0.027355</td>\n",
              "      <td>0.022487</td>\n",
              "    </tr>\n",
              "    <tr>\n",
              "      <th>grade</th>\n",
              "      <td>0.308939</td>\n",
              "      <td>-0.269733</td>\n",
              "      <td>-1.929780e+00</td>\n",
              "      <td>-0.054994</td>\n",
              "      <td>-0.235452</td>\n",
              "      <td>0.047435</td>\n",
              "      <td>-0.183076</td>\n",
              "      <td>-0.053740</td>\n",
              "      <td>3.418629</td>\n",
              "      <td>1.305149e-01</td>\n",
              "      <td>4.443640e-01</td>\n",
              "      <td>-0.636743</td>\n",
              "      <td>-0.069898</td>\n",
              "      <td>0.031173</td>\n",
              "      <td>-0.343442</td>\n",
              "      <td>0.384844</td>\n",
              "      <td>-0.911746</td>\n",
              "      <td>0.074445</td>\n",
              "      <td>0.067754</td>\n",
              "    </tr>\n",
              "    <tr>\n",
              "      <th>sqft_above</th>\n",
              "      <td>-0.304773</td>\n",
              "      <td>1.494247</td>\n",
              "      <td>-1.636081e+13</td>\n",
              "      <td>-0.121193</td>\n",
              "      <td>-2.994190</td>\n",
              "      <td>-0.065605</td>\n",
              "      <td>0.044528</td>\n",
              "      <td>0.267337</td>\n",
              "      <td>0.127696</td>\n",
              "      <td>1.475124e+13</td>\n",
              "      <td>7.883763e+12</td>\n",
              "      <td>0.241265</td>\n",
              "      <td>0.153524</td>\n",
              "      <td>0.121129</td>\n",
              "      <td>0.211483</td>\n",
              "      <td>-0.580986</td>\n",
              "      <td>-0.547326</td>\n",
              "      <td>-0.129384</td>\n",
              "      <td>0.169373</td>\n",
              "    </tr>\n",
              "    <tr>\n",
              "      <th>sqft_basement</th>\n",
              "      <td>-0.178570</td>\n",
              "      <td>0.398712</td>\n",
              "      <td>-8.743992e+12</td>\n",
              "      <td>-0.001363</td>\n",
              "      <td>-0.717668</td>\n",
              "      <td>0.020248</td>\n",
              "      <td>-0.252604</td>\n",
              "      <td>0.016074</td>\n",
              "      <td>0.442980</td>\n",
              "      <td>7.883763e+12</td>\n",
              "      <td>4.213458e+12</td>\n",
              "      <td>0.097408</td>\n",
              "      <td>0.069444</td>\n",
              "      <td>-0.000783</td>\n",
              "      <td>-0.070875</td>\n",
              "      <td>0.015670</td>\n",
              "      <td>0.057040</td>\n",
              "      <td>-0.033581</td>\n",
              "      <td>0.122679</td>\n",
              "    </tr>\n",
              "    <tr>\n",
              "      <th>yr_built</th>\n",
              "      <td>0.136583</td>\n",
              "      <td>-0.937037</td>\n",
              "      <td>3.062625e-01</td>\n",
              "      <td>0.097488</td>\n",
              "      <td>-0.486104</td>\n",
              "      <td>-0.023149</td>\n",
              "      <td>0.153872</td>\n",
              "      <td>0.561812</td>\n",
              "      <td>-0.636743</td>\n",
              "      <td>2.435400e-01</td>\n",
              "      <td>9.862423e-02</td>\n",
              "      <td>2.431969</td>\n",
              "      <td>0.534399</td>\n",
              "      <td>0.204164</td>\n",
              "      <td>0.297594</td>\n",
              "      <td>-0.514404</td>\n",
              "      <td>0.077240</td>\n",
              "      <td>-0.031076</td>\n",
              "      <td>0.068637</td>\n",
              "    </tr>\n",
              "    <tr>\n",
              "      <th>yr_renovated</th>\n",
              "      <td>0.046792</td>\n",
              "      <td>-0.260457</td>\n",
              "      <td>-1.729180e-01</td>\n",
              "      <td>0.020646</td>\n",
              "      <td>-0.082211</td>\n",
              "      <td>-0.067065</td>\n",
              "      <td>-0.038310</td>\n",
              "      <td>0.206554</td>\n",
              "      <td>-0.069898</td>\n",
              "      <td>1.542535e-01</td>\n",
              "      <td>6.983414e-02</td>\n",
              "      <td>0.534399</td>\n",
              "      <td>1.150727</td>\n",
              "      <td>0.014995</td>\n",
              "      <td>0.040739</td>\n",
              "      <td>-0.057751</td>\n",
              "      <td>0.098722</td>\n",
              "      <td>-0.021027</td>\n",
              "      <td>0.028547</td>\n",
              "    </tr>\n",
              "    <tr>\n",
              "      <th>zipcode</th>\n",
              "      <td>0.021527</td>\n",
              "      <td>0.088662</td>\n",
              "      <td>-2.184675e-01</td>\n",
              "      <td>0.031722</td>\n",
              "      <td>-0.034647</td>\n",
              "      <td>0.076493</td>\n",
              "      <td>-0.206418</td>\n",
              "      <td>0.144019</td>\n",
              "      <td>0.031173</td>\n",
              "      <td>1.205387e-01</td>\n",
              "      <td>-1.098463e-03</td>\n",
              "      <td>0.204164</td>\n",
              "      <td>0.014995</td>\n",
              "      <td>3.206523</td>\n",
              "      <td>0.066706</td>\n",
              "      <td>0.996097</td>\n",
              "      <td>0.217520</td>\n",
              "      <td>-0.092766</td>\n",
              "      <td>-2.012166</td>\n",
              "    </tr>\n",
              "    <tr>\n",
              "      <th>lat</th>\n",
              "      <td>0.036606</td>\n",
              "      <td>-0.029658</td>\n",
              "      <td>-3.340841e-02</td>\n",
              "      <td>0.061656</td>\n",
              "      <td>-0.094475</td>\n",
              "      <td>0.022895</td>\n",
              "      <td>0.102669</td>\n",
              "      <td>0.059498</td>\n",
              "      <td>-0.343442</td>\n",
              "      <td>2.109330e-01</td>\n",
              "      <td>-7.116920e-02</td>\n",
              "      <td>0.297594</td>\n",
              "      <td>0.040739</td>\n",
              "      <td>0.066706</td>\n",
              "      <td>1.271604</td>\n",
              "      <td>-0.037177</td>\n",
              "      <td>-0.093049</td>\n",
              "      <td>0.017905</td>\n",
              "      <td>-0.488345</td>\n",
              "    </tr>\n",
              "    <tr>\n",
              "      <th>long</th>\n",
              "      <td>0.007591</td>\n",
              "      <td>0.061654</td>\n",
              "      <td>2.661620e-01</td>\n",
              "      <td>-0.127373</td>\n",
              "      <td>0.187410</td>\n",
              "      <td>0.036418</td>\n",
              "      <td>0.060771</td>\n",
              "      <td>-0.009766</td>\n",
              "      <td>0.384844</td>\n",
              "      <td>-5.818218e-01</td>\n",
              "      <td>1.522312e-02</td>\n",
              "      <td>-0.514404</td>\n",
              "      <td>-0.057751</td>\n",
              "      <td>0.996097</td>\n",
              "      <td>-0.037177</td>\n",
              "      <td>1.870169</td>\n",
              "      <td>-0.353230</td>\n",
              "      <td>-0.174000</td>\n",
              "      <td>-0.341605</td>\n",
              "    </tr>\n",
              "    <tr>\n",
              "      <th>sqft_living15</th>\n",
              "      <td>0.025004</td>\n",
              "      <td>0.092395</td>\n",
              "      <td>-1.099445e+00</td>\n",
              "      <td>0.164073</td>\n",
              "      <td>0.273280</td>\n",
              "      <td>0.054637</td>\n",
              "      <td>-0.325695</td>\n",
              "      <td>0.075697</td>\n",
              "      <td>-0.911746</td>\n",
              "      <td>-5.444279e-01</td>\n",
              "      <td>5.858901e-02</td>\n",
              "      <td>0.077240</td>\n",
              "      <td>0.098722</td>\n",
              "      <td>0.217520</td>\n",
              "      <td>-0.093049</td>\n",
              "      <td>-0.353230</td>\n",
              "      <td>2.979607</td>\n",
              "      <td>-0.125943</td>\n",
              "      <td>-0.009493</td>\n",
              "    </tr>\n",
              "    <tr>\n",
              "      <th>sqft_lot15</th>\n",
              "      <td>0.088351</td>\n",
              "      <td>0.069070</td>\n",
              "      <td>-5.048656e-02</td>\n",
              "      <td>-1.461020</td>\n",
              "      <td>0.065843</td>\n",
              "      <td>-0.021175</td>\n",
              "      <td>-0.004177</td>\n",
              "      <td>-0.027355</td>\n",
              "      <td>0.074445</td>\n",
              "      <td>-1.301452e-01</td>\n",
              "      <td>-3.398747e-02</td>\n",
              "      <td>-0.031076</td>\n",
              "      <td>-0.021027</td>\n",
              "      <td>-0.092766</td>\n",
              "      <td>0.017905</td>\n",
              "      <td>-0.174000</td>\n",
              "      <td>-0.125943</td>\n",
              "      <td>2.139523</td>\n",
              "      <td>0.100686</td>\n",
              "    </tr>\n",
              "    <tr>\n",
              "      <th>city</th>\n",
              "      <td>0.076422</td>\n",
              "      <td>-0.061074</td>\n",
              "      <td>-1.879018e-01</td>\n",
              "      <td>-0.044696</td>\n",
              "      <td>-0.177436</td>\n",
              "      <td>-0.070293</td>\n",
              "      <td>0.085694</td>\n",
              "      <td>0.022487</td>\n",
              "      <td>0.067754</td>\n",
              "      <td>1.704315e-01</td>\n",
              "      <td>1.232447e-01</td>\n",
              "      <td>0.068637</td>\n",
              "      <td>0.028547</td>\n",
              "      <td>-2.012166</td>\n",
              "      <td>-0.488345</td>\n",
              "      <td>-0.341605</td>\n",
              "      <td>-0.009493</td>\n",
              "      <td>0.100686</td>\n",
              "      <td>2.621651</td>\n",
              "    </tr>\n",
              "  </tbody>\n",
              "</table>\n",
              "</div>"
            ],
            "text/plain": [
              "               bedrooms  bathrooms  ...  sqft_lot15      city\n",
              "bedrooms       1.654400  -0.463218  ...    0.088351  0.076422\n",
              "bathrooms     -0.463218   3.352384  ...    0.069070 -0.061074\n",
              "sqft_living   -0.632622  -3.069177  ...   -0.051331 -0.186728\n",
              "sqft_lot       0.048021  -0.022944  ...   -1.461020 -0.044696\n",
              "floors         0.044653  -0.671253  ...    0.065843 -0.177436\n",
              "waterfront     0.061002   0.011800  ...   -0.021175 -0.070293\n",
              "view           0.116917  -0.044376  ...   -0.004177  0.085694\n",
              "condition     -0.049973  -0.137540  ...   -0.027355  0.022487\n",
              "grade          0.308939  -0.269733  ...    0.074445  0.067754\n",
              "sqft_above    -0.304773   1.494247  ...   -0.129384  0.169373\n",
              "sqft_basement -0.178570   0.398712  ...   -0.033581  0.122679\n",
              "yr_built       0.136583  -0.937037  ...   -0.031076  0.068637\n",
              "yr_renovated   0.046792  -0.260457  ...   -0.021027  0.028547\n",
              "zipcode        0.021527   0.088662  ...   -0.092766 -2.012166\n",
              "lat            0.036606  -0.029658  ...    0.017905 -0.488345\n",
              "long           0.007591   0.061654  ...   -0.174000 -0.341605\n",
              "sqft_living15  0.025004   0.092395  ...   -0.125943 -0.009493\n",
              "sqft_lot15     0.088351   0.069070  ...    2.139523  0.100686\n",
              "city           0.076422  -0.061074  ...    0.100686  2.621651\n",
              "\n",
              "[19 rows x 19 columns]"
            ]
          },
          "metadata": {
            "tags": []
          },
          "execution_count": 265
        }
      ]
    },
    {
      "cell_type": "code",
      "metadata": {
        "colab": {
          "base_uri": "https://localhost:8080/"
        },
        "id": "_hP2e-gAzctp",
        "outputId": "bf21403c-c451-4457-ea9e-50bfcc876415"
      },
      "source": [
        "independent_only = independent_only.drop(columns=['sqft_basement'])\n",
        "revised = independent_only\n",
        "\n",
        "correlations = revised.corr()\n",
        "pd.DataFrame(np.linalg.inv(correlations.values), index = correlations.index, columns=correlations.columns)"
      ],
      "execution_count": null,
      "outputs": [
        {
          "output_type": "execute_result",
          "data": {
            "text/html": [
              "<div>\n",
              "<style scoped>\n",
              "    .dataframe tbody tr th:only-of-type {\n",
              "        vertical-align: middle;\n",
              "    }\n",
              "\n",
              "    .dataframe tbody tr th {\n",
              "        vertical-align: top;\n",
              "    }\n",
              "\n",
              "    .dataframe thead th {\n",
              "        text-align: right;\n",
              "    }\n",
              "</style>\n",
              "<table border=\"1\" class=\"dataframe\">\n",
              "  <thead>\n",
              "    <tr style=\"text-align: right;\">\n",
              "      <th></th>\n",
              "      <th>bedrooms</th>\n",
              "      <th>bathrooms</th>\n",
              "      <th>sqft_living</th>\n",
              "      <th>sqft_lot</th>\n",
              "      <th>floors</th>\n",
              "      <th>waterfront</th>\n",
              "      <th>view</th>\n",
              "      <th>condition</th>\n",
              "      <th>grade</th>\n",
              "      <th>sqft_above</th>\n",
              "      <th>yr_built</th>\n",
              "      <th>yr_renovated</th>\n",
              "      <th>zipcode</th>\n",
              "      <th>lat</th>\n",
              "      <th>long</th>\n",
              "      <th>sqft_living15</th>\n",
              "      <th>sqft_lot15</th>\n",
              "      <th>city</th>\n",
              "    </tr>\n",
              "  </thead>\n",
              "  <tbody>\n",
              "    <tr>\n",
              "      <th>bedrooms</th>\n",
              "      <td>1.654400</td>\n",
              "      <td>-0.463218</td>\n",
              "      <td>-1.003200</td>\n",
              "      <td>0.048021</td>\n",
              "      <td>0.044653</td>\n",
              "      <td>0.061002</td>\n",
              "      <td>0.116917</td>\n",
              "      <td>-0.049973</td>\n",
              "      <td>0.308939</td>\n",
              "      <td>0.029348</td>\n",
              "      <td>0.136583</td>\n",
              "      <td>0.046792</td>\n",
              "      <td>0.021527</td>\n",
              "      <td>0.036606</td>\n",
              "      <td>0.007591</td>\n",
              "      <td>0.025004</td>\n",
              "      <td>0.088351</td>\n",
              "      <td>0.076422</td>\n",
              "    </tr>\n",
              "    <tr>\n",
              "      <th>bathrooms</th>\n",
              "      <td>-0.463218</td>\n",
              "      <td>3.352384</td>\n",
              "      <td>-2.241749</td>\n",
              "      <td>-0.022944</td>\n",
              "      <td>-0.671253</td>\n",
              "      <td>0.011800</td>\n",
              "      <td>-0.044376</td>\n",
              "      <td>-0.137540</td>\n",
              "      <td>-0.269733</td>\n",
              "      <td>0.748222</td>\n",
              "      <td>-0.937037</td>\n",
              "      <td>-0.260457</td>\n",
              "      <td>0.088662</td>\n",
              "      <td>-0.029658</td>\n",
              "      <td>0.061654</td>\n",
              "      <td>0.092395</td>\n",
              "      <td>0.069070</td>\n",
              "      <td>-0.061074</td>\n",
              "    </tr>\n",
              "    <tr>\n",
              "      <th>sqft_living</th>\n",
              "      <td>-1.003200</td>\n",
              "      <td>-2.241749</td>\n",
              "      <td>8.658493</td>\n",
              "      <td>-0.089516</td>\n",
              "      <td>1.272089</td>\n",
              "      <td>-0.009440</td>\n",
              "      <td>-0.529911</td>\n",
              "      <td>-0.201681</td>\n",
              "      <td>-1.007575</td>\n",
              "      <td>-5.031827</td>\n",
              "      <td>0.510933</td>\n",
              "      <td>-0.027994</td>\n",
              "      <td>-0.220747</td>\n",
              "      <td>-0.181103</td>\n",
              "      <td>0.297754</td>\n",
              "      <td>-0.977858</td>\n",
              "      <td>-0.121019</td>\n",
              "      <td>0.067862</td>\n",
              "    </tr>\n",
              "    <tr>\n",
              "      <th>sqft_lot</th>\n",
              "      <td>0.048021</td>\n",
              "      <td>-0.022944</td>\n",
              "      <td>-0.089516</td>\n",
              "      <td>2.103283</td>\n",
              "      <td>0.048212</td>\n",
              "      <td>0.028568</td>\n",
              "      <td>-0.060567</td>\n",
              "      <td>0.030099</td>\n",
              "      <td>-0.054994</td>\n",
              "      <td>-0.118643</td>\n",
              "      <td>0.097488</td>\n",
              "      <td>0.020646</td>\n",
              "      <td>0.031722</td>\n",
              "      <td>0.061656</td>\n",
              "      <td>-0.127373</td>\n",
              "      <td>0.164073</td>\n",
              "      <td>-1.461020</td>\n",
              "      <td>-0.044696</td>\n",
              "    </tr>\n",
              "    <tr>\n",
              "      <th>floors</th>\n",
              "      <td>0.044653</td>\n",
              "      <td>-0.671253</td>\n",
              "      <td>1.272089</td>\n",
              "      <td>0.048212</td>\n",
              "      <td>2.024024</td>\n",
              "      <td>-0.000718</td>\n",
              "      <td>-0.045848</td>\n",
              "      <td>0.088298</td>\n",
              "      <td>-0.235452</td>\n",
              "      <td>-1.651367</td>\n",
              "      <td>-0.486104</td>\n",
              "      <td>-0.082211</td>\n",
              "      <td>-0.034647</td>\n",
              "      <td>-0.094475</td>\n",
              "      <td>0.187410</td>\n",
              "      <td>0.273280</td>\n",
              "      <td>0.065843</td>\n",
              "      <td>-0.177436</td>\n",
              "    </tr>\n",
              "    <tr>\n",
              "      <th>waterfront</th>\n",
              "      <td>0.061002</td>\n",
              "      <td>0.011800</td>\n",
              "      <td>-0.009440</td>\n",
              "      <td>0.028568</td>\n",
              "      <td>-0.000718</td>\n",
              "      <td>1.205906</td>\n",
              "      <td>-0.495130</td>\n",
              "      <td>-0.013470</td>\n",
              "      <td>0.047435</td>\n",
              "      <td>-0.103490</td>\n",
              "      <td>-0.023149</td>\n",
              "      <td>-0.067065</td>\n",
              "      <td>0.076493</td>\n",
              "      <td>0.022895</td>\n",
              "      <td>0.036418</td>\n",
              "      <td>0.054637</td>\n",
              "      <td>-0.021175</td>\n",
              "      <td>-0.070293</td>\n",
              "    </tr>\n",
              "    <tr>\n",
              "      <th>view</th>\n",
              "      <td>0.116917</td>\n",
              "      <td>-0.044376</td>\n",
              "      <td>-0.529911</td>\n",
              "      <td>-0.060567</td>\n",
              "      <td>-0.045848</td>\n",
              "      <td>-0.495130</td>\n",
              "      <td>1.438130</td>\n",
              "      <td>-0.020393</td>\n",
              "      <td>-0.183076</td>\n",
              "      <td>0.517173</td>\n",
              "      <td>0.153872</td>\n",
              "      <td>-0.038310</td>\n",
              "      <td>-0.206418</td>\n",
              "      <td>0.102669</td>\n",
              "      <td>0.060771</td>\n",
              "      <td>-0.325695</td>\n",
              "      <td>-0.004177</td>\n",
              "      <td>0.085694</td>\n",
              "    </tr>\n",
              "    <tr>\n",
              "      <th>condition</th>\n",
              "      <td>-0.049973</td>\n",
              "      <td>-0.137540</td>\n",
              "      <td>-0.201681</td>\n",
              "      <td>0.030099</td>\n",
              "      <td>0.088298</td>\n",
              "      <td>-0.013470</td>\n",
              "      <td>-0.020393</td>\n",
              "      <td>1.249478</td>\n",
              "      <td>-0.053740</td>\n",
              "      <td>0.237261</td>\n",
              "      <td>0.561812</td>\n",
              "      <td>0.206554</td>\n",
              "      <td>0.144019</td>\n",
              "      <td>0.059498</td>\n",
              "      <td>-0.009766</td>\n",
              "      <td>0.075697</td>\n",
              "      <td>-0.027355</td>\n",
              "      <td>0.022487</td>\n",
              "    </tr>\n",
              "    <tr>\n",
              "      <th>grade</th>\n",
              "      <td>0.308939</td>\n",
              "      <td>-0.269733</td>\n",
              "      <td>-1.007575</td>\n",
              "      <td>-0.054994</td>\n",
              "      <td>-0.235452</td>\n",
              "      <td>0.047435</td>\n",
              "      <td>-0.183076</td>\n",
              "      <td>-0.053740</td>\n",
              "      <td>3.418629</td>\n",
              "      <td>-0.701161</td>\n",
              "      <td>-0.636743</td>\n",
              "      <td>-0.069898</td>\n",
              "      <td>0.031173</td>\n",
              "      <td>-0.343442</td>\n",
              "      <td>0.384844</td>\n",
              "      <td>-0.911746</td>\n",
              "      <td>0.074445</td>\n",
              "      <td>0.067754</td>\n",
              "    </tr>\n",
              "    <tr>\n",
              "      <th>sqft_above</th>\n",
              "      <td>0.029348</td>\n",
              "      <td>0.748222</td>\n",
              "      <td>-5.031827</td>\n",
              "      <td>-0.118643</td>\n",
              "      <td>-1.651367</td>\n",
              "      <td>-0.103490</td>\n",
              "      <td>0.517173</td>\n",
              "      <td>0.237261</td>\n",
              "      <td>-0.701161</td>\n",
              "      <td>6.958244</td>\n",
              "      <td>0.059005</td>\n",
              "      <td>0.023588</td>\n",
              "      <td>0.122594</td>\n",
              "      <td>0.344097</td>\n",
              "      <td>-0.610306</td>\n",
              "      <td>-0.654053</td>\n",
              "      <td>-0.066552</td>\n",
              "      <td>-0.060170</td>\n",
              "    </tr>\n",
              "    <tr>\n",
              "      <th>yr_built</th>\n",
              "      <td>0.136583</td>\n",
              "      <td>-0.937037</td>\n",
              "      <td>0.510933</td>\n",
              "      <td>0.097488</td>\n",
              "      <td>-0.486104</td>\n",
              "      <td>-0.023149</td>\n",
              "      <td>0.153872</td>\n",
              "      <td>0.561812</td>\n",
              "      <td>-0.636743</td>\n",
              "      <td>0.059005</td>\n",
              "      <td>2.431969</td>\n",
              "      <td>0.534399</td>\n",
              "      <td>0.204164</td>\n",
              "      <td>0.297594</td>\n",
              "      <td>-0.514404</td>\n",
              "      <td>0.077240</td>\n",
              "      <td>-0.031076</td>\n",
              "      <td>0.068637</td>\n",
              "    </tr>\n",
              "    <tr>\n",
              "      <th>yr_renovated</th>\n",
              "      <td>0.046792</td>\n",
              "      <td>-0.260457</td>\n",
              "      <td>-0.027994</td>\n",
              "      <td>0.020646</td>\n",
              "      <td>-0.082211</td>\n",
              "      <td>-0.067065</td>\n",
              "      <td>-0.038310</td>\n",
              "      <td>0.206554</td>\n",
              "      <td>-0.069898</td>\n",
              "      <td>0.023588</td>\n",
              "      <td>0.534399</td>\n",
              "      <td>1.150727</td>\n",
              "      <td>0.014995</td>\n",
              "      <td>0.040739</td>\n",
              "      <td>-0.057751</td>\n",
              "      <td>0.098722</td>\n",
              "      <td>-0.021027</td>\n",
              "      <td>0.028547</td>\n",
              "    </tr>\n",
              "    <tr>\n",
              "      <th>zipcode</th>\n",
              "      <td>0.021527</td>\n",
              "      <td>0.088662</td>\n",
              "      <td>-0.220747</td>\n",
              "      <td>0.031722</td>\n",
              "      <td>-0.034647</td>\n",
              "      <td>0.076493</td>\n",
              "      <td>-0.206418</td>\n",
              "      <td>0.144019</td>\n",
              "      <td>0.031173</td>\n",
              "      <td>0.122594</td>\n",
              "      <td>0.204164</td>\n",
              "      <td>0.014995</td>\n",
              "      <td>3.206523</td>\n",
              "      <td>0.066706</td>\n",
              "      <td>0.996097</td>\n",
              "      <td>0.217520</td>\n",
              "      <td>-0.092766</td>\n",
              "      <td>-2.012166</td>\n",
              "    </tr>\n",
              "    <tr>\n",
              "      <th>lat</th>\n",
              "      <td>0.036606</td>\n",
              "      <td>-0.029658</td>\n",
              "      <td>-0.181103</td>\n",
              "      <td>0.061656</td>\n",
              "      <td>-0.094475</td>\n",
              "      <td>0.022895</td>\n",
              "      <td>0.102669</td>\n",
              "      <td>0.059498</td>\n",
              "      <td>-0.343442</td>\n",
              "      <td>0.344097</td>\n",
              "      <td>0.297594</td>\n",
              "      <td>0.040739</td>\n",
              "      <td>0.066706</td>\n",
              "      <td>1.271604</td>\n",
              "      <td>-0.037177</td>\n",
              "      <td>-0.093049</td>\n",
              "      <td>0.017905</td>\n",
              "      <td>-0.488345</td>\n",
              "    </tr>\n",
              "    <tr>\n",
              "      <th>long</th>\n",
              "      <td>0.007591</td>\n",
              "      <td>0.061654</td>\n",
              "      <td>0.297754</td>\n",
              "      <td>-0.127373</td>\n",
              "      <td>0.187410</td>\n",
              "      <td>0.036418</td>\n",
              "      <td>0.060771</td>\n",
              "      <td>-0.009766</td>\n",
              "      <td>0.384844</td>\n",
              "      <td>-0.610306</td>\n",
              "      <td>-0.514404</td>\n",
              "      <td>-0.057751</td>\n",
              "      <td>0.996097</td>\n",
              "      <td>-0.037177</td>\n",
              "      <td>1.870169</td>\n",
              "      <td>-0.353230</td>\n",
              "      <td>-0.174000</td>\n",
              "      <td>-0.341605</td>\n",
              "    </tr>\n",
              "    <tr>\n",
              "      <th>sqft_living15</th>\n",
              "      <td>0.025004</td>\n",
              "      <td>0.092395</td>\n",
              "      <td>-0.977858</td>\n",
              "      <td>0.164073</td>\n",
              "      <td>0.273280</td>\n",
              "      <td>0.054637</td>\n",
              "      <td>-0.325695</td>\n",
              "      <td>0.075697</td>\n",
              "      <td>-0.911746</td>\n",
              "      <td>-0.654053</td>\n",
              "      <td>0.077240</td>\n",
              "      <td>0.098722</td>\n",
              "      <td>0.217520</td>\n",
              "      <td>-0.093049</td>\n",
              "      <td>-0.353230</td>\n",
              "      <td>2.979607</td>\n",
              "      <td>-0.125943</td>\n",
              "      <td>-0.009493</td>\n",
              "    </tr>\n",
              "    <tr>\n",
              "      <th>sqft_lot15</th>\n",
              "      <td>0.088351</td>\n",
              "      <td>0.069070</td>\n",
              "      <td>-0.121019</td>\n",
              "      <td>-1.461020</td>\n",
              "      <td>0.065843</td>\n",
              "      <td>-0.021175</td>\n",
              "      <td>-0.004177</td>\n",
              "      <td>-0.027355</td>\n",
              "      <td>0.074445</td>\n",
              "      <td>-0.066552</td>\n",
              "      <td>-0.031076</td>\n",
              "      <td>-0.021027</td>\n",
              "      <td>-0.092766</td>\n",
              "      <td>0.017905</td>\n",
              "      <td>-0.174000</td>\n",
              "      <td>-0.125943</td>\n",
              "      <td>2.139523</td>\n",
              "      <td>0.100686</td>\n",
              "    </tr>\n",
              "    <tr>\n",
              "      <th>city</th>\n",
              "      <td>0.076422</td>\n",
              "      <td>-0.061074</td>\n",
              "      <td>0.067862</td>\n",
              "      <td>-0.044696</td>\n",
              "      <td>-0.177436</td>\n",
              "      <td>-0.070293</td>\n",
              "      <td>0.085694</td>\n",
              "      <td>0.022487</td>\n",
              "      <td>0.067754</td>\n",
              "      <td>-0.060170</td>\n",
              "      <td>0.068637</td>\n",
              "      <td>0.028547</td>\n",
              "      <td>-2.012166</td>\n",
              "      <td>-0.488345</td>\n",
              "      <td>-0.341605</td>\n",
              "      <td>-0.009493</td>\n",
              "      <td>0.100686</td>\n",
              "      <td>2.621651</td>\n",
              "    </tr>\n",
              "  </tbody>\n",
              "</table>\n",
              "</div>"
            ],
            "text/plain": [
              "               bedrooms  bathrooms  ...  sqft_lot15      city\n",
              "bedrooms       1.654400  -0.463218  ...    0.088351  0.076422\n",
              "bathrooms     -0.463218   3.352384  ...    0.069070 -0.061074\n",
              "sqft_living   -1.003200  -2.241749  ...   -0.121019  0.067862\n",
              "sqft_lot       0.048021  -0.022944  ...   -1.461020 -0.044696\n",
              "floors         0.044653  -0.671253  ...    0.065843 -0.177436\n",
              "waterfront     0.061002   0.011800  ...   -0.021175 -0.070293\n",
              "view           0.116917  -0.044376  ...   -0.004177  0.085694\n",
              "condition     -0.049973  -0.137540  ...   -0.027355  0.022487\n",
              "grade          0.308939  -0.269733  ...    0.074445  0.067754\n",
              "sqft_above     0.029348   0.748222  ...   -0.066552 -0.060170\n",
              "yr_built       0.136583  -0.937037  ...   -0.031076  0.068637\n",
              "yr_renovated   0.046792  -0.260457  ...   -0.021027  0.028547\n",
              "zipcode        0.021527   0.088662  ...   -0.092766 -2.012166\n",
              "lat            0.036606  -0.029658  ...    0.017905 -0.488345\n",
              "long           0.007591   0.061654  ...   -0.174000 -0.341605\n",
              "sqft_living15  0.025004   0.092395  ...   -0.125943 -0.009493\n",
              "sqft_lot15     0.088351   0.069070  ...    2.139523  0.100686\n",
              "city           0.076422  -0.061074  ...    0.100686  2.621651\n",
              "\n",
              "[18 rows x 18 columns]"
            ]
          },
          "metadata": {
            "tags": []
          },
          "execution_count": 266
        }
      ]
    },
    {
      "cell_type": "code",
      "metadata": {
        "colab": {
          "base_uri": "https://localhost:8080/"
        },
        "id": "Hhm5XIWL0qUg",
        "outputId": "cfbd0f5f-6729-4bc8-df56-cc0e23b1db1c"
      },
      "source": [
        "independent_only = independent_only.drop(columns=['sqft_living'])\n",
        "revised = independent_only\n",
        "\n",
        "correlations = revised.corr()\n",
        "pd.DataFrame(np.linalg.inv(correlations.values), index = correlations.index, columns=correlations.columns)"
      ],
      "execution_count": null,
      "outputs": [
        {
          "output_type": "execute_result",
          "data": {
            "text/html": [
              "<div>\n",
              "<style scoped>\n",
              "    .dataframe tbody tr th:only-of-type {\n",
              "        vertical-align: middle;\n",
              "    }\n",
              "\n",
              "    .dataframe tbody tr th {\n",
              "        vertical-align: top;\n",
              "    }\n",
              "\n",
              "    .dataframe thead th {\n",
              "        text-align: right;\n",
              "    }\n",
              "</style>\n",
              "<table border=\"1\" class=\"dataframe\">\n",
              "  <thead>\n",
              "    <tr style=\"text-align: right;\">\n",
              "      <th></th>\n",
              "      <th>bedrooms</th>\n",
              "      <th>bathrooms</th>\n",
              "      <th>sqft_lot</th>\n",
              "      <th>floors</th>\n",
              "      <th>waterfront</th>\n",
              "      <th>view</th>\n",
              "      <th>condition</th>\n",
              "      <th>grade</th>\n",
              "      <th>sqft_above</th>\n",
              "      <th>yr_built</th>\n",
              "      <th>yr_renovated</th>\n",
              "      <th>zipcode</th>\n",
              "      <th>lat</th>\n",
              "      <th>long</th>\n",
              "      <th>sqft_living15</th>\n",
              "      <th>sqft_lot15</th>\n",
              "      <th>city</th>\n",
              "    </tr>\n",
              "  </thead>\n",
              "  <tbody>\n",
              "    <tr>\n",
              "      <th>bedrooms</th>\n",
              "      <td>1.538166</td>\n",
              "      <td>-0.722954</td>\n",
              "      <td>0.037649</td>\n",
              "      <td>0.192041</td>\n",
              "      <td>0.059908</td>\n",
              "      <td>0.055520</td>\n",
              "      <td>-0.073340</td>\n",
              "      <td>0.192199</td>\n",
              "      <td>-0.553655</td>\n",
              "      <td>0.195781</td>\n",
              "      <td>0.043548</td>\n",
              "      <td>-0.004049</td>\n",
              "      <td>0.015623</td>\n",
              "      <td>0.042090</td>\n",
              "      <td>-0.088294</td>\n",
              "      <td>0.074329</td>\n",
              "      <td>0.084285</td>\n",
              "    </tr>\n",
              "    <tr>\n",
              "      <th>bathrooms</th>\n",
              "      <td>-0.722954</td>\n",
              "      <td>2.771978</td>\n",
              "      <td>-0.046120</td>\n",
              "      <td>-0.341900</td>\n",
              "      <td>0.009356</td>\n",
              "      <td>-0.181574</td>\n",
              "      <td>-0.189757</td>\n",
              "      <td>-0.530602</td>\n",
              "      <td>-0.554556</td>\n",
              "      <td>-0.804752</td>\n",
              "      <td>-0.267705</td>\n",
              "      <td>0.031509</td>\n",
              "      <td>-0.076547</td>\n",
              "      <td>0.138744</td>\n",
              "      <td>-0.160780</td>\n",
              "      <td>0.037737</td>\n",
              "      <td>-0.043504</td>\n",
              "    </tr>\n",
              "    <tr>\n",
              "      <th>sqft_lot</th>\n",
              "      <td>0.037649</td>\n",
              "      <td>-0.046120</td>\n",
              "      <td>2.102357</td>\n",
              "      <td>0.061364</td>\n",
              "      <td>0.028471</td>\n",
              "      <td>-0.066046</td>\n",
              "      <td>0.028014</td>\n",
              "      <td>-0.065411</td>\n",
              "      <td>-0.170664</td>\n",
              "      <td>0.102771</td>\n",
              "      <td>0.020356</td>\n",
              "      <td>0.029440</td>\n",
              "      <td>0.059784</td>\n",
              "      <td>-0.124295</td>\n",
              "      <td>0.153963</td>\n",
              "      <td>-1.462271</td>\n",
              "      <td>-0.043995</td>\n",
              "    </tr>\n",
              "    <tr>\n",
              "      <th>floors</th>\n",
              "      <td>0.192041</td>\n",
              "      <td>-0.341900</td>\n",
              "      <td>0.061364</td>\n",
              "      <td>1.837131</td>\n",
              "      <td>0.000669</td>\n",
              "      <td>0.032006</td>\n",
              "      <td>0.117929</td>\n",
              "      <td>-0.087421</td>\n",
              "      <td>-0.912101</td>\n",
              "      <td>-0.561169</td>\n",
              "      <td>-0.078098</td>\n",
              "      <td>-0.002215</td>\n",
              "      <td>-0.067868</td>\n",
              "      <td>0.143665</td>\n",
              "      <td>0.416945</td>\n",
              "      <td>0.083623</td>\n",
              "      <td>-0.187406</td>\n",
              "    </tr>\n",
              "    <tr>\n",
              "      <th>waterfront</th>\n",
              "      <td>0.059908</td>\n",
              "      <td>0.009356</td>\n",
              "      <td>0.028471</td>\n",
              "      <td>0.000669</td>\n",
              "      <td>1.205896</td>\n",
              "      <td>-0.495708</td>\n",
              "      <td>-0.013690</td>\n",
              "      <td>0.046337</td>\n",
              "      <td>-0.108976</td>\n",
              "      <td>-0.022592</td>\n",
              "      <td>-0.067096</td>\n",
              "      <td>0.076252</td>\n",
              "      <td>0.022698</td>\n",
              "      <td>0.036743</td>\n",
              "      <td>0.053571</td>\n",
              "      <td>-0.021307</td>\n",
              "      <td>-0.070219</td>\n",
              "    </tr>\n",
              "    <tr>\n",
              "      <th>view</th>\n",
              "      <td>0.055520</td>\n",
              "      <td>-0.181574</td>\n",
              "      <td>-0.066046</td>\n",
              "      <td>0.032006</td>\n",
              "      <td>-0.495708</td>\n",
              "      <td>1.405699</td>\n",
              "      <td>-0.032736</td>\n",
              "      <td>-0.244741</td>\n",
              "      <td>0.209219</td>\n",
              "      <td>0.185142</td>\n",
              "      <td>-0.040024</td>\n",
              "      <td>-0.219928</td>\n",
              "      <td>0.091585</td>\n",
              "      <td>0.078994</td>\n",
              "      <td>-0.385541</td>\n",
              "      <td>-0.011584</td>\n",
              "      <td>0.089847</td>\n",
              "    </tr>\n",
              "    <tr>\n",
              "      <th>condition</th>\n",
              "      <td>-0.073340</td>\n",
              "      <td>-0.189757</td>\n",
              "      <td>0.028014</td>\n",
              "      <td>0.117929</td>\n",
              "      <td>-0.013690</td>\n",
              "      <td>-0.032736</td>\n",
              "      <td>1.244781</td>\n",
              "      <td>-0.077209</td>\n",
              "      <td>0.120055</td>\n",
              "      <td>0.573713</td>\n",
              "      <td>0.205901</td>\n",
              "      <td>0.138877</td>\n",
              "      <td>0.055280</td>\n",
              "      <td>-0.002830</td>\n",
              "      <td>0.052920</td>\n",
              "      <td>-0.030173</td>\n",
              "      <td>0.024068</td>\n",
              "    </tr>\n",
              "    <tr>\n",
              "      <th>grade</th>\n",
              "      <td>0.192199</td>\n",
              "      <td>-0.530602</td>\n",
              "      <td>-0.065411</td>\n",
              "      <td>-0.087421</td>\n",
              "      <td>0.046337</td>\n",
              "      <td>-0.244741</td>\n",
              "      <td>-0.077209</td>\n",
              "      <td>3.301379</td>\n",
              "      <td>-1.286706</td>\n",
              "      <td>-0.577287</td>\n",
              "      <td>-0.073156</td>\n",
              "      <td>0.005485</td>\n",
              "      <td>-0.364517</td>\n",
              "      <td>0.419493</td>\n",
              "      <td>-1.025538</td>\n",
              "      <td>0.060362</td>\n",
              "      <td>0.075651</td>\n",
              "    </tr>\n",
              "    <tr>\n",
              "      <th>sqft_above</th>\n",
              "      <td>-0.553655</td>\n",
              "      <td>-0.554556</td>\n",
              "      <td>-0.170664</td>\n",
              "      <td>-0.912101</td>\n",
              "      <td>-0.108976</td>\n",
              "      <td>0.209219</td>\n",
              "      <td>0.120055</td>\n",
              "      <td>-1.286706</td>\n",
              "      <td>4.034031</td>\n",
              "      <td>0.355930</td>\n",
              "      <td>0.007319</td>\n",
              "      <td>-0.005692</td>\n",
              "      <td>0.238850</td>\n",
              "      <td>-0.437268</td>\n",
              "      <td>-1.222329</td>\n",
              "      <td>-0.136881</td>\n",
              "      <td>-0.020733</td>\n",
              "    </tr>\n",
              "    <tr>\n",
              "      <th>yr_built</th>\n",
              "      <td>0.195781</td>\n",
              "      <td>-0.804752</td>\n",
              "      <td>0.102771</td>\n",
              "      <td>-0.561169</td>\n",
              "      <td>-0.022592</td>\n",
              "      <td>0.185142</td>\n",
              "      <td>0.573713</td>\n",
              "      <td>-0.577287</td>\n",
              "      <td>0.355930</td>\n",
              "      <td>2.401819</td>\n",
              "      <td>0.536051</td>\n",
              "      <td>0.217191</td>\n",
              "      <td>0.308281</td>\n",
              "      <td>-0.531975</td>\n",
              "      <td>0.134942</td>\n",
              "      <td>-0.023934</td>\n",
              "      <td>0.064633</td>\n",
              "    </tr>\n",
              "    <tr>\n",
              "      <th>yr_renovated</th>\n",
              "      <td>0.043548</td>\n",
              "      <td>-0.267705</td>\n",
              "      <td>0.020356</td>\n",
              "      <td>-0.078098</td>\n",
              "      <td>-0.067096</td>\n",
              "      <td>-0.040024</td>\n",
              "      <td>0.205901</td>\n",
              "      <td>-0.073156</td>\n",
              "      <td>0.007319</td>\n",
              "      <td>0.536051</td>\n",
              "      <td>1.150637</td>\n",
              "      <td>0.014281</td>\n",
              "      <td>0.040154</td>\n",
              "      <td>-0.056788</td>\n",
              "      <td>0.095561</td>\n",
              "      <td>-0.021419</td>\n",
              "      <td>0.028767</td>\n",
              "    </tr>\n",
              "    <tr>\n",
              "      <th>zipcode</th>\n",
              "      <td>-0.004049</td>\n",
              "      <td>0.031509</td>\n",
              "      <td>0.029440</td>\n",
              "      <td>-0.002215</td>\n",
              "      <td>0.076252</td>\n",
              "      <td>-0.219928</td>\n",
              "      <td>0.138877</td>\n",
              "      <td>0.005485</td>\n",
              "      <td>-0.005692</td>\n",
              "      <td>0.217191</td>\n",
              "      <td>0.014281</td>\n",
              "      <td>3.200895</td>\n",
              "      <td>0.062089</td>\n",
              "      <td>1.003689</td>\n",
              "      <td>0.192590</td>\n",
              "      <td>-0.095851</td>\n",
              "      <td>-2.010436</td>\n",
              "    </tr>\n",
              "    <tr>\n",
              "      <th>lat</th>\n",
              "      <td>0.015623</td>\n",
              "      <td>-0.076547</td>\n",
              "      <td>0.059784</td>\n",
              "      <td>-0.067868</td>\n",
              "      <td>0.022698</td>\n",
              "      <td>0.091585</td>\n",
              "      <td>0.055280</td>\n",
              "      <td>-0.364517</td>\n",
              "      <td>0.238850</td>\n",
              "      <td>0.308281</td>\n",
              "      <td>0.040154</td>\n",
              "      <td>0.062089</td>\n",
              "      <td>1.267816</td>\n",
              "      <td>-0.030950</td>\n",
              "      <td>-0.113502</td>\n",
              "      <td>0.015374</td>\n",
              "      <td>-0.486926</td>\n",
              "    </tr>\n",
              "    <tr>\n",
              "      <th>long</th>\n",
              "      <td>0.042090</td>\n",
              "      <td>0.138744</td>\n",
              "      <td>-0.124295</td>\n",
              "      <td>0.143665</td>\n",
              "      <td>0.036743</td>\n",
              "      <td>0.078994</td>\n",
              "      <td>-0.002830</td>\n",
              "      <td>0.419493</td>\n",
              "      <td>-0.437268</td>\n",
              "      <td>-0.531975</td>\n",
              "      <td>-0.056788</td>\n",
              "      <td>1.003689</td>\n",
              "      <td>-0.030950</td>\n",
              "      <td>1.859929</td>\n",
              "      <td>-0.319603</td>\n",
              "      <td>-0.169838</td>\n",
              "      <td>-0.343939</td>\n",
              "    </tr>\n",
              "    <tr>\n",
              "      <th>sqft_living15</th>\n",
              "      <td>-0.088294</td>\n",
              "      <td>-0.160780</td>\n",
              "      <td>0.153963</td>\n",
              "      <td>0.416945</td>\n",
              "      <td>0.053571</td>\n",
              "      <td>-0.385541</td>\n",
              "      <td>0.052920</td>\n",
              "      <td>-1.025538</td>\n",
              "      <td>-1.222329</td>\n",
              "      <td>0.134942</td>\n",
              "      <td>0.095561</td>\n",
              "      <td>0.192590</td>\n",
              "      <td>-0.113502</td>\n",
              "      <td>-0.319603</td>\n",
              "      <td>2.869171</td>\n",
              "      <td>-0.139610</td>\n",
              "      <td>-0.001829</td>\n",
              "    </tr>\n",
              "    <tr>\n",
              "      <th>sqft_lot15</th>\n",
              "      <td>0.074329</td>\n",
              "      <td>0.037737</td>\n",
              "      <td>-1.462271</td>\n",
              "      <td>0.083623</td>\n",
              "      <td>-0.021307</td>\n",
              "      <td>-0.011584</td>\n",
              "      <td>-0.030173</td>\n",
              "      <td>0.060362</td>\n",
              "      <td>-0.136881</td>\n",
              "      <td>-0.023934</td>\n",
              "      <td>-0.021419</td>\n",
              "      <td>-0.095851</td>\n",
              "      <td>0.015374</td>\n",
              "      <td>-0.169838</td>\n",
              "      <td>-0.139610</td>\n",
              "      <td>2.137831</td>\n",
              "      <td>0.101634</td>\n",
              "    </tr>\n",
              "    <tr>\n",
              "      <th>city</th>\n",
              "      <td>0.084285</td>\n",
              "      <td>-0.043504</td>\n",
              "      <td>-0.043995</td>\n",
              "      <td>-0.187406</td>\n",
              "      <td>-0.070219</td>\n",
              "      <td>0.089847</td>\n",
              "      <td>0.024068</td>\n",
              "      <td>0.075651</td>\n",
              "      <td>-0.020733</td>\n",
              "      <td>0.064633</td>\n",
              "      <td>0.028767</td>\n",
              "      <td>-2.010436</td>\n",
              "      <td>-0.486926</td>\n",
              "      <td>-0.343939</td>\n",
              "      <td>-0.001829</td>\n",
              "      <td>0.101634</td>\n",
              "      <td>2.621119</td>\n",
              "    </tr>\n",
              "  </tbody>\n",
              "</table>\n",
              "</div>"
            ],
            "text/plain": [
              "               bedrooms  bathrooms  ...  sqft_lot15      city\n",
              "bedrooms       1.538166  -0.722954  ...    0.074329  0.084285\n",
              "bathrooms     -0.722954   2.771978  ...    0.037737 -0.043504\n",
              "sqft_lot       0.037649  -0.046120  ...   -1.462271 -0.043995\n",
              "floors         0.192041  -0.341900  ...    0.083623 -0.187406\n",
              "waterfront     0.059908   0.009356  ...   -0.021307 -0.070219\n",
              "view           0.055520  -0.181574  ...   -0.011584  0.089847\n",
              "condition     -0.073340  -0.189757  ...   -0.030173  0.024068\n",
              "grade          0.192199  -0.530602  ...    0.060362  0.075651\n",
              "sqft_above    -0.553655  -0.554556  ...   -0.136881 -0.020733\n",
              "yr_built       0.195781  -0.804752  ...   -0.023934  0.064633\n",
              "yr_renovated   0.043548  -0.267705  ...   -0.021419  0.028767\n",
              "zipcode       -0.004049   0.031509  ...   -0.095851 -2.010436\n",
              "lat            0.015623  -0.076547  ...    0.015374 -0.486926\n",
              "long           0.042090   0.138744  ...   -0.169838 -0.343939\n",
              "sqft_living15 -0.088294  -0.160780  ...   -0.139610 -0.001829\n",
              "sqft_lot15     0.074329   0.037737  ...    2.137831  0.101634\n",
              "city           0.084285  -0.043504  ...    0.101634  2.621119\n",
              "\n",
              "[17 rows x 17 columns]"
            ]
          },
          "metadata": {
            "tags": []
          },
          "execution_count": 267
        }
      ]
    },
    {
      "cell_type": "code",
      "metadata": {
        "colab": {
          "base_uri": "https://localhost:8080/"
        },
        "id": "dzumJH1e1VxR",
        "outputId": "a2264b23-64bd-47c3-95c9-5c0309337bd8"
      },
      "source": [
        "independent_only = independent_only.drop(columns=['sqft_above'])\n",
        "revised = independent_only\n",
        "\n",
        "correlations = revised.corr()\n",
        "pd.DataFrame(np.linalg.inv(correlations.values), index = correlations.index, columns=correlations.columns)"
      ],
      "execution_count": null,
      "outputs": [
        {
          "output_type": "execute_result",
          "data": {
            "text/html": [
              "<div>\n",
              "<style scoped>\n",
              "    .dataframe tbody tr th:only-of-type {\n",
              "        vertical-align: middle;\n",
              "    }\n",
              "\n",
              "    .dataframe tbody tr th {\n",
              "        vertical-align: top;\n",
              "    }\n",
              "\n",
              "    .dataframe thead th {\n",
              "        text-align: right;\n",
              "    }\n",
              "</style>\n",
              "<table border=\"1\" class=\"dataframe\">\n",
              "  <thead>\n",
              "    <tr style=\"text-align: right;\">\n",
              "      <th></th>\n",
              "      <th>bedrooms</th>\n",
              "      <th>bathrooms</th>\n",
              "      <th>sqft_lot</th>\n",
              "      <th>floors</th>\n",
              "      <th>waterfront</th>\n",
              "      <th>view</th>\n",
              "      <th>condition</th>\n",
              "      <th>grade</th>\n",
              "      <th>yr_built</th>\n",
              "      <th>yr_renovated</th>\n",
              "      <th>zipcode</th>\n",
              "      <th>lat</th>\n",
              "      <th>long</th>\n",
              "      <th>sqft_living15</th>\n",
              "      <th>sqft_lot15</th>\n",
              "      <th>city</th>\n",
              "    </tr>\n",
              "  </thead>\n",
              "  <tbody>\n",
              "    <tr>\n",
              "      <th>bedrooms</th>\n",
              "      <td>1.462179</td>\n",
              "      <td>-0.799065</td>\n",
              "      <td>0.014226</td>\n",
              "      <td>0.066859</td>\n",
              "      <td>0.044951</td>\n",
              "      <td>0.084235</td>\n",
              "      <td>-0.056863</td>\n",
              "      <td>0.015603</td>\n",
              "      <td>0.244631</td>\n",
              "      <td>0.044553</td>\n",
              "      <td>-0.004830</td>\n",
              "      <td>0.048404</td>\n",
              "      <td>-0.017924</td>\n",
              "      <td>-0.256054</td>\n",
              "      <td>0.055542</td>\n",
              "      <td>0.081440</td>\n",
              "    </tr>\n",
              "    <tr>\n",
              "      <th>bathrooms</th>\n",
              "      <td>-0.799065</td>\n",
              "      <td>2.695743</td>\n",
              "      <td>-0.069581</td>\n",
              "      <td>-0.467286</td>\n",
              "      <td>-0.005625</td>\n",
              "      <td>-0.152813</td>\n",
              "      <td>-0.173253</td>\n",
              "      <td>-0.707485</td>\n",
              "      <td>-0.755823</td>\n",
              "      <td>-0.266699</td>\n",
              "      <td>0.030726</td>\n",
              "      <td>-0.043712</td>\n",
              "      <td>0.078633</td>\n",
              "      <td>-0.328813</td>\n",
              "      <td>0.018920</td>\n",
              "      <td>-0.046354</td>\n",
              "    </tr>\n",
              "    <tr>\n",
              "      <th>sqft_lot</th>\n",
              "      <td>0.014226</td>\n",
              "      <td>-0.069581</td>\n",
              "      <td>2.095137</td>\n",
              "      <td>0.022776</td>\n",
              "      <td>0.023860</td>\n",
              "      <td>-0.057194</td>\n",
              "      <td>0.033093</td>\n",
              "      <td>-0.119847</td>\n",
              "      <td>0.117829</td>\n",
              "      <td>0.020666</td>\n",
              "      <td>0.029199</td>\n",
              "      <td>0.069889</td>\n",
              "      <td>-0.142794</td>\n",
              "      <td>0.102251</td>\n",
              "      <td>-1.468062</td>\n",
              "      <td>-0.044872</td>\n",
              "    </tr>\n",
              "    <tr>\n",
              "      <th>floors</th>\n",
              "      <td>0.066859</td>\n",
              "      <td>-0.467286</td>\n",
              "      <td>0.022776</td>\n",
              "      <td>1.630904</td>\n",
              "      <td>-0.023971</td>\n",
              "      <td>0.079311</td>\n",
              "      <td>0.145073</td>\n",
              "      <td>-0.378348</td>\n",
              "      <td>-0.480692</td>\n",
              "      <td>-0.076444</td>\n",
              "      <td>-0.003502</td>\n",
              "      <td>-0.013863</td>\n",
              "      <td>0.044798</td>\n",
              "      <td>0.140574</td>\n",
              "      <td>0.052674</td>\n",
              "      <td>-0.192094</td>\n",
              "    </tr>\n",
              "    <tr>\n",
              "      <th>waterfront</th>\n",
              "      <td>0.044951</td>\n",
              "      <td>-0.005625</td>\n",
              "      <td>0.023860</td>\n",
              "      <td>-0.023971</td>\n",
              "      <td>1.202952</td>\n",
              "      <td>-0.490056</td>\n",
              "      <td>-0.010447</td>\n",
              "      <td>0.011577</td>\n",
              "      <td>-0.012977</td>\n",
              "      <td>-0.066898</td>\n",
              "      <td>0.076099</td>\n",
              "      <td>0.029150</td>\n",
              "      <td>0.024930</td>\n",
              "      <td>0.020551</td>\n",
              "      <td>-0.025005</td>\n",
              "      <td>-0.070779</td>\n",
              "    </tr>\n",
              "    <tr>\n",
              "      <th>view</th>\n",
              "      <td>0.084235</td>\n",
              "      <td>-0.152813</td>\n",
              "      <td>-0.057194</td>\n",
              "      <td>0.079311</td>\n",
              "      <td>-0.490056</td>\n",
              "      <td>1.394848</td>\n",
              "      <td>-0.038963</td>\n",
              "      <td>-0.178008</td>\n",
              "      <td>0.166682</td>\n",
              "      <td>-0.040403</td>\n",
              "      <td>-0.219633</td>\n",
              "      <td>0.079197</td>\n",
              "      <td>0.101673</td>\n",
              "      <td>-0.322146</td>\n",
              "      <td>-0.004485</td>\n",
              "      <td>0.090922</td>\n",
              "    </tr>\n",
              "    <tr>\n",
              "      <th>condition</th>\n",
              "      <td>-0.056863</td>\n",
              "      <td>-0.173253</td>\n",
              "      <td>0.033093</td>\n",
              "      <td>0.145073</td>\n",
              "      <td>-0.010447</td>\n",
              "      <td>-0.038963</td>\n",
              "      <td>1.241208</td>\n",
              "      <td>-0.038916</td>\n",
              "      <td>0.563121</td>\n",
              "      <td>0.205684</td>\n",
              "      <td>0.139046</td>\n",
              "      <td>0.048172</td>\n",
              "      <td>0.010183</td>\n",
              "      <td>0.089297</td>\n",
              "      <td>-0.026100</td>\n",
              "      <td>0.024685</td>\n",
              "    </tr>\n",
              "    <tr>\n",
              "      <th>grade</th>\n",
              "      <td>0.015603</td>\n",
              "      <td>-0.707485</td>\n",
              "      <td>-0.119847</td>\n",
              "      <td>-0.378348</td>\n",
              "      <td>0.011577</td>\n",
              "      <td>-0.178008</td>\n",
              "      <td>-0.038916</td>\n",
              "      <td>2.890967</td>\n",
              "      <td>-0.463758</td>\n",
              "      <td>-0.070821</td>\n",
              "      <td>0.003670</td>\n",
              "      <td>-0.288332</td>\n",
              "      <td>0.280021</td>\n",
              "      <td>-1.415416</td>\n",
              "      <td>0.016702</td>\n",
              "      <td>0.069038</td>\n",
              "    </tr>\n",
              "    <tr>\n",
              "      <th>yr_built</th>\n",
              "      <td>0.244631</td>\n",
              "      <td>-0.755823</td>\n",
              "      <td>0.117829</td>\n",
              "      <td>-0.480692</td>\n",
              "      <td>-0.012977</td>\n",
              "      <td>0.166682</td>\n",
              "      <td>0.563121</td>\n",
              "      <td>-0.463758</td>\n",
              "      <td>2.370414</td>\n",
              "      <td>0.535405</td>\n",
              "      <td>0.217693</td>\n",
              "      <td>0.287207</td>\n",
              "      <td>-0.493394</td>\n",
              "      <td>0.242791</td>\n",
              "      <td>-0.011857</td>\n",
              "      <td>0.066462</td>\n",
              "    </tr>\n",
              "    <tr>\n",
              "      <th>yr_renovated</th>\n",
              "      <td>0.044553</td>\n",
              "      <td>-0.266699</td>\n",
              "      <td>0.020666</td>\n",
              "      <td>-0.076444</td>\n",
              "      <td>-0.066898</td>\n",
              "      <td>-0.040403</td>\n",
              "      <td>0.205684</td>\n",
              "      <td>-0.070821</td>\n",
              "      <td>0.535405</td>\n",
              "      <td>1.150623</td>\n",
              "      <td>0.014291</td>\n",
              "      <td>0.039721</td>\n",
              "      <td>-0.055995</td>\n",
              "      <td>0.097778</td>\n",
              "      <td>-0.021170</td>\n",
              "      <td>0.028804</td>\n",
              "    </tr>\n",
              "    <tr>\n",
              "      <th>zipcode</th>\n",
              "      <td>-0.004830</td>\n",
              "      <td>0.030726</td>\n",
              "      <td>0.029199</td>\n",
              "      <td>-0.003502</td>\n",
              "      <td>0.076099</td>\n",
              "      <td>-0.219633</td>\n",
              "      <td>0.139046</td>\n",
              "      <td>0.003670</td>\n",
              "      <td>0.217693</td>\n",
              "      <td>0.014291</td>\n",
              "      <td>3.200887</td>\n",
              "      <td>0.062426</td>\n",
              "      <td>1.003072</td>\n",
              "      <td>0.190865</td>\n",
              "      <td>-0.096044</td>\n",
              "      <td>-2.010465</td>\n",
              "    </tr>\n",
              "    <tr>\n",
              "      <th>lat</th>\n",
              "      <td>0.048404</td>\n",
              "      <td>-0.043712</td>\n",
              "      <td>0.069889</td>\n",
              "      <td>-0.013863</td>\n",
              "      <td>0.029150</td>\n",
              "      <td>0.079197</td>\n",
              "      <td>0.048172</td>\n",
              "      <td>-0.288332</td>\n",
              "      <td>0.287207</td>\n",
              "      <td>0.039721</td>\n",
              "      <td>0.062426</td>\n",
              "      <td>1.253674</td>\n",
              "      <td>-0.005059</td>\n",
              "      <td>-0.041129</td>\n",
              "      <td>0.023479</td>\n",
              "      <td>-0.485698</td>\n",
              "    </tr>\n",
              "    <tr>\n",
              "      <th>long</th>\n",
              "      <td>-0.017924</td>\n",
              "      <td>0.078633</td>\n",
              "      <td>-0.142794</td>\n",
              "      <td>0.044798</td>\n",
              "      <td>0.024930</td>\n",
              "      <td>0.101673</td>\n",
              "      <td>0.010183</td>\n",
              "      <td>0.280021</td>\n",
              "      <td>-0.493394</td>\n",
              "      <td>-0.055995</td>\n",
              "      <td>1.003072</td>\n",
              "      <td>-0.005059</td>\n",
              "      <td>1.812532</td>\n",
              "      <td>-0.452097</td>\n",
              "      <td>-0.184675</td>\n",
              "      <td>-0.346186</td>\n",
              "    </tr>\n",
              "    <tr>\n",
              "      <th>sqft_living15</th>\n",
              "      <td>-0.256054</td>\n",
              "      <td>-0.328813</td>\n",
              "      <td>0.102251</td>\n",
              "      <td>0.140574</td>\n",
              "      <td>0.020551</td>\n",
              "      <td>-0.322146</td>\n",
              "      <td>0.089297</td>\n",
              "      <td>-1.415416</td>\n",
              "      <td>0.242791</td>\n",
              "      <td>0.097778</td>\n",
              "      <td>0.190865</td>\n",
              "      <td>-0.041129</td>\n",
              "      <td>-0.452097</td>\n",
              "      <td>2.498800</td>\n",
              "      <td>-0.181086</td>\n",
              "      <td>-0.008111</td>\n",
              "    </tr>\n",
              "    <tr>\n",
              "      <th>sqft_lot15</th>\n",
              "      <td>0.055542</td>\n",
              "      <td>0.018920</td>\n",
              "      <td>-1.468062</td>\n",
              "      <td>0.052674</td>\n",
              "      <td>-0.025005</td>\n",
              "      <td>-0.004485</td>\n",
              "      <td>-0.026100</td>\n",
              "      <td>0.016702</td>\n",
              "      <td>-0.011857</td>\n",
              "      <td>-0.021170</td>\n",
              "      <td>-0.096044</td>\n",
              "      <td>0.023479</td>\n",
              "      <td>-0.184675</td>\n",
              "      <td>-0.181086</td>\n",
              "      <td>2.133187</td>\n",
              "      <td>0.100931</td>\n",
              "    </tr>\n",
              "    <tr>\n",
              "      <th>city</th>\n",
              "      <td>0.081440</td>\n",
              "      <td>-0.046354</td>\n",
              "      <td>-0.044872</td>\n",
              "      <td>-0.192094</td>\n",
              "      <td>-0.070779</td>\n",
              "      <td>0.090922</td>\n",
              "      <td>0.024685</td>\n",
              "      <td>0.069038</td>\n",
              "      <td>0.066462</td>\n",
              "      <td>0.028804</td>\n",
              "      <td>-2.010465</td>\n",
              "      <td>-0.485698</td>\n",
              "      <td>-0.346186</td>\n",
              "      <td>-0.008111</td>\n",
              "      <td>0.100931</td>\n",
              "      <td>2.621013</td>\n",
              "    </tr>\n",
              "  </tbody>\n",
              "</table>\n",
              "</div>"
            ],
            "text/plain": [
              "               bedrooms  bathrooms  ...  sqft_lot15      city\n",
              "bedrooms       1.462179  -0.799065  ...    0.055542  0.081440\n",
              "bathrooms     -0.799065   2.695743  ...    0.018920 -0.046354\n",
              "sqft_lot       0.014226  -0.069581  ...   -1.468062 -0.044872\n",
              "floors         0.066859  -0.467286  ...    0.052674 -0.192094\n",
              "waterfront     0.044951  -0.005625  ...   -0.025005 -0.070779\n",
              "view           0.084235  -0.152813  ...   -0.004485  0.090922\n",
              "condition     -0.056863  -0.173253  ...   -0.026100  0.024685\n",
              "grade          0.015603  -0.707485  ...    0.016702  0.069038\n",
              "yr_built       0.244631  -0.755823  ...   -0.011857  0.066462\n",
              "yr_renovated   0.044553  -0.266699  ...   -0.021170  0.028804\n",
              "zipcode       -0.004830   0.030726  ...   -0.096044 -2.010465\n",
              "lat            0.048404  -0.043712  ...    0.023479 -0.485698\n",
              "long          -0.017924   0.078633  ...   -0.184675 -0.346186\n",
              "sqft_living15 -0.256054  -0.328813  ...   -0.181086 -0.008111\n",
              "sqft_lot15     0.055542   0.018920  ...    2.133187  0.100931\n",
              "city           0.081440  -0.046354  ...    0.100931  2.621013\n",
              "\n",
              "[16 rows x 16 columns]"
            ]
          },
          "metadata": {
            "tags": []
          },
          "execution_count": 268
        }
      ]
    },
    {
      "cell_type": "markdown",
      "metadata": {
        "id": "bRF-UCLJrO-K"
      },
      "source": [
        "##### Heteroskedasticity testing"
      ]
    },
    {
      "cell_type": "code",
      "metadata": {
        "colab": {
          "base_uri": "https://localhost:8080/"
        },
        "id": "pYkvjI9JrOOF",
        "outputId": "e4bc4229-c2ff-4f96-eaed-63650aff42d0"
      },
      "source": [
        "from sklearn import metrics\n",
        "from sklearn.model_selection import train_test_split\n",
        "from sklearn.linear_model import LinearRegression\n",
        "\n",
        "x = revised.to_numpy()\n",
        "y = df['price'].to_numpy()\n",
        "\n",
        "x_train, x_test, y_train, y_test = train_test_split(x, y, test_size=0.3, random_state=42)\n",
        "\n",
        "regressor = LinearRegression()\n",
        "regressor.fit(x_train, y_train)\n",
        "\n",
        "# This is our prediction for admission based on our model\n",
        "y_pred = regressor.predict(x_test)\n",
        "\n",
        "# We now create the residual by substracting the test value from the predicted \n",
        "# value for each row in our dataset\n",
        "\n",
        "residuals = np.subtract(y_pred, y_test)\n",
        "\n",
        "# Let's describe our residual:\n",
        "pd.DataFrame(residuals).describe()\n",
        "\n",
        "residuals.mean()"
      ],
      "execution_count": null,
      "outputs": [
        {
          "output_type": "execute_result",
          "data": {
            "text/plain": [
              "900.1901681288394"
            ]
          },
          "metadata": {
            "tags": []
          },
          "execution_count": 269
        }
      ]
    },
    {
      "cell_type": "code",
      "metadata": {
        "colab": {
          "base_uri": "https://localhost:8080/"
        },
        "id": "Km9vDbGr8p2I",
        "outputId": "dc5dcc99-d719-4d65-981e-aaaf7cdc90b1"
      },
      "source": [
        "import scipy as sp\n",
        "\n",
        "test_result, p_value = sp.stats.bartlett(y_pred, residuals)\n",
        "\n",
        "# To interpret the results we must also compute a critical value of the chi squared distribution\n",
        "degree_of_freedom = len(y_pred)-1\n",
        "probability = 1 - p_value\n",
        "\n",
        "critical_value = sp.stats.chi2.ppf(probability, degree_of_freedom)\n",
        "print(f'Critical value : {critical_value}')\n",
        "print(f'Probability : {probability}')\n",
        "print(f'Degree of freedom : {probability}')\n",
        "print(f'P Value : {p_value}')\n",
        "print(f'Test result : {test_result}')\n",
        "\n",
        "# If the test_result is greater than the critical value, then we reject our null\n",
        "# hypothesis. This would mean that there are patterns to the variance of the data\n",
        "\n",
        "# Otherwise, we can identify no patterns, and we accept the null hypothesis that \n",
        "# the variance is homogeneous across our data\n",
        "\n",
        "if (test_result > critical_value):\n",
        "  print('The variances are unequal, and the model should be reassessed')\n",
        "else:\n",
        "  print('The variances are homogeneous!')"
      ],
      "execution_count": null,
      "outputs": [
        {
          "output_type": "stream",
          "text": [
            "Critical value : inf\n",
            "Probability : 1.0\n",
            "Degree of freedom : 1.0\n",
            "P Value : 4.022553020361908e-171\n",
            "Test result : 777.5899224115026\n",
            "The variances are homogeneous!\n"
          ],
          "name": "stdout"
        }
      ]
    },
    {
      "cell_type": "markdown",
      "metadata": {
        "id": "217ZxGkR4p0n"
      },
      "source": [
        "##### Residual plots "
      ]
    },
    {
      "cell_type": "code",
      "metadata": {
        "colab": {
          "base_uri": "https://localhost:8080/"
        },
        "id": "sOy4dIiH4QmF",
        "outputId": "0cce783c-61d9-408c-8676-d34b7d3cf3e5"
      },
      "source": [
        "import matplotlib.pyplot as plt\n",
        "\n",
        "plt.scatter(y_pred, residuals, color='black')\n",
        "plt.ylabel('residual')\n",
        "plt.xlabel('fitted values')\n",
        "plt.axhline(y= residuals.mean(), color='red', linewidth=1)\n",
        "plt.show()"
      ],
      "execution_count": null,
      "outputs": [
        {
          "output_type": "display_data",
          "data": {
            "image/png": "[encoded data removed]",
            "text/plain": [
              "<Figure size 432x288 with 1 Axes>"
            ]
          },
          "metadata": {
            "tags": []
          }
        }
      ]
    },
    {
      "cell_type": "markdown",
      "metadata": {
        "id": "Xz3aEWzaglT_"
      },
      "source": [
        "##### Multiple Linear Regression"
      ]
    },
    {
      "cell_type": "code",
      "metadata": {
        "id": "QzCZlnShgsPo"
      },
      "source": [
        "from sklearn.model_selection import train_test_split\n",
        "x_train, x_test, y_train, y_test = train_test_split(x, y, test_size=0.3, random_state=42)"
      ],
      "execution_count": null,
      "outputs": []
    },
    {
      "cell_type": "code",
      "metadata": {
        "id": "eTIse-pGhEax"
      },
      "source": [
        "from sklearn.linear_model import LinearRegression\n",
        "\n",
        "regressor = LinearRegression()\n",
        "regressor.fit(x_train, y_train)\n",
        "\n",
        "y_pred = regressor.predict(x_test)\n",
        "\n",
        "from sklearn import metrics"
      ],
      "execution_count": null,
      "outputs": []
    },
    {
      "cell_type": "code",
      "metadata": {
        "colab": {
          "base_uri": "https://localhost:8080/"
        },
        "id": "f7_fULn7hPkk",
        "outputId": "43329742-f963-4fb0-9fa1-e6a85caeccbc"
      },
      "source": [
        "print('Mean Absolute Error:', metrics.mean_absolute_error(y_test, y_pred))\n",
        "print('Mean Squared Error:', metrics.mean_squared_error(y_test, y_pred))\n",
        "print('Root Mean Squared Error:', np.sqrt(metrics.mean_squared_error(y_test, y_pred)))"
      ],
      "execution_count": null,
      "outputs": [
        {
          "output_type": "stream",
          "text": [
            "Mean Absolute Error: 131855.12251918833\n",
            "Mean Squared Error: 46386048822.60579\n",
            "Root Mean Squared Error: 215374.2064932702\n"
          ],
          "name": "stdout"
        }
      ]
    },
    {
      "cell_type": "code",
      "metadata": {
        "colab": {
          "base_uri": "https://localhost:8080/"
        },
        "id": "VbSWFM7WiPfi",
        "outputId": "6ba89b36-99dc-4951-facf-1660444f96ab"
      },
      "source": [
        "from sklearn.model_selection import KFold\n",
        "\n",
        "\n",
        "folds = KFold(n_splits=10)\n",
        "\n",
        "# note that if you have a KFold object, you can figure out how many folds you set up \n",
        "# for it using get_n_splits\n",
        "print('we are using ' +str(folds.get_n_splits(X)) + ' folds')\n",
        "\n",
        "# We now create and assess 5 models based on the folds we created.\n",
        "RMSES = [] # We will use this array to keep track of the RSME of each model\n",
        "count = 1 # This will just help \n",
        "for train_index, test_index in folds.split(X):\n",
        "  print('\\nTraining model ' + str(count))\n",
        "  \n",
        "  # set up the train and test based on the split determined by KFold\n",
        "  # With 5 folds, we will end up with 80% of our data in the training set, and 20% in the test set, just as above\n",
        "  x_train, x_test = x[train_index], x[test_index]\n",
        "  y_train, y_test = y[train_index], y[test_index]\n",
        "  \n",
        "  # fit a model accordingly\n",
        "  regressor = LinearRegression()  \n",
        "  regressor.fit(x_train, y_train)\n",
        "  \n",
        "  # assess the accuraccy of the model\n",
        "  y_pred = regressor.predict(x_test)\n",
        "  \n",
        "  rmse_value =  np.sqrt(metrics.mean_squared_error(y_test, y_pred))\n",
        "  RMSES.append(rmse_value)\n",
        "  \n",
        "  print('Model ' + str(count) + ' Root Mean Squared Error:',rmse_value)\n",
        "  count = count + 1"
      ],
      "execution_count": null,
      "outputs": [
        {
          "output_type": "stream",
          "text": [
            "we are using 10 folds\n",
            "\n",
            "Training model 1\n",
            "Model 1 Root Mean Squared Error: 220848.49653730477\n",
            "\n",
            "Training model 2\n",
            "Model 2 Root Mean Squared Error: 236100.12509195282\n",
            "\n",
            "Training model 3\n",
            "Model 3 Root Mean Squared Error: 202040.1554851399\n",
            "\n",
            "Training model 4\n",
            "Model 4 Root Mean Squared Error: 243158.12117008786\n",
            "\n",
            "Training model 5\n",
            "Model 5 Root Mean Squared Error: 197834.06198848676\n",
            "\n",
            "Training model 6\n",
            "Model 6 Root Mean Squared Error: 198234.83027554062\n",
            "\n",
            "Training model 7\n",
            "Model 7 Root Mean Squared Error: 194985.0002092695\n",
            "\n",
            "Training model 8\n",
            "Model 8 Root Mean Squared Error: 199985.48606752738\n",
            "\n",
            "Training model 9\n",
            "Model 9 Root Mean Squared Error: 213323.94825892514\n",
            "\n",
            "Training model 10\n",
            "Model 10 Root Mean Squared Error: 227015.51292252814\n"
          ],
          "name": "stdout"
        }
      ]
    },
    {
      "cell_type": "code",
      "metadata": {
        "colab": {
          "base_uri": "https://localhost:8080/"
        },
        "id": "OPn7KJ2XlCKi",
        "outputId": "372b5053-d171-46bb-e394-771cd056d337"
      },
      "source": [
        "np.mean(RMSES)"
      ],
      "execution_count": null,
      "outputs": [
        {
          "output_type": "execute_result",
          "data": {
            "text/plain": [
              "213352.57380067633"
            ]
          },
          "metadata": {
            "tags": []
          },
          "execution_count": 276
        }
      ]
    },
    {
      "cell_type": "markdown",
      "metadata": {
        "id": "Z1GDsUT6o4Fu"
      },
      "source": [
        "##### Quantile Regression"
      ]
    },
    {
      "cell_type": "code",
      "metadata": {
        "id": "aFv2VOgJ-HdB"
      },
      "source": [
        ""
      ],
      "execution_count": null,
      "outputs": []
    },
    {
      "cell_type": "markdown",
      "metadata": {
        "id": "AxI-5SJ3o6_q"
      },
      "source": [
        "##### Ridge Regression"
      ]
    },
    {
      "cell_type": "code",
      "metadata": {
        "id": "LkTphW5dgytI"
      },
      "source": [
        ""
      ],
      "execution_count": null,
      "outputs": []
    },
    {
      "cell_type": "markdown",
      "metadata": {
        "id": "APHIdEBEpQCD"
      },
      "source": [
        "##### Lasso Regression"
      ]
    },
    {
      "cell_type": "code",
      "metadata": {
        "id": "mJ7zpQV0gzXx"
      },
      "source": [
        ""
      ],
      "execution_count": null,
      "outputs": []
    },
    {
      "cell_type": "markdown",
      "metadata": {
        "id": "sl8HisDzpJfT"
      },
      "source": [
        "##### Elastic Net Regression"
      ]
    },
    {
      "cell_type": "code",
      "metadata": {
        "id": "pQ4Rlcfwgz9I"
      },
      "source": [
        ""
      ],
      "execution_count": null,
      "outputs": []
    },
    {
      "cell_type": "markdown",
      "metadata": {
        "id": "sFTHHoUvxRnq"
      },
      "source": [
        "## Challenge"
      ]
    }
  ]
}